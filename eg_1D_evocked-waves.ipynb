{
 "cells": [
  {
   "cell_type": "markdown",
   "metadata": {},
   "source": [
    "# Gaussian pulse evokes travelling waves in 1D SNN\n",
    "\n",
    "- https://www.nature.com/articles/ncomms4675#Sec24\n",
    "\n",
    "- https://www.nature.com/articles/ncomms4675.pdf\n",
    "\n",
    "- https://static-content.springer.com/esm/art%3A10.1038%2Fncomms4675/MediaObjects/41467_2014_BFncomms4675_MOESM1276_ESM.pdf"
   ]
  },
  {
   "cell_type": "code",
   "execution_count": 1,
   "metadata": {},
   "outputs": [],
   "source": [
    "# fileName\n",
    "\n",
    "fileName = 'eg_1D_evocked_waves' "
   ]
  },
  {
   "cell_type": "code",
   "execution_count": 2,
   "metadata": {},
   "outputs": [
    {
     "name": "stdout",
     "output_type": "stream",
     "text": [
      "Detected PyNN version 0.9.4 and Neo version 0.6.1\n"
     ]
    }
   ],
   "source": [
    "# set libs\n",
    "\n",
    "import pyNN.spiNNaker as sim\n",
    "import numpy as np\n",
    "import matplotlib.pyplot as plt"
   ]
  },
  {
   "cell_type": "code",
   "execution_count": 3,
   "metadata": {},
   "outputs": [
    {
     "name": "stderr",
     "output_type": "stream",
     "text": [
      "2021-04-11 10:38:59 INFO: Read cfg files: /home/spinnaker/sPyNNaker/lib/python3.6/site-packages/spinn_front_end_common/interface/spinnaker.cfg, /home/spinnaker/sPyNNaker/lib/python3.6/site-packages/spynnaker/pyNN/spynnaker.cfg, /home/spinnaker/.spynnaker.cfg\n",
      "2021-04-11 10:38:59 INFO: Will search these locations for binaries: /home/spinnaker/sPyNNaker/lib/python3.6/site-packages/spinn_front_end_common/common_model_binaries : /home/spinnaker/sPyNNaker/lib/python3.6/site-packages/spynnaker/pyNN/model_binaries\n",
      "2021-04-11 10:38:59 WARNING: /home/spinnaker/CNS-tutorial-2021/reports has 6 old reports that have not been closed\n",
      "2021-04-11 10:38:59 WARNING: /home/spinnaker/CNS-tutorial-2021/application_generated_data_files has 7 old reports that have not been closed\n",
      "2021-04-11 10:38:59 INFO: Setting time scale factor to 1.\n",
      "2021-04-11 10:38:59 INFO: Setting machine time step to 1000 micro-seconds.\n"
     ]
    },
    {
     "name": "stdout",
     "output_type": "stream",
     "text": [
      "['/home/spinnaker/sPyNNaker/lib/python3.6/site-packages/spinn_front_end_common/interface/spinnaker.cfg', '/home/spinnaker/sPyNNaker/lib/python3.6/site-packages/spynnaker/pyNN/spynnaker.cfg', '/home/spinnaker/.spynnaker.cfg']\n"
     ]
    },
    {
     "data": {
      "text/plain": [
       "0"
      ]
     },
     "execution_count": 3,
     "metadata": {},
     "output_type": "execute_result"
    }
   ],
   "source": [
    "# simulation setting\n",
    "\n",
    "dt         = 1          # (ms) #0.1\n",
    "simtime    = 200       # (ms)\n",
    "sim.setup(timestep = dt, \n",
    "          min_delay = 1,\n",
    "          max_delay = 14) \n"
   ]
  },
  {
   "cell_type": "code",
   "execution_count": 4,
   "metadata": {},
   "outputs": [],
   "source": [
    "# making the network \n",
    "from pyNN import space \n",
    "\n",
    "\n",
    "popName = 'network'\n",
    "\n",
    "pops = {}\n",
    "n_cells = {}\n",
    "n_cells[popName] = 1000\n",
    "\n",
    "pops[popName] = sim.Population(n_cells[popName], # number of cells\n",
    "                       sim.IF_cond_exp, # cell model\n",
    "                       sim.IF_cond_exp.default_parameters, # cell parameters\n",
    "                       structure = space.Line(dx=1.0, \n",
    "                                              x0=0.0, \n",
    "                                              y=0.0, \n",
    "                                              z=0.0),\n",
    "                       label=popName)\n",
    "\n",
    "pops[popName].record(['spikes', 'v', 'gsyn_exc', 'gsyn_inh'])\n",
    "\n"
   ]
  },
  {
   "cell_type": "code",
   "execution_count": 5,
   "metadata": {},
   "outputs": [
    {
     "data": {
      "application/vnd.jupyter.widget-view+json": {
       "model_id": "76c5ccecbe2d4876acc2235e5fb18cbc",
       "version_major": 2,
       "version_minor": 0
      },
      "text/plain": [
       "Canvas(toolbar=Toolbar(toolitems=[('Home', 'Reset original view', 'home', 'home'), ('Back', 'Back to previous …"
      ]
     },
     "metadata": {},
     "output_type": "display_data"
    }
   ],
   "source": [
    "\n",
    "# select 750 excitatory cells and 250 inhibitory cells\n",
    "import random\n",
    "\n",
    "n_cells = {}\n",
    "n_cells['network'] = 1000\n",
    "n_cells['Exc'] = 750\n",
    "n_cells['Inh'] = 250\n",
    "\n",
    "idx_cells = {}\n",
    "idx_cells['Tot'] = np.arange(0, n_cells['network'])\n",
    "idx_cells['Exc'] = np.sort(random.sample(list(idx_cells['Tot']), n_cells['Exc']))\n",
    "idx_cells['Inh'] = np.sort(list(set(idx_cells['Tot']) - set(idx_cells['Exc'])))\n",
    "\n",
    "#for cell in idx_cells['Exc']:\n",
    "    #print(cell)\n",
    "\n",
    "def compute_manual_list(idx_cells_i, idx_cells_j, weights, d_thresh, p_thresh, width): \n",
    "        v_c = 0.35 # m/s\n",
    "        d0 = 1 #ms\n",
    "        scale = 1\n",
    "\n",
    "        connections = {}\n",
    "        probabilities = {}\n",
    "        distances = {}\n",
    "\n",
    "        connections = []\n",
    "        probabilities = []\n",
    "        distances = []\n",
    "        for pre in idx_cells_i:\n",
    "            for post in idx_cells_j:\n",
    "                d_ij = np.sqrt((pre - post)**2)\n",
    "                delay = d0 + d_ij / v_c\n",
    "                if d_ij > d_thresh: \n",
    "                    distances.append(d_ij)\n",
    "                    p_ij = scale*np.exp(-0.5 * (d_ij**2/width**2))\n",
    "                    probabilities.append(p_ij)\n",
    "\n",
    "                    if p_ij > p_thresh:\n",
    "                        connections.append([pre, post, weights, delay])#, [d_ij, p_ij]])\n",
    "\n",
    "        return connections, distances, probabilities\n",
    "        \n",
    "# computation step\n",
    "weight = {('Exc', 'Tot') : 0.018,\n",
    "          ('Inh', 'Tot') : 0.180,\n",
    "          }\n",
    "\n",
    "d_thresh = {('Exc', 'Tot') : 0.0,\n",
    "          ('Inh', 'Tot') : 0.0,\n",
    "          }\n",
    "\n",
    "\n",
    "p_thresh = {('Exc', 'Tot') : 0.01,\n",
    "          ('Inh', 'Tot') : 0.01,\n",
    "          }\n",
    "\n",
    "\n",
    "width = {('Exc', 'Tot') : 1,\n",
    "          ('Inh', 'Tot') : 1,\n",
    "          }\n",
    "\n",
    "\n",
    "connections = {}\n",
    "distances = {}\n",
    "probabilities = {}\n",
    "\n",
    "for i in ['Exc', 'Inh']:\n",
    "    connections[i,'Tot'], distances[i,'Tot'], probabilities[i,'Tot'] = compute_manual_list(idx_cells[i], \n",
    "                                                                           idx_cells['Tot'], \n",
    "                                                                           weight[i, 'Tot'], \n",
    "                                                                           d_thresh[i, 'Tot'], \n",
    "                                                                           p_thresh[i, 'Tot'], \n",
    "                                                                           width[i, 'Tot'])\n",
    "\n",
    "do_run=True\n",
    "if do_run:\n",
    "    # visual check, e.g. with Exc > Exc\n",
    "    fig, ax = plt.subplots(1,2, figsize=(11,5))\n",
    "    fig.tight_layout(pad=3)\n",
    "    axes_list = fig.axes\n",
    "\n",
    "    axes_list[0].plot(np.asarray(connections['Exc', 'Tot']).T[0], np.asarray(connections['Exc', 'Tot']).T[1],'go', label='Exc (i) - Tot (j)')\n",
    "    axes_list[0].plot(np.asarray(connections['Inh', 'Tot']).T[0], np.asarray(connections['Inh', 'Tot']).T[1],'r+', label='Inh (i) - Tot (j)')\n",
    "    axes_list[0].plot(np.unique(np.asarray(connections['Exc', 'Tot']).T[0]), idx_cells['Exc'], 'ko')\n",
    "    axes_list[0].plot(np.unique(np.asarray(connections['Inh', 'Tot']).T[0]), idx_cells['Inh'], 'y+')\n",
    "\n",
    "    axes_list[0].grid()\n",
    "    axes_list[0].legend()\n",
    "    axes_list[0].set_title('scatter plot of connections')\n",
    "    axes_list[0].set_xlabel('i cells')\n",
    "    axes_list[0].set_ylabel('j cells')\n",
    "    axes_list[0].set_xlim(500,525)\n",
    "    axes_list[0].set_ylim(500,525)\n",
    "\n",
    "    axes_list[1].plot(distances['Exc', 'Tot'],probabilities['Exc', 'Tot'],'g+')\n",
    "    axes_list[1].plot(distances['Inh', 'Tot'],probabilities['Inh', 'Tot'],'r+')\n",
    "\n",
    "    axes_list[1].plot(np.arange(0, 50), 1*np.exp(-0.5 * (np.arange(0, 50)**2/width['Exc', 'Tot']**2)), 'g:')\n",
    "    axes_list[1].plot(np.arange(0, 50), 1*np.exp(-0.5 * (np.arange(0, 50)**2/width['Inh', 'Tot']**2)), 'r:')\n",
    "\n",
    "    axes_list[1].grid()\n",
    "    axes_list[1].set_xlim(0,15)\n",
    "    axes_list[1].set_ylim(0,1)\n",
    "    axes_list[1].axhline(p_thresh['Inh', 'Tot'], color='k', label='p_threshold', )\n",
    "    axes_list[1].set_title('probability as function of distance')\n",
    "    axes_list[1].set_xlabel('distance')\n",
    "    axes_list[1].set_ylabel('probability')\n",
    "    axes_list[1].legend()"
   ]
  },
  {
   "cell_type": "code",
   "execution_count": 6,
   "metadata": {},
   "outputs": [
    {
     "data": {
      "text/plain": [
       "\"\\n%matplotlib\\nplt.plot(np.unique(np.asarray(connections['Exc', 'Tot']).T[0]), idx_cells['Exc'], '+')\\nplt.plot(np.unique(np.asarray(connections['Inh', 'Tot']).T[0]), idx_cells['Inh'], 'o')\\nplt.xlim(500,525)\\nplt.ylim(500,525)\\nlen(np.unique(np.asarray(connections['Exc', 'Tot']).T[0])), len(np.unique(np.asarray(connections['Inh', 'Tot']).T[0]))\\n\""
      ]
     },
     "execution_count": 6,
     "metadata": {},
     "output_type": "execute_result"
    }
   ],
   "source": [
    "\"\"\"\n",
    "%matplotlib\n",
    "plt.plot(np.unique(np.asarray(connections['Exc', 'Tot']).T[0]), idx_cells['Exc'], '+')\n",
    "plt.plot(np.unique(np.asarray(connections['Inh', 'Tot']).T[0]), idx_cells['Inh'], 'o')\n",
    "plt.xlim(500,525)\n",
    "plt.ylim(500,525)\n",
    "len(np.unique(np.asarray(connections['Exc', 'Tot']).T[0])), len(np.unique(np.asarray(connections['Inh', 'Tot']).T[0]))\n",
    "\"\"\"\n",
    "\n",
    "#np.unique(np.asarray(connections['Inh', 'Tot']).T[0])"
   ]
  },
  {
   "cell_type": "code",
   "execution_count": 7,
   "metadata": {},
   "outputs": [],
   "source": [
    "# make projection\n",
    "projs = {}\n",
    "\n",
    "do_run = True\n",
    "if do_run:\n",
    "    receptors = {}\n",
    "    receptors['Exc', 'Tot'] = 'excitatory'\n",
    "    receptors['Inh', 'Tot'] = 'inhibitory'\n",
    "\n",
    "    projs = {}\n",
    "    for i in ['Exc', 'Inh']:\n",
    "        projs[i,'network'] = sim.Projection(\n",
    "                                pops['network'],\n",
    "                                pops['network'],\n",
    "                                connector = sim.FromListConnector(connections[i,'Tot']), \n",
    "                                receptor_type = receptors[i,'Tot'],\n",
    "                                space = space.Space(axes = 'x'),            \n",
    "                                label = i + ' - tot',\n",
    "                            )\n",
    "            "
   ]
  },
  {
   "cell_type": "code",
   "execution_count": 8,
   "metadata": {},
   "outputs": [
    {
     "data": {
      "application/vnd.jupyter.widget-view+json": {
       "model_id": "54e1597a99ce4369a2a1ff0c70c165fd",
       "version_major": 2,
       "version_minor": 0
      },
      "text/plain": [
       "Canvas(toolbar=Toolbar(toolitems=[('Home', 'Reset original view', 'home', 'home'), ('Back', 'Back to previous …"
      ]
     },
     "metadata": {},
     "output_type": "display_data"
    }
   ],
   "source": [
    "# make the thalamic gaussian pulse\n",
    "\n",
    "popName = 'Thalamus'  \n",
    "tot_cells = n_cells['network']\n",
    "\n",
    "spike_times = [[]]*(tot_cells) #list of spike lists, where one spike list is related to one spike source\n",
    "random_sources_idx = [np.random.randint(tot_cells*0.40, tot_cells*0.60) for i in range(tot_cells)]\n",
    "\n",
    "for idx, sources in enumerate(random_sources_idx):\n",
    "    spike_times[sources] = [abs(np.random.normal(loc=50, scale=5)) for n in range(5)]\n",
    "\n",
    "\n",
    "pops[popName] = sim.Population(tot_cells, \n",
    "                               sim.SpikeSourceArray(spike_times),\n",
    "                               structure = space.Line(dx=1.0, \n",
    "                                              x0=0.0, \n",
    "                                              y=0.0, \n",
    "                                              z=0.0),\n",
    "                               \n",
    "                               label = popName)\n",
    "\n",
    "pops[popName].record('spikes')\n",
    "\n",
    "do_plot = True\n",
    "if do_plot:\n",
    "    fig, axes = plt.subplots(1,1)\n",
    "    axes_list = fig.axes\n",
    "    axes_list[0].eventplot(spike_times)\n",
    "    axes_list[0].set_xlabel('[ms]')\n",
    "    axes_list[0].set_ylabel('thalamic spike sources')\n",
    "    axes_list[0].set_title('rasterplot')\n",
    "    axes_list[0].set_xlim(0, simtime)\n"
   ]
  },
  {
   "cell_type": "code",
   "execution_count": 9,
   "metadata": {},
   "outputs": [],
   "source": [
    "# make the thalamic projections\n",
    "\n",
    "projs['Thalamus', 'Exc'] = sim.Projection(pops['Thalamus'], \n",
    "                                       pops['network'],\n",
    "                                       connector = sim.OneToOneConnector(),\n",
    "                                       synapse_type = sim.StaticSynapse(weight=0.08, delay=1),\n",
    "                                       receptor_type = 'excitatory',\n",
    "                                       space = space.Space(axes = 'x'),                                                     \n",
    "                                       label = 'Thalamus - ' + 'Exc')"
   ]
  },
  {
   "cell_type": "code",
   "execution_count": 10,
   "metadata": {},
   "outputs": [
    {
     "name": "stderr",
     "output_type": "stream",
     "text": [
      "2021-04-11 10:39:14 INFO: Simulating for 200 1.0ms timesteps using a hardware timestep of 1000us\n",
      "2021-04-11 10:39:14 INFO: Starting execution process\n",
      "2021-04-11 10:39:18 INFO: Time 0:00:03.969220 taken by SpallocMaxMachineGenerator\n",
      "Pre allocating resources for Extra Monitor support vertices\n",
      "|0%                          50%                         100%|\n",
      " ============================================================\n",
      "2021-04-11 10:39:29 INFO: Time 0:00:11.422348 taken by PreAllocateResourcesForExtraMonitorSupport\n",
      "Partitioning graph vertices\n",
      "|0%                          50%                         100%|\n",
      " ============================================================\n",
      "Partitioning graph edges\n",
      "|0%                          50%                         100%|\n",
      " ============================================================\n",
      "2021-04-11 10:39:35 INFO: Time 0:00:05.834519 taken by PartitionAndPlacePartitioner\n",
      "Created spalloc job 5932935\n",
      "2021-04-11 10:39:35 INFO: Created spalloc job 5932935\n",
      "Waiting for board power commands to complete.\n",
      "2021-04-11 10:39:35 INFO: Waiting for board power commands to complete.\n",
      "2021-04-11 10:39:40 INFO: Time 0:00:05.048545 taken by SpallocAllocator\n",
      "2021-04-11 10:39:40 INFO: Creating transceiver for 10.11.194.81\n",
      "2021-04-11 10:39:40 INFO: Working out if machine is booted\n",
      "2021-04-11 10:39:44 INFO: Attempting to boot machine\n",
      "2021-04-11 10:39:50 INFO: Found board with version [Version: SC&MP 3.2.5 at SpiNNaker:0:0:0 (built Thu Aug  1 08:15:06 2019)]\n",
      "2021-04-11 10:39:50 INFO: Machine communication successful\n",
      "2021-04-11 10:39:50 INFO: Detected a machine on IP address 10.11.194.81 which has 854 cores and 120.0 links\n",
      "2021-04-11 10:39:50 INFO: Time 0:00:09.635943 taken by MachineGenerator\n",
      "Generating partitioner report\n",
      "|0%                          50%                         100%|\n",
      " ============================================================\n",
      "2021-04-11 10:39:50 INFO: Time 0:00:00.007173 taken by PartitionerReport\n",
      "2021-04-11 10:39:50 INFO: Time 0:00:00.000663 taken by NetworkSpecificationReport\n",
      "Allocating virtual identifiers\n",
      "|0%                          50%                         100%|\n",
      " ============================================================\n",
      "2021-04-11 10:39:50 INFO: Time 0:00:00.051424 taken by MallocBasedChipIDAllocator\n",
      "Inserting extra monitors into graphs\n",
      "|0%                          50%                         100%|\n",
      " ============================================================\n",
      "2021-04-11 10:39:50 INFO: Time 0:00:00.032898 taken by InsertExtraMonitorVerticesToGraphs\n",
      "Writing the board chip report\n",
      "|0%                          50%                         100%|\n",
      " ============================================================\n",
      "2021-04-11 10:39:50 INFO: Time 0:00:00.008006 taken by BoardChipReport\n",
      "Filtering edges\n",
      "|0%                          50%                         100%|\n",
      " ======================================================/home/spinnaker/sPyNNaker/lib/python3.6/site-packages/spynnaker/pyNN/models/neural_projections/connectors/from_list_connector.py:129: VisibleDeprecationWarning: Creating an ndarray from ragged nested sequences (which is a list-or-tuple of lists-or-tuples-or ndarrays with different lengths or shapes) is deprecated. If you meant to do this, you must specify 'dtype=object' when creating the ndarray\n",
      "  sort_indices, numpy.cumsum(index_count)))\n",
      "======\n",
      "2021-04-11 10:39:50 INFO: Time 0:00:00.080081 taken by GraphEdgeFilter\n",
      "Placing graph vertices\n",
      "|0%                          50%                         100%|\n",
      " ============================================================\n",
      "2021-04-11 10:39:50 INFO: Time 0:00:00.046346 taken by OneToOnePlacer\n",
      "Inserting edges between vertices which require FR speed up functionality.\n",
      "|0%                          50%                         100%|\n",
      " ============================================================\n",
      "2021-04-11 10:39:50 INFO: Time 0:00:00.056933 taken by InsertEdgesToExtraMonitorFunctionality\n",
      "Generating routing tables for data in system processes\n",
      "|0%                          50%                         100%|\n",
      " ============================================================\n",
      "2021-04-11 10:39:50 INFO: Time 0:00:00.009144 taken by DataInMulticastRoutingGenerator\n",
      "Generating fixed router routes\n",
      "|0%                          50%                         100%|\n",
      " ============================================================\n",
      "2021-04-11 10:39:50 INFO: Time 0:00:00.017048 taken by FixedRouteRouter\n",
      "Generating placement report\n",
      "|0%                          50%                         100%|\n",
      " ============================================================\n",
      "Generating placement by core report\n",
      "|0%                          50%                         100%|\n",
      " ============================================================\n",
      "2021-04-11 10:39:50 INFO: Time 0:00:00.062949 taken by PlacerReportWithApplicationGraph\n",
      "Routing\n",
      "|0%                          50%                         100%|\n",
      " ============================================================\n",
      "\n",
      "2021-04-11 10:39:50 INFO: Time 0:00:00.031160 taken by NerRoute\n",
      "Discovering tags\n",
      "|0%                          50%                         100%|\n",
      " ============================================================\n",
      "Allocating tags\n",
      "|0%                          50%                         100%|\n",
      " ============================================================\n",
      "2021-04-11 10:39:50 INFO: Time 0:00:00.038317 taken by BasicTagAllocator\n",
      "Reporting Tags\n",
      "|0%                          50%                         100%|\n",
      " ============================================================\n",
      "2021-04-11 10:39:50 INFO: Time 0:00:00.006183 taken by TagReport\n",
      "Getting number of keys required by each edge using application graph\n",
      "|0%                          50%                         100%|\n",
      " ============================================================\n",
      "2021-04-11 10:39:50 INFO: Time 0:00:00.027571 taken by EdgeToNKeysMapper\n",
      "Getting constraints for application graph\n",
      "|0%                          50%                         100%|\n",
      " ============================================================\n",
      "2021-04-11 10:39:50 INFO: Time 0:00:00.062034 taken by ProcessPartitionConstraints\n",
      "Allocating routing keys\n",
      "|0%                          50%                         100%|\n",
      " ============================================================\n",
      "2021-04-11 10:39:50 INFO: Time 0:00:00.022424 taken by MallocBasedRoutingInfoAllocator\n",
      "Generating Routing info report\n",
      "|0%                          50%                         100%|\n",
      " ============================================================\n",
      "2021-04-11 10:39:50 INFO: Time 0:00:00.028713 taken by routingInfoReports\n",
      "Generating routing tables\n",
      "|0%                          50%                         100%|\n",
      " ============================================================\n",
      "2021-04-11 10:39:50 INFO: Time 0:00:00.028127 taken by BasicRoutingTableGenerator\n",
      "Finding executable start types\n",
      "|0%                          50%                         100%|\n",
      " ============================================================\n",
      "2021-04-11 10:39:51 INFO: Time 0:00:00.046418 taken by LocateExecutableStartType\n",
      "Initialising buffers\n",
      "|0%                          50%                         100%|\n",
      " ============================================================\n",
      "2021-04-11 10:39:51 INFO: Time 0:00:00.032889 taken by BufferManagerCreator\n",
      "Generating data specifications\n",
      "|0%                          50%                         100%|\n",
      " ============================================================\n",
      "2021-04-11 10:39:51 INFO: Time 0:00:00.302940 taken by SpynnakerDataSpecificationWriter\n",
      "Preparing Routing Tables\n",
      "|0%                          50%                         100%|\n",
      " ============================================================\n",
      "2021-04-11 10:39:51 INFO: Time 0:00:00.007399 taken by RoutingSetup\n",
      "Finding binaries\n",
      "|0%                          50%                         100%|\n",
      " ============================================================\n",
      "2021-04-11 10:39:51 INFO: Time 0:00:00.046995 taken by GraphBinaryGatherer\n",
      "Running routing table compression on chip\n",
      "|0%                          50%                         100%|\n",
      " ============================================================\n",
      "2021-04-11 10:39:56 INFO: Time 0:00:04.516904 taken by MundyOnChipRouterCompression\n",
      "Generating Router table report\n",
      "|0%                          50%                         100%|\n",
      " ============================================================\n",
      "2021-04-11 10:39:56 INFO: Time 0:00:00.011860 taken by unCompressedRoutingTableReports\n",
      "loading fixed routes\n",
      "|0%                          50%                         100%|\n",
      " ============================================================\n",
      "2021-04-11 10:39:56 INFO: Time 0:00:00.047302 taken by LoadFixedRoutes\n",
      "Executing data specifications and loading data for system vertices\n",
      "|0%                          50%                         100%|\n",
      " ============================================================\n",
      "2021-04-11 10:39:56 INFO: Time 0:00:00.160415 taken by HostExecuteSystemDataSpecification\n",
      "Loading system executables onto the machine\n",
      "|0%                          50%                         100%|\n",
      " ============================================================\n",
      "2021-04-11 10:40:01 INFO: Time 0:00:05.721035 taken by LoadSystemExecutableImages\n",
      "Clearing tags\n",
      "|0%                          50%                         100%|\n",
      " ============================================================\n",
      "Loading Tags\n",
      "|0%                          50%                         100%|\n",
      " ============================================================\n",
      "2021-04-11 10:40:01 INFO: Time 0:00:00.025406 taken by TagsLoader\n",
      "Writing data\n",
      "|0%                          50%                         100%|\n",
      " ============================================================\n",
      "2021-04-11 10:40:02 INFO: Time 0:00:00.036208 taken by WriteMemoryIOData\n",
      "Executing data specifications and loading data for application vertices\n",
      "|0%                          50%                         100%|\n",
      " ============================================================\n",
      "2021-04-11 10:40:02 INFO: Time 0:00:00.398830 taken by HostExecuteApplicationDataSpecification\n",
      "Expanding Synapses\n",
      "|0%                          50%                         100%|\n",
      " ============================================================\n",
      "2021-04-11 10:40:06 INFO: Time 0:00:03.900341 taken by SynapseExpander\n",
      "Writing fixed route report\n",
      "|0%                          50%                         100%|\n",
      " ============================================================\n",
      "2021-04-11 10:40:06 INFO: Time 0:00:00.051827 taken by FixedRouteFromMachineReport\n",
      "Loading executables onto the machine\n",
      "|0%                          50%                         100%|\n",
      " ============================================================\n",
      "2021-04-11 10:40:13 INFO: Time 0:00:06.772448 taken by LoadApplicationExecutableImages\n",
      "Reading Routing Tables from Machine\n",
      "|0%                          50%                         100%|\n",
      " ============================================================\n",
      "2021-04-11 10:40:13 INFO: Time 0:00:00.021700 taken by RoutingTableFromMachineReport\n",
      "Generating compressed router table report\n",
      "|0%                          50%                         100%|\n",
      " ============================================================\n",
      "2021-04-11 10:40:13 INFO: Time 0:00:00.015678 taken by compressedRoutingTableReports\n",
      "Generating comparison of router table report\n",
      "|0%                          50%                         100%|\n",
      " ============================================================\n",
      "2021-04-11 10:40:13 INFO: Time 0:00:00.006044 taken by comparisonOfRoutingTablesReport\n",
      "2021-04-11 10:40:13 INFO: Running for 1 steps for a total of 200.0ms\n",
      "2021-04-11 10:40:13 INFO: Run 1 of 1\n",
      "Generating SDRAM usage report\n",
      "|0%                          50%                         100%|\n",
      " ============================================================\n",
      "2021-04-11 10:40:13 INFO: Time 0:00:00.088507 taken by SdramUsageReportPerChip\n",
      "Updating run time\n",
      "|0%                          50%                         100%|\n",
      " ============================================================\n",
      "2021-04-11 10:40:13 INFO: Time 0:00:00.028551 taken by ChipRuntimeUpdater\n",
      "2021-04-11 10:40:13 INFO: creating live event connection database in /home/spinnaker/CNS-tutorial-2021/application_generated_data_files/2021-04-11-10-38-59-967441/run_1/input_output_database.db\n",
      "Creating graph description database\n",
      "|0%                          50%                         100%|\n",
      " ============================================================\n",
      "2021-04-11 10:40:13 INFO: Time 0:00:00.094182 taken by DatabaseInterface\n",
      "2021-04-11 10:40:13 INFO: ** Notifying external sources that the database is ready for reading **\n",
      "2021-04-11 10:40:13 INFO: Time 0:00:00.001344 taken by NotificationProtocol\n",
      "2021-04-11 10:40:13 INFO: *** Running simulation... *** \n",
      "Loading buffers\n",
      "|0%                          50%                         100%|\n",
      " ============================================================\n",
      "2021-04-11 10:40:13 INFO: ** Awaiting for a response from an external source to state its ready for the simulation to start **\n",
      "2021-04-11 10:40:13 INFO: ** Sending start / resume message to external sources to state the simulation has started or resumed. **\n",
      "2021-04-11 10:40:13 INFO: ** Awaiting for a response from an external source to state its ready for the simulation to start **\n",
      "2021-04-11 10:40:13 INFO: Application started; waiting 0.30000000000000004s for it to stop\n",
      "2021-04-11 10:40:13 INFO: ** Sending pause / stop message to external sources to state the simulation has been paused or stopped. **\n",
      "2021-04-11 10:40:13 INFO: Time 0:00:00.400801 taken by ApplicationRunner\n",
      "Extracting buffers from the last run\n",
      "|0%                          50%                         100%|\n",
      " ============================================================\n",
      "2021-04-11 10:40:14 INFO: Time 0:00:00.674885 taken by BufferExtractor\n",
      "Getting provenance data from machine graph\n",
      "|0%                          50%                         100%|\n",
      " ============================================================\n",
      "Getting provenance data from application graph\n",
      "|0%                          50%                         100%|\n",
      " ============================================================\n",
      "2021-04-11 10:40:14 INFO: Time 0:00:00.103895 taken by GraphProvenanceGatherer\n",
      "Getting provenance data\n",
      "|0%                          50%                         100%|\n",
      " ============================================================\n",
      "2021-04-11 10:40:14 INFO: Time 0:00:00.046779 taken by PlacementsProvenanceGatherer\n",
      "Getting Router Provenance\n",
      "|0%                          50%                         100%|\n",
      " ============================================================\n",
      "2021-04-11 10:40:14 INFO: Time 0:00:00.061556 taken by RouterProvenanceGatherer\n",
      "Getting profile data\n",
      "|0%                          50%                         100%|\n",
      " ============================================================\n",
      "2021-04-11 10:40:14 INFO: Time 0:00:00.038854 taken by ProfileDataGatherer\n"
     ]
    },
    {
     "data": {
      "text/plain": [
       "200.0"
      ]
     },
     "execution_count": 10,
     "metadata": {},
     "output_type": "execute_result"
    }
   ],
   "source": [
    "# run simulation\n",
    "\n",
    "sim.run(simtime) # simtime=500 [ms]"
   ]
  },
  {
   "cell_type": "code",
   "execution_count": null,
   "metadata": {},
   "outputs": [],
   "source": []
  },
  {
   "cell_type": "code",
   "execution_count": 11,
   "metadata": {},
   "outputs": [
    {
     "name": "stderr",
     "output_type": "stream",
     "text": [
      "Getting spikes for network\n",
      "|0%                          50%                         100%|\n",
      " ============================================================\n",
      "Getting v for network\n",
      "|0%                          50%                         100%|\n",
      " ============================================================\n",
      "Getting gsyn_exc for network\n",
      "|0%                          50%                         100%|\n",
      " ============================================================\n",
      "Getting gsyn_inh for network\n",
      "|0%                          50%                         100%|\n",
      " ============================================================\n",
      "Getting spikes for network\n",
      "|0%                          50%                         100%|\n",
      " ============================================================\n",
      "Getting v for network\n",
      "|0%                          50%                         100%|\n",
      " ============================================================\n",
      "Getting gsyn_exc for network\n",
      "|0%                          50%                         100%|\n",
      " ============================================================\n",
      "Getting gsyn_inh for network\n",
      "|0%                          50%                         100%|\n",
      " ============================================================\n",
      "Getting spikes for network\n",
      "|0%                          50%                         100%|\n",
      " ============================================================\n",
      "Getting v for network\n",
      "|0%                          50%                         100%|\n",
      " ============================================================\n",
      "Getting gsyn_exc for network\n",
      "|0%                          50%                         100%|\n",
      " ============================================================\n",
      "Getting gsyn_inh for network\n",
      "|0%                          50%                         100%|\n",
      " ============================================================\n",
      "Getting spikes for network\n",
      "|0%                          50%                         100%|\n",
      " ============================================================\n",
      "Getting v for network\n",
      "|0%                          50%                         100%|\n",
      " ============================================================\n",
      "Getting gsyn_exc for network\n",
      "|0%                          50%                         100%|\n",
      " ============================================================\n",
      "Getting gsyn_inh for network\n",
      "|0%                          50%                         100%|\n",
      " ============================================================\n",
      "Getting spikes for network\n",
      "|0%                          50%                         100%|\n",
      " ============================================================\n",
      "Getting v for network\n",
      "|0%                          50%                         100%|\n",
      " ============================================================\n",
      "Getting gsyn_exc for network\n",
      "|0%                          50%                         100%|\n",
      " ============================================================\n",
      "Getting gsyn_inh for network\n",
      "|0%                          50%                         100%|\n",
      " ============================================================\n"
     ]
    }
   ],
   "source": [
    "# save the results\n",
    "outputs = {}\n",
    "\n",
    "\n",
    "outputs['network'] = pops['network'].get_data()\n",
    "for recording in ['v', 'gsyn_inh', 'gsyn_exc', 'spikes']:\n",
    "    pops['network'].write_data(fileName + '_' + str(recording) + '.pkl')"
   ]
  },
  {
   "cell_type": "code",
   "execution_count": 12,
   "metadata": {},
   "outputs": [],
   "source": [
    "def recover_results(outputs):\n",
    "    results = {}\n",
    "    for key in outputs.keys(): # to extract the name of the layer, e.g., Exc, Inh, Thalamus, etc  \n",
    "        \n",
    "        # to get voltage and conductances\n",
    "        for analogsignal in outputs[key].segments[0].analogsignals:\n",
    "            print(analogsignal.name)\n",
    "            results[key, analogsignal.name] = analogsignal\n",
    "\n",
    "        # to get spikes\n",
    "        results[key, 'spikes'] = outputs[key].segments[0].spiketrains\n",
    "    return results"
   ]
  },
  {
   "cell_type": "code",
   "execution_count": 13,
   "metadata": {},
   "outputs": [
    {
     "name": "stdout",
     "output_type": "stream",
     "text": [
      "v\n",
      "gsyn_exc\n",
      "gsyn_inh\n"
     ]
    },
    {
     "data": {
      "text/plain": [
       "dict_keys([('network', 'v'), ('network', 'gsyn_exc'), ('network', 'gsyn_inh'), ('network', 'spikes')])"
      ]
     },
     "execution_count": 13,
     "metadata": {},
     "output_type": "execute_result"
    }
   ],
   "source": [
    "# check results\n",
    "\n",
    "results = recover_results(outputs)\n",
    "results.keys()"
   ]
  },
  {
   "cell_type": "code",
   "execution_count": 14,
   "metadata": {},
   "outputs": [
    {
     "data": {
      "application/vnd.jupyter.widget-view+json": {
       "model_id": "70c1eb8e4eb4425cb41ee95dc3e660fa",
       "version_major": 2,
       "version_minor": 0
      },
      "text/plain": [
       "Canvas(toolbar=Toolbar(toolitems=[('Home', 'Reset original view', 'home', 'home'), ('Back', 'Back to previous …"
      ]
     },
     "metadata": {},
     "output_type": "display_data"
    },
    {
     "data": {
      "text/plain": [
       "<matplotlib.colorbar.Colorbar at 0x7fa6a601fb00>"
      ]
     },
     "execution_count": 14,
     "metadata": {},
     "output_type": "execute_result"
    }
   ],
   "source": [
    "# check the state variable\n",
    "\n",
    "fig, axes = plt.subplots(1, 1, figsize=(5,9))\n",
    "fig.tight_layout(pad=5)\n",
    "fig.suptitle('rasterplot and voltage plot')\n",
    "axes_list = fig.axes\n",
    "idx = 0\n",
    "value = 'network'\n",
    "axes_list[idx].eventplot(results[value, 'spikes'], colors='r')\n",
    "imv = axes_list[idx].imshow(results[value, 'v'].T)\n",
    "axes_list[idx].set_title(str(value) + ' layer')\n",
    "axes_list[idx].set_xlabel('[ms]')\n",
    "axes_list[idx].set_ylabel('cells')\n",
    "axes_list[idx].set_xlim(0, simtime)\n",
    "fig.colorbar(imv, ax=axes_list[idx], fraction=0.020, label='[mV]')\n",
    "    \n",
    "\n"
   ]
  },
  {
   "cell_type": "code",
   "execution_count": 15,
   "metadata": {},
   "outputs": [],
   "source": [
    "#results['Exc', 'spikes']"
   ]
  },
  {
   "cell_type": "code",
   "execution_count": 16,
   "metadata": {},
   "outputs": [
    {
     "data": {
      "application/vnd.jupyter.widget-view+json": {
       "model_id": "3695541de90041bd95120533a7d21695",
       "version_major": 2,
       "version_minor": 0
      },
      "text/plain": [
       "Canvas(toolbar=Toolbar(toolitems=[('Home', 'Reset original view', 'home', 'home'), ('Back', 'Back to previous …"
      ]
     },
     "metadata": {},
     "output_type": "display_data"
    }
   ],
   "source": [
    "# check the conductances\n",
    "\n",
    " \n",
    "fig, axes = plt.subplots(1, 2)\n",
    "fig.tight_layout(pad=5)\n",
    "axes_list = fig.axes\n",
    "fig.suptitle('rasterplot and gsyn plot of network')\n",
    "layer = 'network'\n",
    "for idx, gsyn in enumerate(['gsyn_exc', 'gsyn_inh']):\n",
    "\n",
    "    #axes_list[idx].eventplot(results[value, 'spikes'], colors='r')\n",
    "    im = axes_list[idx].imshow(results[layer, gsyn].T)\n",
    "    axes_list[idx].set_title(str(gsyn))\n",
    "    axes_list[idx].set_xlabel('time [ms]')\n",
    "    axes_list[idx].set_ylabel('cells')\n",
    "    axes_list[idx].set_xlim(0, simtime)\n",
    "    fig.colorbar(im, ax=axes_list[idx], fraction=0.020, label='[uS]')"
   ]
  },
  {
   "cell_type": "code",
   "execution_count": 17,
   "metadata": {},
   "outputs": [
    {
     "data": {
      "text/plain": [
       "{('Exc', 'network'): projection Exc - tot,\n",
       " ('Inh', 'network'): projection Inh - tot,\n",
       " ('Thalamus', 'Exc'): projection Thalamus - Exc}"
      ]
     },
     "execution_count": 17,
     "metadata": {},
     "output_type": "execute_result"
    }
   ],
   "source": [
    "#.get(['source', 'target', 'weight', 'delay'], format='list')\n",
    "projs"
   ]
  },
  {
   "cell_type": "code",
   "execution_count": 18,
   "metadata": {},
   "outputs": [
    {
     "name": "stderr",
     "output_type": "stream",
     "text": [
      "2021-04-11 10:40:16 WARNING: Ignoring request to get source as with_address=True. \n",
      "2021-04-11 10:40:16 WARNING: Ignoring request to get target as with_address=True. \n",
      "Getting ['source', 'target', 'weight', 'delay']s for projection between network and network\n",
      "|0%                          50%                         100%|\n",
      " ============================================================\n"
     ]
    },
    {
     "data": {
      "text/plain": [
       "array([( 0,  1, 0.01800156,  4.), ( 0,  2, 0.01800156,  7.),\n",
       "       ( 0,  3, 0.01800156, 10.), ( 1,  0, 0.01800156,  4.),\n",
       "       ( 1,  2, 0.01800156,  4.), ( 1,  3, 0.01800156,  7.),\n",
       "       ( 1,  4, 0.01800156, 10.), ( 2,  0, 0.01800156,  7.),\n",
       "       ( 2,  1, 0.01800156,  4.), ( 2,  3, 0.01800156,  4.),\n",
       "       ( 2,  4, 0.01800156,  7.), ( 2,  5, 0.01800156, 10.),\n",
       "       ( 3,  0, 0.01800156, 10.), ( 3,  1, 0.01800156,  7.),\n",
       "       ( 3,  2, 0.01800156,  4.), ( 3,  4, 0.01800156,  4.),\n",
       "       ( 3,  5, 0.01800156,  7.), ( 3,  6, 0.01800156, 10.),\n",
       "       ( 4,  1, 0.01800156, 10.), ( 4,  2, 0.01800156,  7.),\n",
       "       ( 4,  3, 0.01800156,  4.), ( 4,  5, 0.01800156,  4.),\n",
       "       ( 4,  6, 0.01800156,  7.), ( 4,  7, 0.01800156, 10.),\n",
       "       ( 5,  2, 0.01800156, 10.), ( 5,  3, 0.01800156,  7.),\n",
       "       ( 5,  4, 0.01800156,  4.), ( 5,  6, 0.01800156,  4.),\n",
       "       ( 5,  7, 0.01800156,  7.), ( 5,  8, 0.01800156, 10.),\n",
       "       ( 7,  4, 0.01800156, 10.), ( 7,  5, 0.01800156,  7.),\n",
       "       ( 7,  6, 0.01800156,  4.), ( 7,  8, 0.01800156,  4.),\n",
       "       ( 7,  9, 0.01800156,  7.), ( 7, 10, 0.01800156, 10.),\n",
       "       ( 8,  5, 0.01800156, 10.), ( 8,  6, 0.01800156,  7.),\n",
       "       ( 8,  7, 0.01800156,  4.), ( 8,  9, 0.01800156,  4.),\n",
       "       ( 8, 10, 0.01800156,  7.), ( 8, 11, 0.01800156, 10.),\n",
       "       ( 9,  6, 0.01800156, 10.), ( 9,  7, 0.01800156,  7.),\n",
       "       ( 9,  8, 0.01800156,  4.), ( 9, 10, 0.01800156,  4.),\n",
       "       ( 9, 11, 0.01800156,  7.), ( 9, 12, 0.01800156, 10.),\n",
       "       (10,  7, 0.01800156, 10.), (10,  8, 0.01800156,  7.),\n",
       "       (10,  9, 0.01800156,  4.), (10, 11, 0.01800156,  4.),\n",
       "       (10, 12, 0.01800156,  7.), (10, 13, 0.01800156, 10.),\n",
       "       (11,  8, 0.01800156, 10.), (11,  9, 0.01800156,  7.),\n",
       "       (11, 10, 0.01800156,  4.), (11, 12, 0.01800156,  4.),\n",
       "       (11, 13, 0.01800156,  7.), (11, 14, 0.01800156, 10.),\n",
       "       (12,  9, 0.01800156, 10.), (12, 10, 0.01800156,  7.),\n",
       "       (12, 11, 0.01800156,  4.), (12, 13, 0.01800156,  4.),\n",
       "       (12, 14, 0.01800156,  7.), (12, 15, 0.01800156, 10.),\n",
       "       (13, 10, 0.01800156, 10.), (13, 11, 0.01800156,  7.),\n",
       "       (13, 12, 0.01800156,  4.), (13, 14, 0.01800156,  4.),\n",
       "       (13, 15, 0.01800156,  7.), (13, 16, 0.01800156, 10.),\n",
       "       (14, 11, 0.01800156, 10.), (14, 12, 0.01800156,  7.),\n",
       "       (14, 13, 0.01800156,  4.), (14, 15, 0.01800156,  4.),\n",
       "       (14, 16, 0.01800156,  7.), (14, 17, 0.01800156, 10.),\n",
       "       (15, 12, 0.01800156, 10.), (15, 13, 0.01800156,  7.),\n",
       "       (15, 14, 0.01800156,  4.), (15, 16, 0.01800156,  4.),\n",
       "       (15, 17, 0.01800156,  7.), (15, 18, 0.01800156, 10.),\n",
       "       (18, 15, 0.01800156, 10.), (18, 16, 0.01800156,  7.),\n",
       "       (18, 17, 0.01800156,  4.), (18, 19, 0.01800156,  4.),\n",
       "       (18, 20, 0.01800156,  7.), (18, 21, 0.01800156, 10.),\n",
       "       (19, 16, 0.01800156, 10.), (19, 17, 0.01800156,  7.),\n",
       "       (19, 18, 0.01800156,  4.), (19, 20, 0.01800156,  4.),\n",
       "       (19, 21, 0.01800156,  7.), (19, 22, 0.01800156, 10.),\n",
       "       (21, 18, 0.01800156, 10.), (21, 19, 0.01800156,  7.),\n",
       "       (21, 20, 0.01800156,  4.), (21, 22, 0.01800156,  4.)],\n",
       "      dtype=[('source', '<u4'), ('target', '<u4'), ('weight', '<f8'), ('delay', '<f8')])"
      ]
     },
     "execution_count": 18,
     "metadata": {},
     "output_type": "execute_result"
    }
   ],
   "source": [
    "projs['Exc', 'network'].get(['source', 'target', 'weight', 'delay'], format='list')[0:100]"
   ]
  },
  {
   "cell_type": "code",
   "execution_count": null,
   "metadata": {},
   "outputs": [],
   "source": []
  },
  {
   "cell_type": "code",
   "execution_count": null,
   "metadata": {},
   "outputs": [],
   "source": []
  }
 ],
 "metadata": {
  "kernelspec": {
   "display_name": "sPyNNaker",
   "language": "python",
   "name": "spynnaker"
  },
  "language_info": {
   "codemirror_mode": {
    "name": "ipython",
    "version": 3
   },
   "file_extension": ".py",
   "mimetype": "text/x-python",
   "name": "python",
   "nbconvert_exporter": "python",
   "pygments_lexer": "ipython3",
   "version": "3.6.9"
  }
 },
 "nbformat": 4,
 "nbformat_minor": 4
}
