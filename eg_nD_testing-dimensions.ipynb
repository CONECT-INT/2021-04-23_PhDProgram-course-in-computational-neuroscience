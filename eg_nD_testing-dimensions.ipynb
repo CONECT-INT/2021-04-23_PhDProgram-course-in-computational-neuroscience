{
 "cells": [
  {
   "cell_type": "markdown",
   "metadata": {},
   "source": [
    "# testing different cells dispositions in the space\n"
   ]
  },
  {
   "cell_type": "code",
   "execution_count": 1,
   "metadata": {},
   "outputs": [],
   "source": [
    "# fileName\n",
    "\n",
    "fileName = 'eg003_testing_dimensions'"
   ]
  },
  {
   "cell_type": "code",
   "execution_count": 2,
   "metadata": {},
   "outputs": [
    {
     "name": "stdout",
     "output_type": "stream",
     "text": [
      "Detected PyNN version 0.9.4 and Neo version 0.6.1\n"
     ]
    }
   ],
   "source": [
    "# set libs\n",
    "\n",
    "import pyNN.spiNNaker as sim\n",
    "from pyNN import space \n",
    "import numpy as np\n",
    "import matplotlib.pyplot as plt\n"
   ]
  },
  {
   "cell_type": "code",
   "execution_count": 3,
   "metadata": {},
   "outputs": [
    {
     "name": "stderr",
     "output_type": "stream",
     "text": [
      "2021-04-10 15:25:06 INFO: Read cfg files: /home/spinnaker/sPyNNaker/lib/python3.6/site-packages/spinn_front_end_common/interface/spinnaker.cfg, /home/spinnaker/sPyNNaker/lib/python3.6/site-packages/spynnaker/pyNN/spynnaker.cfg, /home/spinnaker/.spynnaker.cfg\n",
      "2021-04-10 15:25:06 INFO: Will search these locations for binaries: /home/spinnaker/sPyNNaker/lib/python3.6/site-packages/spinn_front_end_common/common_model_binaries : /home/spinnaker/sPyNNaker/lib/python3.6/site-packages/spynnaker/pyNN/model_binaries\n",
      "2021-04-10 15:25:06 INFO: Setting time scale factor to 1.\n",
      "2021-04-10 15:25:06 INFO: Setting machine time step to 1000 micro-seconds.\n"
     ]
    },
    {
     "name": "stdout",
     "output_type": "stream",
     "text": [
      "['/home/spinnaker/sPyNNaker/lib/python3.6/site-packages/spinn_front_end_common/interface/spinnaker.cfg', '/home/spinnaker/sPyNNaker/lib/python3.6/site-packages/spynnaker/pyNN/spynnaker.cfg', '/home/spinnaker/.spynnaker.cfg']\n"
     ]
    },
    {
     "data": {
      "text/plain": [
       "0"
      ]
     },
     "execution_count": 3,
     "metadata": {},
     "output_type": "execute_result"
    }
   ],
   "source": [
    "# simulation setting\n",
    "\n",
    "dt         = 1          # (ms)\n",
    "simtime    = 200       # (ms)\n",
    "sim.setup(timestep=dt, \n",
    "          min_delay = 1,\n",
    "          max_delay = 100) \n"
   ]
  },
  {
   "cell_type": "code",
   "execution_count": 4,
   "metadata": {},
   "outputs": [],
   "source": [
    "# network parameters\n",
    "\n",
    "n_pop = 900     # Number of cells\n",
    "weight = 0.05  # synaptic weight (µS)\n",
    "syn_delay = 1"
   ]
  },
  {
   "cell_type": "code",
   "execution_count": 5,
   "metadata": {},
   "outputs": [],
   "source": [
    "# making the network \n",
    "\n",
    "pops = {}\n",
    "\n",
    "pops['1D'] = sim.Population(900, # number of cells\n",
    "                       sim.IF_cond_exp, # cell model\n",
    "                       sim.IF_cond_exp.default_parameters, # cell parameters\n",
    "                       structure = space.Line(dx=1.0, \n",
    "                                              x0=0.0, \n",
    "                                              y=0.0, \n",
    "                                              z=0.0),\n",
    "                       label=\"1D\")\n",
    "\n",
    "\n",
    "pops['2D'] = sim.Population(900, # number of cells\n",
    "                       sim.IF_cond_exp, # cell model\n",
    "                       sim.IF_cond_exp.default_parameters, # cell parameters\n",
    "                       structure = space.Grid2D(\n",
    "                                                aspect_ratio=1.0,\n",
    "                                                dx=1.0,\n",
    "                                                dy=1.0,\n",
    "                                                x0=0.0,\n",
    "                                                y0=0.0,\n",
    "                                                z=0,\n",
    "                                                fill_order='sequential',\n",
    "                                                rng=None,\n",
    "                                                ),\n",
    "                      label=\"2D\")\n",
    "\n",
    "pops['3D'] = sim.Population(1000, # number of cells\n",
    "                       sim.IF_cond_exp, # cell model\n",
    "                       sim.IF_cond_exp.default_parameters, # cell parameters\n",
    "                       structure = space.Grid3D(\n",
    "                                                aspect_ratioXY=1.0,\n",
    "                                                aspect_ratioXZ=1.0,\n",
    "                                                dx=1.0,\n",
    "                                                dy=1.0,\n",
    "                                                dz=1.0,\n",
    "                                                x0=0.0,\n",
    "                                                y0=0.0,\n",
    "                                                z0=0,\n",
    "                                                fill_order='sequential',\n",
    "                                                rng=None,\n",
    "                                                ),\n",
    "                       label=\"3D\")\n",
    "\n",
    "\n",
    "\n",
    "pops['Sphere'] = sim.Population(1000, # number of cells\n",
    "                       sim.IF_cond_exp, # cell model\n",
    "                       sim.IF_cond_exp.default_parameters, # cell parameters\n",
    "                       structure = space.RandomStructure(boundary=space.Sphere(radius=100), \n",
    "                                                         origin=(0.0, 0.0, 0.0), \n",
    "                                                         rng=None),\n",
    "                       label=\"Sphere\")\n",
    "\n",
    "pops['Cuboid'] = sim.Population(1000, # number of cells\n",
    "                       sim.IF_cond_exp, # cell model\n",
    "                       sim.IF_cond_exp.default_parameters, # cell parameters\n",
    "                       structure = space.RandomStructure(boundary=space.Cuboid(width=10, \n",
    "                                                                               height=10, \n",
    "                                                                               depth=10), \n",
    "                                                         origin=(0.0, 0.0, 0.0), \n",
    "                                                         rng=None),\n",
    "                       label=\"Cuboid\")"
   ]
  },
  {
   "cell_type": "raw",
   "metadata": {},
   "source": [
    "pops['Cartesian'] = sim.Population(n_pop, # number of cells\n",
    "                       sim.IF_cond_exp, # cell model\n",
    "                       sim.IF_cond_exp.default_parameters, # cell parameters\n",
    "                       structure = space.Space(axes=None,\n",
    "                                                scale_factor=1.0,\n",
    "                                                offset=0.0,\n",
    "                                                periodic_boundaries=None\n",
    "                                                ),\n",
    "                       label=\"Cartesian\")\n",
    "                       \n"
   ]
  },
  {
   "cell_type": "code",
   "execution_count": 17,
   "metadata": {},
   "outputs": [],
   "source": [
    "# record state variables\n",
    "\n",
    "for pop in pops.keys():\n",
    "    pops[pop].record(['spikes','v','gsyn_exc','gsyn_inh'])   \n"
   ]
  },
  {
   "cell_type": "code",
   "execution_count": 6,
   "metadata": {},
   "outputs": [],
   "source": [
    "# make projections\n",
    "\n",
    "projs = {}\n",
    "\n",
    "for pop in pops.keys():\n",
    "    if pop == '1D':\n",
    "        s = space.Space(axes = 'x')\n",
    "    if pop == '2D':\n",
    "        s = space.Space(axes = 'xy')\n",
    "    if pop == '3D':\n",
    "        s = space.Space(axes = 'xyz')\n",
    "        \n",
    "    projs[pop] = sim.Projection(\n",
    "                                pops[pop],\n",
    "                                pops[pop],\n",
    "                                connector = sim.DistanceDependentProbabilityConnector('d<5'), \n",
    "                                synapse_type = sim.StaticSynapse(weight=weight, delay=syn_delay),\n",
    "                                receptor_type = 'excitatory',\n",
    "                                space = s\n",
    "                            )\n"
   ]
  },
  {
   "cell_type": "code",
   "execution_count": null,
   "metadata": {},
   "outputs": [],
   "source": []
  },
  {
   "cell_type": "code",
   "execution_count": 26,
   "metadata": {},
   "outputs": [
    {
     "data": {
      "application/vnd.jupyter.widget-view+json": {
       "model_id": "484532418b214c99bbe0735c86682609",
       "version_major": 2,
       "version_minor": 0
      },
      "text/plain": [
       "Canvas(toolbar=Toolbar(toolitems=[('Home', 'Reset original view', 'home', 'home'), ('Back', 'Back to previous …"
      ]
     },
     "metadata": {},
     "output_type": "display_data"
    },
    {
     "data": {
      "text/plain": [
       "(0.0, 200.0)"
      ]
     },
     "execution_count": 26,
     "metadata": {},
     "output_type": "execute_result"
    }
   ],
   "source": [
    "# make the thalamic input sources\n",
    "\n",
    "popName = 'Thalamus'  \n",
    "\n",
    "spike_times = [[]]*n_pop #list of spike lists, where one spike list is related to one spike source\n",
    "random_sources_idx = [np.random.randint(n_pop*0.45, n_pop*0.55) for i in range(n_pop)]\n",
    "\n",
    "for idx, sources in enumerate(random_sources_idx):\n",
    "    spike_times[sources] = [abs(np.random.normal(loc=100, scale=10)) for n in range(10)]\n",
    "\n",
    "\n",
    "pops[popName] = sim.Population(n_pop, \n",
    "                               sim.SpikeSourceArray(spike_times),\n",
    "                               structure = space.Line(dx=1.0, \n",
    "                                              x0=0.0, \n",
    "                                              y=0.0, \n",
    "                                              z=0.0),\n",
    "                               \n",
    "                               label = popName)\n",
    "\n",
    "pops[popName].record('spikes')\n",
    "\n",
    "fig, axes = plt.subplots(1,1)\n",
    "axes_list = fig.axes\n",
    "axes_list[0].eventplot(spike_times)\n",
    "axes_list[0].set_xlabel('[ms]')\n",
    "axes_list[0].set_ylabel('thalamic spike sources')\n",
    "axes_list[0].set_title('rasterplot')\n",
    "axes_list[0].set_xlim(0, simtime)\n"
   ]
  },
  {
   "cell_type": "code",
   "execution_count": 27,
   "metadata": {},
   "outputs": [
    {
     "name": "stdout",
     "output_type": "stream",
     "text": [
      "1D\n",
      "2D\n",
      "3D\n",
      "Sphere\n",
      "Cuboid\n"
     ]
    }
   ],
   "source": [
    "# make the thalamic projections\n",
    "\n",
    "for pop in pops.keys():\n",
    "    if pop != 'Thalamus':\n",
    "            if pop == '1D':\n",
    "                s = space.Space(axes = 'x')\n",
    "            if pop == '2D':\n",
    "                s = space.Space(axes = 'xy')\n",
    "            if pop == '3D':\n",
    "                s = space.Space(axes = 'xyz')\n",
    "            print(pop)\n",
    "            proj['Thalamus', pop] = sim.Projection(pops['Thalamus'], \n",
    "                                                     pops[pop],\n",
    "                                                     connector = sim.DistanceDependentProbabilityConnector('d<5'),\n",
    "                                                     synapse_type = sim.StaticSynapse(weight=0.08, delay=1),\n",
    "                                                     receptor_type = 'excitatory',\n",
    "                                                     space = s,\n",
    "                                                     label = 'thalamus-exc connections')"
   ]
  },
  {
   "cell_type": "code",
   "execution_count": null,
   "metadata": {},
   "outputs": [],
   "source": []
  },
  {
   "cell_type": "code",
   "execution_count": 28,
   "metadata": {},
   "outputs": [
    {
     "name": "stderr",
     "output_type": "stream",
     "text": [
      "2021-04-09 17:59:29 INFO: Simulating for 200 1.0ms timesteps using a hardware timestep of 1000us\n",
      "2021-04-09 17:59:29 INFO: Starting execution process\n",
      "2021-04-09 17:59:33 INFO: Time 0:00:03.415725 taken by SpallocMaxMachineGenerator\n",
      "Pre allocating resources for Extra Monitor support vertices\n",
      "|0%                          50%                         100%|\n",
      " ============================================================\n",
      "2021-04-09 17:59:43 INFO: Time 0:00:10.127364 taken by PreAllocateResourcesForExtraMonitorSupport\n",
      "Partitioning graph vertices\n",
      "|0%                          50%                         100%|\n",
      " ============================================================\n",
      "Partitioning graph edges\n",
      "|0%                          50%                         100%|\n",
      " ============================================================\n",
      "2021-04-09 17:59:48 INFO: Time 0:00:05.377534 taken by PartitionAndPlacePartitioner\n",
      "Created spalloc job 5923965\n",
      "2021-04-09 17:59:48 INFO: Created spalloc job 5923965\n",
      "Waiting for board power commands to complete.\n",
      "2021-04-09 17:59:48 INFO: Waiting for board power commands to complete.\n",
      "2021-04-09 17:59:53 INFO: Time 0:00:05.051716 taken by SpallocAllocator\n",
      "2021-04-09 17:59:53 INFO: Creating transceiver for 10.11.193.145\n",
      "2021-04-09 17:59:53 INFO: Working out if machine is booted\n",
      "2021-04-09 17:59:57 INFO: Attempting to boot machine\n",
      "2021-04-09 18:00:03 INFO: Found board with version [Version: SC&MP 3.2.5 at SpiNNaker:0:0:0 (built Thu Aug  1 08:15:06 2019)]\n",
      "2021-04-09 18:00:03 INFO: Machine communication successful\n",
      "2021-04-09 18:00:03 INFO: Detected a machine on IP address 10.11.193.145 which has 856 cores and 120.0 links\n",
      "2021-04-09 18:00:03 INFO: Time 0:00:09.660814 taken by MachineGenerator\n",
      "Generating partitioner report\n",
      "|0%                          50%                         100%|\n",
      " ============================================================\n",
      "2021-04-09 18:00:03 INFO: Time 0:00:00.050383 taken by PartitionerReport\n",
      "2021-04-09 18:00:03 INFO: Time 0:00:00.000880 taken by NetworkSpecificationReport\n",
      "Allocating virtual identifiers\n",
      "|0%                          50%                         100%|\n",
      " ============================================================\n",
      "2021-04-09 18:00:03 INFO: Time 0:00:00.152917 taken by MallocBasedChipIDAllocator\n",
      "Inserting extra monitors into graphs\n",
      "|0%                          50%                         100%|\n",
      " ============================================================\n",
      "2021-04-09 18:00:03 INFO: Time 0:00:00.020767 taken by InsertExtraMonitorVerticesToGraphs\n",
      "Writing the board chip report\n",
      "|0%                          50%                         100%|\n",
      " ============================================================\n",
      "2021-04-09 18:00:03 INFO: Time 0:00:00.002670 taken by BoardChipReport\n",
      "Filtering edges\n",
      "|0%                          50%                         100%|\n",
      " ============================================================\n",
      "2021-04-09 18:00:03 INFO: Time 0:00:00.036701 taken by GraphEdgeFilter\n",
      "Placing graph vertices\n",
      "|0%                          50%                         100%|\n",
      " ============================================================\n",
      "2021-04-09 18:00:03 INFO: Time 0:00:00.096042 taken by OneToOnePlacer\n",
      "Inserting edges between vertices which require FR speed up functionality.\n",
      "|0%                          50%                         100%|\n",
      " ============================================================\n",
      "2021-04-09 18:00:03 INFO: Time 0:00:00.066415 taken by InsertEdgesToExtraMonitorFunctionality\n",
      "Generating routing tables for data in system processes\n",
      "|0%                          50%                         100%|\n",
      " ============================================================\n",
      "2021-04-09 18:00:03 INFO: Time 0:00:00.005573 taken by DataInMulticastRoutingGenerator\n",
      "Generating fixed router routes\n",
      "|0%                          50%                         100%|\n",
      " ============================================================\n",
      "2021-04-09 18:00:03 INFO: Time 0:00:00.003519 taken by FixedRouteRouter\n",
      "Generating placement report\n",
      "|0%                          50%                         100%|\n",
      " ============================================================\n",
      "Generating placement by core report\n",
      "|0%                          50%                         100%|\n",
      " ============================================================\n",
      "2021-04-09 18:00:03 INFO: Time 0:00:00.062947 taken by PlacerReportWithApplicationGraph\n",
      "Routing\n",
      "|0%                          50%                         100%|\n",
      " ============================================================\n",
      "\n",
      "2021-04-09 18:00:03 INFO: Time 0:00:00.046771 taken by NerRoute\n",
      "Discovering tags\n",
      "|0%                          50%                         100%|\n",
      " ============================================================\n",
      "Allocating tags\n",
      "|0%                          50%                         100%|\n",
      " ============================================================\n",
      "2021-04-09 18:00:03 INFO: Time 0:00:00.074635 taken by BasicTagAllocator\n",
      "Reporting Tags\n",
      "|0%                          50%                         100%|\n",
      " ============================================================\n",
      "2021-04-09 18:00:03 INFO: Time 0:00:00.002998 taken by TagReport\n",
      "Getting number of keys required by each edge using application graph\n",
      "|0%                          50%                         100%|\n",
      " ============================================================\n",
      "2021-04-09 18:00:04 INFO: Time 0:00:00.033237 taken by EdgeToNKeysMapper\n",
      "Getting constraints for application graph\n",
      "|0%                          50%                         100%|\n",
      " ============================================================\n",
      "2021-04-09 18:00:04 INFO: Time 0:00:00.068634 taken by ProcessPartitionConstraints\n",
      "Allocating routing keys\n",
      "|0%                          50%                         100%|\n",
      " ============================================================\n",
      "2021-04-09 18:00:04 INFO: Time 0:00:00.078063 taken by MallocBasedRoutingInfoAllocator\n",
      "Generating Routing info report\n",
      "|0%                          50%                         100%|\n",
      " ============================================================\n",
      "2021-04-09 18:00:04 INFO: Time 0:00:00.276122 taken by routingInfoReports\n",
      "Generating routing tables\n",
      "|0%                          50%                         100%|\n",
      " ============================================================\n",
      "2021-04-09 18:00:04 INFO: Time 0:00:00.030479 taken by BasicRoutingTableGenerator\n",
      "Finding executable start types\n",
      "|0%                          50%                         100%|\n",
      " ============================================================\n",
      "2021-04-09 18:00:04 INFO: Time 0:00:00.047420 taken by LocateExecutableStartType\n",
      "Initialising buffers\n",
      "|0%                          50%                         100%|\n",
      " ============================================================\n",
      "2021-04-09 18:00:04 INFO: Time 0:00:00.045565 taken by BufferManagerCreator\n",
      "Generating data specifications\n",
      "|0%                          50%                         100%|\n",
      " ==============================================2021-04-09 18:00:05 WARNING: No connection in DistanceDependentProbabilityConnector(d<5)\n",
      "==============\n",
      "2021-04-09 18:00:08 INFO: Time 0:00:04.262134 taken by SpynnakerDataSpecificationWriter\n",
      "Preparing Routing Tables\n",
      "|0%                          50%                         100%|\n",
      " ============================================================\n",
      "2021-04-09 18:00:08 INFO: Time 0:00:00.019905 taken by RoutingSetup\n",
      "Finding binaries\n",
      "|0%                          50%                         100%|\n",
      " ============================================================\n",
      "2021-04-09 18:00:09 INFO: Time 0:00:00.082176 taken by GraphBinaryGatherer\n",
      "Running routing table compression on chip\n",
      "|0%                          50%                         100%|\n",
      " ============================================================\n",
      "2021-04-09 18:00:13 INFO: Time 0:00:04.599627 taken by MundyOnChipRouterCompression\n",
      "Generating Router table report\n",
      "|0%                          50%                         100%|\n",
      " ============================================================\n",
      "2021-04-09 18:00:13 INFO: Time 0:00:00.015596 taken by unCompressedRoutingTableReports\n",
      "loading fixed routes\n",
      "|0%                          50%                         100%|\n",
      " ============================================================\n",
      "2021-04-09 18:00:13 INFO: Time 0:00:00.054452 taken by LoadFixedRoutes\n",
      "Executing data specifications and loading data for system vertices\n",
      "|0%                          50%                         100%|\n",
      " ============================================================\n",
      "2021-04-09 18:00:14 INFO: Time 0:00:00.287392 taken by HostExecuteSystemDataSpecification\n",
      "Loading system executables onto the machine\n",
      "|0%                          50%                         100%|\n",
      " ============================================================\n",
      "2021-04-09 18:00:20 INFO: Time 0:00:06.735243 taken by LoadSystemExecutableImages\n",
      "Clearing tags\n",
      "|0%                          50%                         100%|\n",
      " ============================================================\n",
      "Loading Tags\n",
      "|0%                          50%                         100%|\n",
      " ============================================================\n",
      "2021-04-09 18:00:20 INFO: Time 0:00:00.021202 taken by TagsLoader\n",
      "Writing data\n",
      "|0%                          50%                         100%|\n",
      " ============================================================\n",
      "2021-04-09 18:00:20 INFO: Time 0:00:00.041947 taken by WriteMemoryIOData\n",
      "Executing data specifications and loading data for application vertices\n",
      "|0%                          50%                         100%|\n",
      " ============================================================\n",
      "2021-04-09 18:00:37 INFO: Time 0:00:16.946719 taken by HostExecuteApplicationDataSpecification\n",
      "Expanding Synapses\n",
      "|0%                          50%                         100%|\n",
      " ============================================================\n",
      "2021-04-09 18:00:38 INFO: Time 0:00:00.543314 taken by SynapseExpander\n",
      "Writing fixed route report\n",
      "|0%                          50%                         100%|\n",
      " ============================================================\n",
      "2021-04-09 18:00:38 INFO: Time 0:00:00.042319 taken by FixedRouteFromMachineReport\n",
      "Loading executables onto the machine\n",
      "|0%                          50%                         100%|\n",
      " ============================================================\n",
      "2021-04-09 18:00:45 INFO: Time 0:00:06.766784 taken by LoadApplicationExecutableImages\n",
      "Reading Routing Tables from Machine\n",
      "|0%                          50%                         100%|\n",
      " ============================================================\n",
      "2021-04-09 18:00:45 INFO: Time 0:00:00.037563 taken by RoutingTableFromMachineReport\n",
      "Generating compressed router table report\n",
      "|0%                          50%                         100%|\n",
      " ============================================================\n",
      "2021-04-09 18:00:45 INFO: Time 0:00:00.005645 taken by compressedRoutingTableReports\n",
      "Generating comparison of router table report\n",
      "|0%                          50%                         100%|\n",
      " ============================================================\n",
      "2021-04-09 18:00:45 INFO: Time 0:00:00.011628 taken by comparisonOfRoutingTablesReport\n",
      "2021-04-09 18:00:45 INFO: Running for 1 steps for a total of 200.0ms\n",
      "2021-04-09 18:00:45 INFO: Run 1 of 1\n",
      "Generating SDRAM usage report\n",
      "|0%                          50%                         100%|\n",
      " ============================================================\n",
      "2021-04-09 18:00:45 INFO: Time 0:00:00.088793 taken by SdramUsageReportPerChip\n",
      "Updating run time\n",
      "|0%                          50%                         100%|\n",
      " ============================================================\n",
      "2021-04-09 18:00:45 INFO: Time 0:00:00.053641 taken by ChipRuntimeUpdater\n",
      "2021-04-09 18:00:45 INFO: creating live event connection database in /home/spinnaker/CNS-tutorial/application_generated_data_files/2021-04-09-17-51-18-996139/run_1/input_output_database.db\n",
      "Creating graph description database\n",
      "|0%                          50%                         100%|\n",
      " ============================================================\n",
      "2021-04-09 18:00:45 INFO: Time 0:00:00.171541 taken by DatabaseInterface\n",
      "2021-04-09 18:00:45 INFO: ** Notifying external sources that the database is ready for reading **\n",
      "2021-04-09 18:00:45 INFO: Time 0:00:00.000797 taken by NotificationProtocol\n",
      "2021-04-09 18:00:45 INFO: *** Running simulation... *** \n",
      "Loading buffers\n",
      "|0%                          50%                         100%|\n",
      " ============================================================\n",
      "2021-04-09 18:00:45 INFO: ** Awaiting for a response from an external source to state its ready for the simulation to start **\n",
      "2021-04-09 18:00:45 INFO: ** Sending start / resume message to external sources to state the simulation has started or resumed. **\n",
      "2021-04-09 18:00:45 INFO: ** Awaiting for a response from an external source to state its ready for the simulation to start **\n",
      "2021-04-09 18:00:45 INFO: Application started; waiting 0.30000000000000004s for it to stop\n",
      "2021-04-09 18:00:46 INFO: ** Sending pause / stop message to external sources to state the simulation has been paused or stopped. **\n",
      "2021-04-09 18:00:46 INFO: Time 0:00:00.674192 taken by ApplicationRunner\n",
      "Extracting buffers from the last run\n",
      "|0%                          50%                         100%|\n",
      " ============================================================\n",
      "2021-04-09 18:00:52 INFO: Time 0:00:06.338671 taken by BufferExtractor\n",
      "Getting provenance data from machine graph\n",
      "|0%                          50%                         100%|\n",
      " ============================================================\n",
      "Getting provenance data from application graph\n",
      "|0%                          50%                         100%|\n",
      " ============================================================\n",
      "2021-04-09 18:00:52 INFO: Time 0:00:00.127228 taken by GraphProvenanceGatherer\n",
      "Getting provenance data\n",
      "|0%                          50%                         100%|\n",
      " ============================================================\n",
      "2021-04-09 18:00:52 INFO: Time 0:00:00.089229 taken by PlacementsProvenanceGatherer\n",
      "Getting Router Provenance\n",
      "|0%                          50%                         100%|\n",
      " ============================================================\n",
      "2021-04-09 18:00:52 INFO: Time 0:00:00.060469 taken by RouterProvenanceGatherer\n",
      "Getting profile data\n",
      "|0%                          50%                         100%|\n",
      " ============================================================\n",
      "2021-04-09 18:00:52 INFO: Time 0:00:00.108203 taken by ProfileDataGatherer\n"
     ]
    },
    {
     "data": {
      "text/plain": [
       "200.0"
      ]
     },
     "execution_count": 28,
     "metadata": {},
     "output_type": "execute_result"
    }
   ],
   "source": [
    "# run simulation\n",
    "\n",
    "sim.run(simtime) # simtime=500 [ms]"
   ]
  },
  {
   "cell_type": "code",
   "execution_count": 29,
   "metadata": {},
   "outputs": [
    {
     "name": "stderr",
     "output_type": "stream",
     "text": [
      "2021-04-09 18:00:52 WARNING: Ignoring request to get source as with_address=True. \n",
      "2021-04-09 18:00:52 WARNING: Ignoring request to get target as with_address=True. \n",
      "Getting ['source', 'target', 'weight', 'delay']s for projection between Thalamus and 1D1\n",
      "|0%                          50%                         100%|\n",
      " ============================================================\n",
      "2021-04-09 18:00:53 WARNING: Ignoring request to get source as with_address=True. \n",
      "2021-04-09 18:00:53 WARNING: Ignoring request to get target as with_address=True. \n",
      "Getting ['source', 'target', 'weight', 'delay']s for projection between Thalamus and 2D2\n",
      "|0%                          50%                         100%|\n",
      " ==============="
     ]
    },
    {
     "name": "stdout",
     "output_type": "stream",
     "text": [
      "8080\n"
     ]
    },
    {
     "name": "stderr",
     "output_type": "stream",
     "text": [
      "=============================================\n",
      "2021-04-09 18:00:53 WARNING: Ignoring request to get source as with_address=True. \n",
      "2021-04-09 18:00:53 WARNING: Ignoring request to get target as with_address=True. \n",
      "Getting ['source', 'target', 'weight', 'delay']s for projection between Thalamus and 3D3\n",
      "|0%                          50%                         100%|\n",
      " ==============="
     ]
    },
    {
     "name": "stdout",
     "output_type": "stream",
     "text": [
      "1131\n"
     ]
    },
    {
     "name": "stderr",
     "output_type": "stream",
     "text": [
      "=============================================\n",
      "2021-04-09 18:00:54 WARNING: Ignoring request to get source as with_address=True. \n",
      "2021-04-09 18:00:54 WARNING: Ignoring request to get target as with_address=True. \n",
      "Getting ['source', 'target', 'weight', 'delay']s for projection between Thalamus and Sphere4\n",
      "|0%                          50%                         100%|\n",
      " ============================================================\n",
      "2021-04-09 18:00:54 WARNING: Ignoring request to get source as with_address=True. \n",
      "2021-04-09 18:00:54 WARNING: Ignoring request to get target as with_address=True. \n",
      "Getting ['source', 'target', 'weight', 'delay']s for projection between Thalamus and Cuboid5\n",
      "|0%                          50%                         100%|\n",
      " "
     ]
    },
    {
     "name": "stdout",
     "output_type": "stream",
     "text": [
      "1433\n",
      "9\n"
     ]
    },
    {
     "name": "stderr",
     "output_type": "stream",
     "text": [
      "============================================================"
     ]
    },
    {
     "name": "stdout",
     "output_type": "stream",
     "text": [
      "2914\n"
     ]
    },
    {
     "name": "stderr",
     "output_type": "stream",
     "text": [
      "\n"
     ]
    }
   ],
   "source": [
    "for pop in pops.keys():\n",
    "    if pop != 'Thalamus':\n",
    "        print(len(proj['Thalamus', pop].get(['source', 'target', 'weight', 'delay'], format='list')))"
   ]
  },
  {
   "cell_type": "code",
   "execution_count": 30,
   "metadata": {},
   "outputs": [
    {
     "name": "stderr",
     "output_type": "stream",
     "text": [
      "Getting spikes for 1D1\n",
      "|0%                          50%                         100%|\n",
      " ============================================================\n",
      "Getting v for 1D1\n",
      "|0%                          50%                         100%|\n",
      " ============================================================\n",
      "2021-04-09 18:00:55 WARNING: Warning getting data on a whole population when selective recording is active will result in only the requested neurons being returned in numerical order and without repeats.\n",
      "Getting gsyn_exc for 1D1\n",
      "|0%                          50%                         100%|\n",
      " ============================================================\n",
      "Getting gsyn_inh for 1D1\n",
      "|0%                          50%                         100%|\n",
      " ============================================================\n",
      "Getting spikes for 1D1\n",
      "|0%                          50%                         100%|\n",
      " ============================================================\n",
      "Getting v for 1D1\n",
      "|0%                          50%                         100%|\n",
      " ============================================================\n",
      "Getting gsyn_exc for 1D1\n",
      "|0%                          50%                         100%|\n",
      " ============================================================\n",
      "Getting gsyn_inh for 1D1\n",
      "|0%                          50%                         100%|\n",
      " ============================================================\n",
      "Getting spikes for 1D1\n",
      "|0%                          50%                         100%|\n",
      " ============================================================\n",
      "Getting v for 1D1\n",
      "|0%                          50%                         100%|\n",
      " ============================================================\n",
      "Getting gsyn_exc for 1D1\n",
      "|0%                          50%                         100%|\n",
      " ============================================================\n",
      "Getting gsyn_inh for 1D1\n",
      "|0%                          50%                         100%|\n",
      " ============================================================\n",
      "Getting spikes for 1D1\n",
      "|0%                          50%                         100%|\n",
      " ============================================================\n",
      "Getting v for 1D1\n",
      "|0%                          50%                         100%|\n",
      " ============================================================\n",
      "Getting gsyn_exc for 1D1\n",
      "|0%                          50%                         100%|\n",
      " ============================================================\n",
      "Getting gsyn_inh for 1D1\n",
      "|0%                          50%                         100%|\n",
      " ============================================================\n",
      "Getting spikes for 1D1\n",
      "|0%                          50%                         100%|\n",
      " ============================================================\n",
      "Getting v for 1D1\n",
      "|0%                          50%                         100%|\n",
      " ============================================================\n",
      "Getting gsyn_exc for 1D1\n",
      "|0%                          50%                         100%|\n",
      " ============================================================\n",
      "Getting gsyn_inh for 1D1\n",
      "|0%                          50%                         100%|\n",
      " ============================================================\n",
      "Getting spikes for 2D2\n",
      "|0%                          50%                         100%|\n",
      " ============================================================\n",
      "Getting v for 2D2\n",
      "|0%                          50%                         100%|\n",
      " ============================================================\n",
      "Getting gsyn_exc for 2D2\n",
      "|0%                          50%                         100%|\n",
      " ============================================================\n",
      "Getting gsyn_inh for 2D2\n",
      "|0%                          50%                         100%|\n",
      " ============================================================\n",
      "Getting spikes for 2D2\n",
      "|0%                          50%                         100%|\n",
      " ============================================================\n",
      "Getting v for 2D2\n",
      "|0%                          50%                         100%|\n",
      " ============================================================\n",
      "Getting gsyn_exc for 2D2\n",
      "|0%                          50%                         100%|\n",
      " ============================================================\n",
      "Getting gsyn_inh for 2D2\n",
      "|0%                          50%                         100%|\n",
      " ============================================================\n",
      "Getting spikes for 2D2\n",
      "|0%                          50%                         100%|\n",
      " ============================================================\n",
      "Getting v for 2D2\n",
      "|0%                          50%                         100%|\n",
      " ============================================================\n",
      "Getting gsyn_exc for 2D2\n",
      "|0%                          50%                         100%|\n",
      " ============================================================\n",
      "Getting gsyn_inh for 2D2\n",
      "|0%                          50%                         100%|\n",
      " ============================================================\n",
      "Getting spikes for 2D2\n",
      "|0%                          50%                         100%|\n",
      " ============================================================\n",
      "Getting v for 2D2\n",
      "|0%                          50%                         100%|\n",
      " ============================================================\n",
      "Getting gsyn_exc for 2D2\n",
      "|0%                          50%                         100%|\n",
      " ============================================================\n",
      "Getting gsyn_inh for 2D2\n",
      "|0%                          50%                         100%|\n",
      " ============================================================\n",
      "Getting spikes for 2D2\n",
      "|0%                          50%                         100%|\n",
      " ============================================================\n",
      "Getting v for 2D2\n",
      "|0%                          50%                         100%|\n",
      " ============================================================\n",
      "Getting gsyn_exc for 2D2\n",
      "|0%                          50%                         100%|\n",
      " ============================================================\n",
      "Getting gsyn_inh for 2D2\n",
      "|0%                          50%                         100%|\n",
      " ============================================================\n",
      "Getting spikes for 3D3\n",
      "|0%                          50%                         100%|\n",
      " ============================================================\n",
      "Getting v for 3D3\n",
      "|0%                          50%                         100%|\n",
      " ============================================================\n",
      "Getting gsyn_exc for 3D3\n",
      "|0%                          50%                         100%|\n",
      " ============================================================\n",
      "Getting gsyn_inh for 3D3\n",
      "|0%                          50%                         100%|\n",
      " ============================================================\n",
      "Getting spikes for 3D3\n",
      "|0%                          50%                         100%|\n",
      " ============================================================\n",
      "Getting v for 3D3\n",
      "|0%                          50%                         100%|\n",
      " ============================================================\n",
      "Getting gsyn_exc for 3D3\n",
      "|0%                          50%                         100%|\n",
      " ============================================================\n",
      "Getting gsyn_inh for 3D3\n",
      "|0%                          50%                         100%|\n",
      " ============================================================\n",
      "Getting spikes for 3D3\n",
      "|0%                          50%                         100%|\n",
      " ============================================================\n",
      "Getting v for 3D3\n",
      "|0%                          50%                         100%|\n",
      " ============================================================\n",
      "Getting gsyn_exc for 3D3\n",
      "|0%                          50%                         100%|\n",
      " ============================================================\n",
      "Getting gsyn_inh for 3D3\n",
      "|0%                          50%                         100%|\n",
      " ============================================================\n",
      "Getting spikes for 3D3\n",
      "|0%                          50%                         100%|\n",
      " ============================================================\n",
      "Getting v for 3D3\n",
      "|0%                          50%                         100%|\n",
      " ============================================================\n",
      "Getting gsyn_exc for 3D3\n",
      "|0%                          50%                         100%|\n",
      " ============================================================\n",
      "Getting gsyn_inh for 3D3\n",
      "|0%                          50%                         100%|\n",
      " ============================================================\n",
      "Getting spikes for 3D3\n",
      "|0%                          50%                         100%|\n",
      " ============================================================\n",
      "Getting v for 3D3\n",
      "|0%                          50%                         100%|\n",
      " ============================================================\n",
      "Getting gsyn_exc for 3D3\n",
      "|0%                          50%                         100%|\n",
      " ============================================================\n",
      "Getting gsyn_inh for 3D3\n",
      "|0%                          50%                         100%|\n",
      " ============================================================\n",
      "Getting spikes for Sphere4\n",
      "|0%                          50%                         100%|\n",
      " ============================================================\n",
      "Getting v for Sphere4\n",
      "|0%                          50%                         100%|\n",
      " ============================================================\n",
      "Getting gsyn_exc for Sphere4\n",
      "|0%                          50%                         100%|\n",
      " ============================================================\n",
      "Getting gsyn_inh for Sphere4\n",
      "|0%                          50%                         100%|\n",
      " ============================================================\n",
      "Getting spikes for Sphere4\n",
      "|0%                          50%                         100%|\n",
      " ============================================================\n",
      "Getting v for Sphere4\n",
      "|0%                          50%                         100%|\n",
      " ============================================================\n",
      "Getting gsyn_exc for Sphere4\n",
      "|0%                          50%                         100%|\n",
      " ============================================================\n",
      "Getting gsyn_inh for Sphere4\n",
      "|0%                          50%                         100%|\n",
      " ============================================================\n",
      "Getting spikes for Sphere4\n",
      "|0%                          50%                         100%|\n",
      " ============================================================\n",
      "Getting v for Sphere4\n",
      "|0%                          50%                         100%|\n",
      " ============================================================\n",
      "Getting gsyn_exc for Sphere4\n",
      "|0%                          50%                         100%|\n",
      " ============================================================\n",
      "Getting gsyn_inh for Sphere4\n",
      "|0%                          50%                         100%|\n",
      " ============================================================\n",
      "Getting spikes for Sphere4\n",
      "|0%                          50%                         100%|\n",
      " ============================================================\n",
      "Getting v for Sphere4\n",
      "|0%                          50%                         100%|\n",
      " ============================================================\n",
      "Getting gsyn_exc for Sphere4\n",
      "|0%                          50%                         100%|\n",
      " ============================================================\n",
      "Getting gsyn_inh for Sphere4\n",
      "|0%                          50%                         100%|\n",
      " ============================================================\n",
      "Getting spikes for Sphere4\n",
      "|0%                          50%                         100%|\n",
      " ============================================================\n",
      "Getting v for Sphere4\n",
      "|0%                          50%                         100%|\n",
      " ============================================================\n",
      "Getting gsyn_exc for Sphere4\n",
      "|0%                          50%                         100%|\n",
      " ============================================================\n",
      "Getting gsyn_inh for Sphere4\n",
      "|0%                          50%                         100%|\n",
      " ============================================================\n",
      "Getting spikes for Cuboid5\n",
      "|0%                          50%                         100%|\n",
      " ============================================================\n",
      "Getting v for Cuboid5\n",
      "|0%                          50%                         100%|\n",
      " ============================================================\n",
      "Getting gsyn_exc for Cuboid5\n",
      "|0%                          50%                         100%|\n",
      " ============================================================\n",
      "Getting gsyn_inh for Cuboid5\n",
      "|0%                          50%                         100%|\n",
      " ============================================================\n",
      "Getting spikes for Cuboid5\n",
      "|0%                          50%                         100%|\n",
      " ============================================================\n",
      "Getting v for Cuboid5\n",
      "|0%                          50%                         100%|\n",
      " ============================================================\n",
      "Getting gsyn_exc for Cuboid5\n",
      "|0%                          50%                         100%|\n",
      " ============================================================\n",
      "Getting gsyn_inh for Cuboid5\n",
      "|0%                          50%                         100%|\n",
      " ============================================================\n",
      "Getting spikes for Cuboid5\n",
      "|0%                          50%                         100%|\n",
      " ============================================================\n",
      "Getting v for Cuboid5\n",
      "|0%                          50%                         100%|\n",
      " ============================================================\n",
      "Getting gsyn_exc for Cuboid5\n",
      "|0%                          50%                         100%|\n",
      " ============================================================\n",
      "Getting gsyn_inh for Cuboid5\n",
      "|0%                          50%                         100%|\n",
      " ============================================================\n",
      "Getting spikes for Cuboid5\n",
      "|0%                          50%                         100%|\n",
      " ============================================================\n",
      "Getting v for Cuboid5\n",
      "|0%                          50%                         100%|\n",
      " ============================================================\n",
      "Getting gsyn_exc for Cuboid5\n",
      "|0%                          50%                         100%|\n",
      " ============================================================\n",
      "Getting gsyn_inh for Cuboid5\n",
      "|0%                          50%                         100%|\n",
      " ============================================================\n",
      "Getting spikes for Cuboid5\n",
      "|0%                          50%                         100%|\n",
      " ============================================================\n",
      "Getting v for Cuboid5\n",
      "|0%                          50%                         100%|\n",
      " ============================================================\n",
      "Getting gsyn_exc for Cuboid5\n",
      "|0%                          50%                         100%|\n",
      " ============================================================\n",
      "Getting gsyn_inh for Cuboid5\n",
      "|0%                          50%                         100%|\n",
      " ============================================================\n",
      "Getting spikes for Thalamus\n",
      "|0%                          50%                         100%|\n",
      " ============================================================\n",
      "Getting spikes for Thalamus\n",
      "|0%                          50%                         100%|\n",
      " ============================================================\n",
      "Getting spikes for Thalamus\n",
      "|0%                          50%                         100%|\n",
      " ============================================================\n",
      "Getting spikes for Thalamus\n",
      "|0%                          50%                         100%|\n",
      " ============================================================\n",
      "Getting spikes for Thalamus\n",
      "|0%                          50%                         100%|\n",
      " ============================================================\n"
     ]
    }
   ],
   "source": [
    "# save the results\n",
    "outputs = {}\n",
    "\n",
    "for pop in pops.keys():\n",
    "    outputs[pop] = pops[pop].get_data()\n",
    "    for recording in ['v', 'gsyn_inh', 'gsyn_exc', 'spikes']:\n",
    "        pops[pop].write_data(fileName + '_' + str(pop) + '_' + str(recording) + '.pkl')"
   ]
  },
  {
   "cell_type": "code",
   "execution_count": null,
   "metadata": {},
   "outputs": [],
   "source": []
  },
  {
   "cell_type": "code",
   "execution_count": 31,
   "metadata": {},
   "outputs": [
    {
     "name": "stderr",
     "output_type": "stream",
     "text": [
      "2021-04-09 18:01:03 WARNING: During the extraction of data of 204800 bytes from memory address 1669697664, attempt 0 had 14 sequences that were lost.\n",
      "2021-04-09 18:01:03 WARNING: During the extraction of data of 204800 bytes from memory address 1644867264, attempt 0 had 33 sequences that were lost.\n",
      "2021-04-09 18:01:03 WARNING: During the extraction of data of 204800 bytes from memory address 1732368544, attempt 0 had 29 sequences that were lost.\n",
      "2021-04-09 18:01:03 WARNING: During the extraction of data of 204800 bytes from memory address 1655462120, attempt 0 had 110 sequences that were lost.\n",
      "2021-04-09 18:01:03 WARNING: During the extraction of data of 204800 bytes from memory address 1655462120, attempt 1 had 25 sequences that were lost.\n",
      "2021-04-09 18:01:03 WARNING: During the extraction of data from chip (1, 1), there were 1 cases of serious data loss. The system recovered, but the speed of download was compromised. Reduce the number of executing applications and remove routers between yourself and the SpiNNaker machine to reduce the chance of this occurring.\n",
      "2021-04-09 18:01:03 WARNING: A Timer tick callback was still executing when the next timer tick callback was fired off for 1D1:0:254 on 1, 0, 7, 68 times. This is a sign of the system being overloaded and therefore the results are likely incorrect.  Please increase the machine time step or time_scale_factor or decrease the number of neurons per core\n",
      "2021-04-09 18:01:03 WARNING: The callback queue for 1D1:255:509 on 1, 0, 8 overloaded on 281 occasions. This is often a sign that the system is running too quickly for the number of neurons per core.  Please increase the machine time step or time_scale_factor or decrease the number of neurons per core.\n",
      "2021-04-09 18:01:03 WARNING: A Timer tick callback was still executing when the next timer tick callback was fired off for 1D1:255:509 on 1, 0, 8, 417 times. This is a sign of the system being overloaded and therefore the results are likely incorrect.  Please increase the machine time step or time_scale_factor or decrease the number of neurons per core\n",
      "2021-04-09 18:01:03 WARNING: The timer for 1D1:255:509 on 1, 0, 8 fell behind by up to 16 ticks. This is a sign of the system being overloaded and therefore the results are likely incorrect. Please increase the machine time step or time_scale_factor or decrease the number of neurons per core\n",
      "2021-04-09 18:01:03 WARNING: The callback queue for 1D1:510:764 on 1, 0, 9 overloaded on 222 occasions. This is often a sign that the system is running too quickly for the number of neurons per core.  Please increase the machine time step or time_scale_factor or decrease the number of neurons per core.\n",
      "2021-04-09 18:01:03 WARNING: A Timer tick callback was still executing when the next timer tick callback was fired off for 1D1:510:764 on 1, 0, 9, 354 times. This is a sign of the system being overloaded and therefore the results are likely incorrect.  Please increase the machine time step or time_scale_factor or decrease the number of neurons per core\n",
      "2021-04-09 18:01:03 WARNING: The timer for 1D1:510:764 on 1, 0, 9 fell behind by up to 16 ticks. This is a sign of the system being overloaded and therefore the results are likely incorrect. Please increase the machine time step or time_scale_factor or decrease the number of neurons per core\n"
     ]
    }
   ],
   "source": [
    "# end simulation\n",
    "\n",
    "sim.end()"
   ]
  },
  {
   "cell_type": "code",
   "execution_count": 32,
   "metadata": {},
   "outputs": [],
   "source": [
    "def recover_results(outputs):\n",
    "    results = {}\n",
    "    for key in outputs.keys(): # to extract the name of the layer, e.g., Exc, Inh, Thalamus, etc  \n",
    "        \n",
    "        # to get voltage and conductances\n",
    "        for analogsignal in outputs[key].segments[0].analogsignals:\n",
    "            print(analogsignal.name)\n",
    "            results[key, analogsignal.name] = analogsignal\n",
    "\n",
    "        # to get spikes\n",
    "        results[key, 'spikes'] = outputs[key].segments[0].spiketrains\n",
    "    return results"
   ]
  },
  {
   "cell_type": "code",
   "execution_count": 33,
   "metadata": {},
   "outputs": [
    {
     "name": "stdout",
     "output_type": "stream",
     "text": [
      "v\n",
      "gsyn_exc\n",
      "gsyn_inh\n",
      "v\n",
      "gsyn_exc\n",
      "gsyn_inh\n",
      "v\n",
      "gsyn_exc\n",
      "gsyn_inh\n",
      "v\n",
      "gsyn_exc\n",
      "gsyn_inh\n",
      "v\n",
      "gsyn_exc\n",
      "gsyn_inh\n"
     ]
    },
    {
     "data": {
      "text/plain": [
       "dict_keys([('1D', 'v'), ('1D', 'gsyn_exc'), ('1D', 'gsyn_inh'), ('1D', 'spikes'), ('2D', 'v'), ('2D', 'gsyn_exc'), ('2D', 'gsyn_inh'), ('2D', 'spikes'), ('3D', 'v'), ('3D', 'gsyn_exc'), ('3D', 'gsyn_inh'), ('3D', 'spikes'), ('Sphere', 'v'), ('Sphere', 'gsyn_exc'), ('Sphere', 'gsyn_inh'), ('Sphere', 'spikes'), ('Cuboid', 'v'), ('Cuboid', 'gsyn_exc'), ('Cuboid', 'gsyn_inh'), ('Cuboid', 'spikes'), ('Thalamus', 'spikes')])"
      ]
     },
     "execution_count": 33,
     "metadata": {},
     "output_type": "execute_result"
    }
   ],
   "source": [
    "# check results\n",
    "\n",
    "results = recover_results(outputs)\n",
    "results.keys()"
   ]
  },
  {
   "cell_type": "code",
   "execution_count": 34,
   "metadata": {},
   "outputs": [
    {
     "data": {
      "application/vnd.jupyter.widget-view+json": {
       "model_id": "7e40e0d943a54521be5be27239acd48d",
       "version_major": 2,
       "version_minor": 0
      },
      "text/plain": [
       "Canvas(toolbar=Toolbar(toolitems=[('Home', 'Reset original view', 'home', 'home'), ('Back', 'Back to previous …"
      ]
     },
     "metadata": {},
     "output_type": "display_data"
    }
   ],
   "source": [
    "# check the spikes\n",
    "\n",
    "fig, axes = plt.subplots(6, 1, figsize=(7,9), sharex=True)\n",
    "fig.tight_layout(pad=5)\n",
    "fig.suptitle('rasterplots')\n",
    "axes_list = fig.axes\n",
    "\n",
    "for idx, value in enumerate(['1D', '2D', '3D', 'Sphere', 'Cuboid', 'Thalamus']):\n",
    "    axes_list[idx].eventplot(results[value, 'spikes'])\n",
    "    axes_list[idx].set_title(str(value))\n",
    "    axes_list[idx].set_xlabel('[ms]')\n",
    "    axes_list[idx].set_ylabel('cells')\n",
    "    axes_list[idx].set_xlim(0, simtime)\n"
   ]
  },
  {
   "cell_type": "code",
   "execution_count": 35,
   "metadata": {},
   "outputs": [
    {
     "data": {
      "application/vnd.jupyter.widget-view+json": {
       "model_id": "84aa9ce5165b48699217227a0512ec57",
       "version_major": 2,
       "version_minor": 0
      },
      "text/plain": [
       "Canvas(toolbar=Toolbar(toolitems=[('Home', 'Reset original view', 'home', 'home'), ('Back', 'Back to previous …"
      ]
     },
     "metadata": {},
     "output_type": "display_data"
    }
   ],
   "source": [
    "# check the voltage\n",
    "\n",
    "fig, axes = plt.subplots(1, 5, figsize=(9,5))\n",
    "fig.tight_layout(pad=5)\n",
    "\n",
    "axes_list = fig.axes\n",
    "\n",
    "for idx, value in enumerate(['1D', '2D', '3D', 'Sphere', 'Cuboid']):\n",
    "    im = axes_list[idx].imshow(results[value, 'v'].T)\n",
    "    axes_list[idx].set_title('voltage of ' + str(value) + ' layer')\n",
    "    axes_list[idx].set_xlabel('time [ms]')\n",
    "    axes_list[idx].set_ylabel('cells')\n",
    "    fig.colorbar(im, ax=axes_list[idx], fraction=0.010, label='[mV]')"
   ]
  },
  {
   "cell_type": "code",
   "execution_count": 36,
   "metadata": {},
   "outputs": [
    {
     "data": {
      "application/vnd.jupyter.widget-view+json": {
       "model_id": "e4a2ffcf63a1457e92526fe40f72ffd4",
       "version_major": 2,
       "version_minor": 0
      },
      "text/plain": [
       "Canvas(toolbar=Toolbar(toolitems=[('Home', 'Reset original view', 'home', 'home'), ('Back', 'Back to previous …"
      ]
     },
     "metadata": {},
     "output_type": "display_data"
    },
    {
     "data": {
      "application/vnd.jupyter.widget-view+json": {
       "model_id": "c005b96d03f8483ca40b98acee7925ea",
       "version_major": 2,
       "version_minor": 0
      },
      "text/plain": [
       "Canvas(toolbar=Toolbar(toolitems=[('Home', 'Reset original view', 'home', 'home'), ('Back', 'Back to previous …"
      ]
     },
     "metadata": {},
     "output_type": "display_data"
    },
    {
     "data": {
      "application/vnd.jupyter.widget-view+json": {
       "model_id": "50b762fdf168459089c3394ecad2cd3e",
       "version_major": 2,
       "version_minor": 0
      },
      "text/plain": [
       "Canvas(toolbar=Toolbar(toolitems=[('Home', 'Reset original view', 'home', 'home'), ('Back', 'Back to previous …"
      ]
     },
     "metadata": {},
     "output_type": "display_data"
    },
    {
     "data": {
      "application/vnd.jupyter.widget-view+json": {
       "model_id": "76738901a20f4cd19ce11ab24d043d49",
       "version_major": 2,
       "version_minor": 0
      },
      "text/plain": [
       "Canvas(toolbar=Toolbar(toolitems=[('Home', 'Reset original view', 'home', 'home'), ('Back', 'Back to previous …"
      ]
     },
     "metadata": {},
     "output_type": "display_data"
    },
    {
     "data": {
      "application/vnd.jupyter.widget-view+json": {
       "model_id": "ba1ce83f66b647cd9241d72a66be339e",
       "version_major": 2,
       "version_minor": 0
      },
      "text/plain": [
       "Canvas(toolbar=Toolbar(toolitems=[('Home', 'Reset original view', 'home', 'home'), ('Back', 'Back to previous …"
      ]
     },
     "metadata": {},
     "output_type": "display_data"
    }
   ],
   "source": [
    "# check the conductances\n",
    "\n",
    "for idx, value in enumerate(['1D', '2D', '3D', 'Sphere', 'Cuboid']):\n",
    "    fig, axes = plt.subplots(1, 5)\n",
    "    fig.tight_layout(pad=5)\n",
    "    fig.suptitle(str(value) + ' layer')\n",
    "    axes_list = fig.axes\n",
    "    \n",
    "    for idx, gsyn in enumerate(['gsyn_exc', 'gsyn_inh']):\n",
    "        im = axes_list[idx].imshow(results[value, gsyn].T)\n",
    "        axes_list[idx].set_title(str(gsyn))\n",
    "        axes_list[idx].set_xlabel('time [ms]')\n",
    "        axes_list[idx].set_ylabel('cells')\n",
    "        fig.colorbar(im, ax=axes_list[idx], fraction=0.010, label='[uS]')"
   ]
  },
  {
   "cell_type": "code",
   "execution_count": null,
   "metadata": {},
   "outputs": [],
   "source": []
  }
 ],
 "metadata": {
  "kernelspec": {
   "display_name": "sPyNNaker",
   "language": "python",
   "name": "spynnaker"
  },
  "language_info": {
   "codemirror_mode": {
    "name": "ipython",
    "version": 3
   },
   "file_extension": ".py",
   "mimetype": "text/x-python",
   "name": "python",
   "nbconvert_exporter": "python",
   "pygments_lexer": "ipython3",
   "version": "3.6.9"
  }
 },
 "nbformat": 4,
 "nbformat_minor": 4
}
