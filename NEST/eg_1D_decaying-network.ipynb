{
 "cells": [
  {
   "cell_type": "markdown",
   "metadata": {},
   "source": [
    "# 1D decaying network\n"
   ]
  },
  {
   "cell_type": "code",
   "execution_count": 1,
   "metadata": {},
   "outputs": [],
   "source": [
    "# fileName\n",
    "\n",
    "fileName = 'eg_1D_decaying-network' "
   ]
  },
  {
   "cell_type": "code",
   "execution_count": 2,
   "metadata": {},
   "outputs": [
    {
     "name": "stderr",
     "output_type": "stream",
     "text": [
      "/home/alberto-int/anaconda3/lib/python3.7/importlib/_bootstrap.py:219: RuntimeWarning: compiletime version 3.5 of module 'pynestkernel' does not match runtime version 3.7\n",
      "  return f(*args, **kwds)\n"
     ]
    },
    {
     "name": "stdout",
     "output_type": "stream",
     "text": [
      "CSAConnector: libneurosim support not available in NEST.\n",
      "Falling back on PyNN's default CSAConnector.\n",
      "Please re-compile NEST using --with-libneurosim=PATH\n"
     ]
    },
    {
     "name": "stderr",
     "output_type": "stream",
     "text": [
      "/home/alberto-int/anaconda3/lib/python3.7/site-packages/PyNN-0.9.5-py3.7.egg/pyNN/nest/__init__.py:53: UserWarning:Unable to install NEST extensions. Certain models may not be available.\n"
     ]
    }
   ],
   "source": [
    "# libs\n",
    "\n",
    "import pyNN.nest as sim\n",
    "from pyNN import space \n",
    "import numpy as np\n",
    "import matplotlib.pyplot as plt\n"
   ]
  },
  {
   "cell_type": "code",
   "execution_count": 3,
   "metadata": {},
   "outputs": [
    {
     "name": "stderr",
     "output_type": "stream",
     "text": [
      "/usr/lib/python3.5/dist-packages/nest/lib/hl_api_helper.py:127: UserWarning:\n",
      "ResetNetwork is deprecated and will be removed in NEST 3.0.\n"
     ]
    }
   ],
   "source": [
    "# simulation settings\n",
    "\n",
    "sim.setup(\n",
    "        timestep=1, # [ms]\n",
    "        min_delay=1, # [ms]\n",
    "        max_delay=100) # [ms]\n",
    "\n",
    "simtime = 250 #ms"
   ]
  },
  {
   "cell_type": "code",
   "execution_count": 4,
   "metadata": {},
   "outputs": [
    {
     "name": "stderr",
     "output_type": "stream",
     "text": [
      "NEST does not allow setting an initial value for g_ex\n",
      "NEST does not allow setting an initial value for g_in\n"
     ]
    }
   ],
   "source": [
    "# defining the network\n",
    "\n",
    "pops = {}\n",
    "n_cells = {}\n",
    "neuron_Model = {}\n",
    "neuron_ModelPars = {}\n",
    "initial_Values = {}\n",
    "\n",
    "for popName in ['network']:\n",
    "    n_cells[popName] = 100\n",
    "    neuron_Model[popName] = sim.IF_cond_exp\n",
    "    neuron_ModelPars[popName] = sim.IF_cond_exp.default_parameters # or standard_pars or testing_pars\n",
    "    initial_Values[popName] = sim.IF_cond_exp.default_initial_values\n",
    "    pops[popName] = sim.Population(n_cells[popName], \n",
    "                                   neuron_Model[popName],\n",
    "                                   neuron_ModelPars[popName],\n",
    "                                   structure = space.Line(dx=1.0, x0=0.0, y=0.0, z=0.0),\n",
    "                                   label = popName)\n",
    "\n",
    "    pops[popName].record(['spikes','v','gsyn_exc','gsyn_inh'])   \n",
    " \n"
   ]
  },
  {
   "cell_type": "code",
   "execution_count": 5,
   "metadata": {},
   "outputs": [
    {
     "data": {
      "text/plain": [
       "array([40, 41, 42, 43, 44, 45, 46, 47, 48, 49, 50, 51, 52, 53, 54, 55, 56,\n",
       "       57, 58, 59])"
      ]
     },
     "execution_count": 5,
     "metadata": {},
     "output_type": "execute_result"
    },
    {
     "data": {
      "image/png": "[encoded data removed]",
      "text/plain": [
       "<Figure size 432x288 with 1 Axes>"
      ]
     },
     "metadata": {
      "needs_background": "light"
     },
     "output_type": "display_data"
    }
   ],
   "source": [
    "# make the thalamic input sources\n",
    "\n",
    "popName = 'Thalamus'  \n",
    "\n",
    "n_cells[popName] = n_cells['network']\n",
    "spike_times = [[]]*n_cells[popName] #list of spike lists, where one spike list is related to one spike source\n",
    "#random_sources_idx = [np.random.randint(n_cells[popName]*0.40, n_cells[popName]*0.60) for i in range(n_cells[popName])]\n",
    "random_sources_idx = np.arange(int(n_cells[popName]*0.40), int(n_cells[popName]*0.60))\n",
    "\n",
    "for idx, sources in enumerate(random_sources_idx):\n",
    "    spike_times[sources] = np.sort([abs(np.random.normal(loc=50, scale=10)) for n in range(5)])\n",
    "\n",
    "neuron_Model[popName] = sim.SpikeSourceArray(spike_times=spike_times)\n",
    "\n",
    "\n",
    "pops[popName] = sim.Population(n_cells[popName], \n",
    "                               neuron_Model[popName],\n",
    "                               structure = space.Line(dx=1.0, x0=0.0, y=0.0, z=0.0),\n",
    "                               label = popName)\n",
    "\n",
    "proj = {}\n",
    "proj['Thalamus', 'network'] = sim.Projection(pops['Thalamus'], \n",
    "                                         pops['network'],\n",
    "                                         connector = sim.OneToOneConnector(),\n",
    "                                         synapse_type = sim.StaticSynapse(weight=0.08, delay=1),\n",
    "                                         space = space.Space(axes = 'x'),\n",
    "                                         receptor_type = 'excitatory',\n",
    "                                         label = 'thalamus-network connections')\n",
    "\n",
    "fig, axes = plt.subplots(1,1)\n",
    "axes_list = fig.axes\n",
    "axes_list[0].eventplot(spike_times)\n",
    "axes_list[0].set_xlabel('[ms]')\n",
    "axes_list[0].set_ylabel('thalamic spike sources')\n",
    "axes_list[0].set_title('rasterplot of spike sources')\n",
    "axes_list[0].set_xlim(0, simtime)\n",
    "\n",
    "random_sources_idx"
   ]
  },
  {
   "cell_type": "code",
   "execution_count": 7,
   "metadata": {},
   "outputs": [
    {
     "data": {
      "text/plain": [
       "500.0"
      ]
     },
     "execution_count": 7,
     "metadata": {},
     "output_type": "execute_result"
    }
   ],
   "source": [
    "# run simulation\n",
    "\n",
    "sim.run(simtime) "
   ]
  },
  {
   "cell_type": "code",
   "execution_count": 8,
   "metadata": {},
   "outputs": [],
   "source": [
    "# save the results\n",
    "outputs = {}\n",
    "\n",
    "for layer in ['network']:\n",
    "    outputs[layer] = pops[layer].get_data()\n",
    "    for recording in ['v', 'gsyn_inh', 'gsyn_exc', 'spikes']:\n",
    "        pops[layer].write_data(fileName + '_' + str(layer) + '_' + str(recording) + '.pkl')"
   ]
  },
  {
   "cell_type": "code",
   "execution_count": 9,
   "metadata": {},
   "outputs": [],
   "source": [
    "# end simulation\n",
    "\n",
    "sim.end()"
   ]
  },
  {
   "cell_type": "code",
   "execution_count": 10,
   "metadata": {},
   "outputs": [
    {
     "name": "stdout",
     "output_type": "stream",
     "text": [
      "v\n",
      "gsyn_inh\n",
      "gsyn_exc\n"
     ]
    },
    {
     "data": {
      "text/plain": [
       "dict_keys([('network', 'v'), ('network', 'gsyn_inh'), ('network', 'gsyn_exc'), ('network', 'spikes')])"
      ]
     },
     "execution_count": 10,
     "metadata": {},
     "output_type": "execute_result"
    }
   ],
   "source": [
    "# check results\n",
    "\n",
    "def recover_results(outputs):\n",
    "    results = {}\n",
    "    for key in outputs.keys(): # to extract the name of the layer, e.g., Exc, Inh, Thalamus, etc  \n",
    "        \n",
    "        # to get voltage and conductances\n",
    "        for analogsignal in outputs[key].segments[0].analogsignals:\n",
    "            print(analogsignal.name)\n",
    "            results[key, analogsignal.name] = analogsignal\n",
    "\n",
    "        # to get spikes\n",
    "        results[key, 'spikes'] = outputs[key].segments[0].spiketrains\n",
    "    return results\n",
    "\n",
    "results = recover_results(outputs)\n",
    "results.keys()"
   ]
  },
  {
   "cell_type": "code",
   "execution_count": 11,
   "metadata": {},
   "outputs": [
    {
     "data": {
      "image/png": "[encoded data removed]",
      "text/plain": [
       "<Figure size 432x288 with 1 Axes>"
      ]
     },
     "metadata": {
      "needs_background": "light"
     },
     "output_type": "display_data"
    }
   ],
   "source": [
    "# check the spikes\n",
    "\n",
    "fig, axes = plt.subplots(1, 1)\n",
    "fig.tight_layout(pad=5)\n",
    "axes_list = fig.axes\n",
    "\n",
    "for idx, value in enumerate(['network']):\n",
    "    axes_list[idx].eventplot(results[value, 'spikes'])\n",
    "    axes_list[idx].set_title('rasterplot of ' + str(value) + ' layer')\n",
    "    axes_list[idx].set_xlabel('[ms]')\n",
    "    axes_list[idx].set_ylabel('cells')\n",
    "    axes_list[idx].set_xlim(0, simtime)\n"
   ]
  },
  {
   "cell_type": "code",
   "execution_count": 12,
   "metadata": {},
   "outputs": [
    {
     "data": {
      "image/png": "[encoded data removed]",
      "text/plain": [
       "<Figure size 432x288 with 2 Axes>"
      ]
     },
     "metadata": {
      "needs_background": "light"
     },
     "output_type": "display_data"
    }
   ],
   "source": [
    "# check the voltage\n",
    "\n",
    "fig, axes = plt.subplots(1, 1)#, figsize=(9,5))\n",
    "fig.tight_layout(pad=4)\n",
    "\n",
    "axes_list = fig.axes\n",
    "\n",
    "for idx, value in enumerate(['network']):\n",
    "    im = axes_list[idx].imshow(results[value, 'v'].T)\n",
    "    axes_list[idx].set_title('voltage of ' + str(value) + ' layer')\n",
    "    axes_list[idx].set_xlabel('time [ms]')\n",
    "    axes_list[idx].set_ylabel('cells')\n",
    "    axes_list[idx].set_xlim(0, simtime)\n",
    "    fig.colorbar(im, ax=axes_list[idx], fraction=0.010, label='[mV]')"
   ]
  },
  {
   "cell_type": "code",
   "execution_count": 14,
   "metadata": {},
   "outputs": [
    {
     "data": {
      "image/png": "[encoded data removed]",
      "text/plain": [
       "<Figure size 432x288 with 2 Axes>"
      ]
     },
     "metadata": {
      "needs_background": "light"
     },
     "output_type": "display_data"
    }
   ],
   "source": [
    "# check the conductances\n",
    "\n",
    "fig, axes = plt.subplots(1, 1)#, figsize=(9,5))\n",
    "fig.tight_layout(pad=4)\n",
    "\n",
    "axes_list = fig.axes\n",
    "\n",
    "for idx, value in enumerate(['network']):\n",
    "    for idx, gsyn in enumerate(['gsyn_exc']):#, 'gsyn_inh']):\n",
    "        im = axes_list[idx].imshow(results['network', gsyn].T)\n",
    "        axes_list[idx].set_title(str(gsyn))\n",
    "        axes_list[idx].set_xlabel('time [ms]')\n",
    "        axes_list[idx].set_ylabel('cells')\n",
    "        axes_list[idx].set_xlim(0, simtime)\n",
    "        fig.colorbar(im, ax=axes_list[idx], fraction=0.010, label='[uS]')"
   ]
  },
  {
   "cell_type": "code",
   "execution_count": null,
   "metadata": {},
   "outputs": [],
   "source": []
  }
 ],
 "metadata": {
  "kernelspec": {
   "display_name": "Python 3",
   "language": "python",
   "name": "python3"
  },
  "language_info": {
   "codemirror_mode": {
    "name": "ipython",
    "version": 3
   },
   "file_extension": ".py",
   "mimetype": "text/x-python",
   "name": "python",
   "nbconvert_exporter": "python",
   "pygments_lexer": "ipython3",
   "version": "3.7.6"
  }
 },
 "nbformat": 4,
 "nbformat_minor": 4
}
