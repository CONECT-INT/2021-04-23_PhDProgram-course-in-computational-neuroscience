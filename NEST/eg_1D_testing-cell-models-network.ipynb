{
 "cells": [
  {
   "cell_type": "markdown",
   "metadata": {},
   "source": [
    "# 1D testing the action potential of cell models by using standard parameters\n"
   ]
  },
  {
   "cell_type": "code",
   "execution_count": 1,
   "metadata": {},
   "outputs": [],
   "source": [
    "# fileName\n",
    "\n",
    "fileName = 'eg_1D_testing-cell-models'"
   ]
  },
  {
   "cell_type": "code",
   "execution_count": 2,
   "metadata": {},
   "outputs": [
    {
     "name": "stderr",
     "output_type": "stream",
     "text": [
      "/home/alberto-int/anaconda3/lib/python3.7/importlib/_bootstrap.py:219: RuntimeWarning: compiletime version 3.5 of module 'pynestkernel' does not match runtime version 3.7\n",
      "  return f(*args, **kwds)\n"
     ]
    },
    {
     "name": "stdout",
     "output_type": "stream",
     "text": [
      "CSAConnector: libneurosim support not available in NEST.\n",
      "Falling back on PyNN's default CSAConnector.\n",
      "Please re-compile NEST using --with-libneurosim=PATH\n"
     ]
    },
    {
     "name": "stderr",
     "output_type": "stream",
     "text": [
      "/home/alberto-int/anaconda3/lib/python3.7/site-packages/PyNN-0.9.5-py3.7.egg/pyNN/nest/__init__.py:53: UserWarning:Unable to install NEST extensions. Certain models may not be available.\n"
     ]
    }
   ],
   "source": [
    "# libs\n",
    "\n",
    "import pyNN.nest as sim\n",
    "from pyNN import space \n",
    "import numpy as np\n",
    "import matplotlib.pyplot as plt\n"
   ]
  },
  {
   "cell_type": "code",
   "execution_count": 3,
   "metadata": {},
   "outputs": [
    {
     "name": "stderr",
     "output_type": "stream",
     "text": [
      "/usr/lib/python3.5/dist-packages/nest/lib/hl_api_helper.py:127: UserWarning:\n",
      "ResetNetwork is deprecated and will be removed in NEST 3.0.\n"
     ]
    }
   ],
   "source": [
    "# simulation settings\n",
    "\n",
    "sim.setup(\n",
    "        timestep=1, # [ms]\n",
    "        min_delay=1, # [ms]\n",
    "        max_delay=100) # [ms]\n",
    "\n",
    "simtime = 250 # [ms+]\n",
    "\n"
   ]
  },
  {
   "cell_type": "markdown",
   "metadata": {},
   "source": [
    "## make the network"
   ]
  },
  {
   "cell_type": "code",
   "execution_count": 4,
   "metadata": {},
   "outputs": [],
   "source": [
    "# define make_pop with stanrdard parameters\n",
    "\n",
    "pops = {}\n",
    "\n",
    "def make_pop(cell_model):\n",
    "    pops = sim.Population(\n",
    "                            1, # one cell in each cell model\n",
    "                            cell_model,\n",
    "                            label=str(cell_model),\n",
    "                            )\n",
    "    pops.record('v')\n",
    "    \n",
    "    return pops\n",
    "\n",
    "\n"
   ]
  },
  {
   "cell_type": "code",
   "execution_count": 5,
   "metadata": {},
   "outputs": [
    {
     "name": "stderr",
     "output_type": "stream",
     "text": [
      "NEST does not allow setting an initial value for isyn_exc\n",
      "NEST does not allow setting an initial value for isyn_inh\n",
      "NEST does not allow setting an initial value for isyn_exc\n",
      "NEST does not allow setting an initial value for isyn_inh\n",
      "NEST does not allow setting an initial value for g_ex\n",
      "NEST does not allow setting an initial value for g_in\n",
      "NEST does not allow setting an initial value for g_ex\n",
      "NEST does not allow setting an initial value for g_in\n",
      "NEST does not allow setting an initial value for g_r\n",
      "NEST does not allow setting an initial value for g_s\n",
      "NEST does not allow setting an initial value for g_ex\n",
      "NEST does not allow setting an initial value for g_in\n",
      "NEST does not allow setting an initial value for g_ex\n",
      "NEST does not allow setting an initial value for g_in\n",
      "NEST does not allow setting an initial value for E_sfa\n",
      "NEST does not allow setting an initial value for I_stc\n",
      "NEST does not allow setting an initial value for g_ex\n",
      "NEST does not allow setting an initial value for g_in\n"
     ]
    },
    {
     "name": "stdout",
     "output_type": "stream",
     "text": [
      "Warning: SpikeSourceInhGamma is defined, but produces the following error: ('UnknownModelName in GetDefaults_l: /inh_gamma_generator is not a known model name. Please check the modeldict for a list of available models.', 'UnknownModelName', <SLILiteral: GetDefaults_l>, ': /inh_gamma_generator is not a known model name. Please check the modeldict for a list of available models.')\n"
     ]
    },
    {
     "data": {
      "text/plain": [
       "['IF_curr_alpha',\n",
       " 'IF_curr_exp',\n",
       " 'IF_cond_alpha',\n",
       " 'IF_cond_exp',\n",
       " 'IF_cond_exp_gsfa_grr',\n",
       " 'IF_facets_hardware1',\n",
       " 'HH_cond_exp',\n",
       " 'EIF_cond_alpha_isfa_ista',\n",
       " 'SpikeSourcePoisson',\n",
       " 'SpikeSourcePoissonRefractory',\n",
       " 'SpikeSourceGamma',\n",
       " 'SpikeSourceArray',\n",
       " 'EIF_cond_exp_isfa_ista',\n",
       " 'Izhikevich',\n",
       " 'GIF_cond_exp']"
      ]
     },
     "execution_count": 5,
     "metadata": {},
     "output_type": "execute_result"
    }
   ],
   "source": [
    "sim.list_standard_models()"
   ]
  },
  {
   "cell_type": "code",
   "execution_count": 6,
   "metadata": {},
   "outputs": [
    {
     "name": "stderr",
     "output_type": "stream",
     "text": [
      "NEST does not allow setting an initial value for isyn_exc\n",
      "NEST does not allow setting an initial value for isyn_inh\n",
      "NEST does not allow setting an initial value for isyn_exc\n",
      "NEST does not allow setting an initial value for isyn_inh\n",
      "NEST does not allow setting an initial value for g_ex\n",
      "NEST does not allow setting an initial value for g_in\n",
      "NEST does not allow setting an initial value for g_ex\n",
      "NEST does not allow setting an initial value for g_in\n",
      "NEST does not allow setting an initial value for g_r\n",
      "NEST does not allow setting an initial value for g_s\n",
      "NEST does not allow setting an initial value for g_ex\n",
      "NEST does not allow setting an initial value for g_in\n",
      "NEST does not allow setting an initial value for E_sfa\n",
      "NEST does not allow setting an initial value for I_stc\n",
      "NEST does not allow setting an initial value for g_ex\n",
      "NEST does not allow setting an initial value for g_in\n"
     ]
    },
    {
     "name": "stdout",
     "output_type": "stream",
     "text": [
      "0 IF_curr_alpha(<parameters>)\n",
      "1 IF_curr_exp(<parameters>)\n",
      "2 IF_cond_alpha(<parameters>)\n",
      "3 IF_cond_exp(<parameters>)\n",
      "4 IF_cond_exp_gsfa_grr(<parameters>)\n",
      "5 IF_facets_hardware1(<parameters>)\n",
      "6 EIF_cond_alpha_isfa_ista(<parameters>)\n",
      "7 EIF_cond_exp_isfa_ista(<parameters>)\n",
      "8 Izhikevich(<parameters>)\n",
      "9 GIF_cond_exp(<parameters>)\n"
     ]
    }
   ],
   "source": [
    "# compute pops\n",
    "\n",
    "for idx, value in enumerate([sim.IF_curr_alpha(),\n",
    "                                 sim.IF_curr_exp(),\n",
    "                                 sim.IF_cond_alpha(),\n",
    "                                 sim.IF_cond_exp(),\n",
    "                                 sim.IF_cond_exp_gsfa_grr(),\n",
    "                                 sim.IF_facets_hardware1(),\n",
    "                                 sim.EIF_cond_alpha_isfa_ista(),\n",
    "                                 sim.EIF_cond_exp_isfa_ista(),\n",
    "                                 sim.Izhikevich(),\n",
    "                                 sim.GIF_cond_exp()]):\n",
    "    print(idx,value)\n",
    "    pops['model_' + str(idx)] = make_pop(value) "
   ]
  },
  {
   "cell_type": "code",
   "execution_count": 7,
   "metadata": {},
   "outputs": [
    {
     "data": {
      "text/plain": [
       "dict_keys(['model_0', 'model_1', 'model_2', 'model_3', 'model_4', 'model_5', 'model_6', 'model_7', 'model_8', 'model_9'])"
      ]
     },
     "execution_count": 7,
     "metadata": {},
     "output_type": "execute_result"
    }
   ],
   "source": [
    "# check pops\n",
    "\n",
    "pops.keys()"
   ]
  },
  {
   "cell_type": "markdown",
   "metadata": {},
   "source": [
    "## make the thalamic input stimulus"
   ]
  },
  {
   "cell_type": "code",
   "execution_count": 8,
   "metadata": {},
   "outputs": [
    {
     "data": {
      "text/plain": [
       "dict_keys(['model_0', 'model_1', 'model_2', 'model_3', 'model_4', 'model_5', 'model_6', 'model_7', 'model_8', 'model_9', 'thalamus'])"
      ]
     },
     "execution_count": 8,
     "metadata": {},
     "output_type": "execute_result"
    }
   ],
   "source": [
    "pops['thalamus'] = sim.Population(\n",
    "                            1, # one thalamic cell for each cell model\n",
    "                            sim.SpikeSourceArray(spike_times=np.arange(50,60)), # ten sequentially spike times\n",
    "                            structure = space.Line(dx=1.0, x0=0.0, y=0.0, z=0.0),\n",
    "                            )    \n",
    "\n",
    "pops.keys()"
   ]
  },
  {
   "cell_type": "markdown",
   "metadata": {},
   "source": [
    "## make the projections"
   ]
  },
  {
   "cell_type": "code",
   "execution_count": 9,
   "metadata": {},
   "outputs": [
    {
     "data": {
      "text/plain": [
       "10"
      ]
     },
     "execution_count": 9,
     "metadata": {},
     "output_type": "execute_result"
    }
   ],
   "source": [
    "projs = {}\n",
    "\n",
    "for i in range(len(pops.keys())-1):\n",
    "    projs['thalamus', 'model_' + str(i)] = sim.Projection(\n",
    "                                    pops['thalamus'],\n",
    "                                    pops['model_' + str(i)],\n",
    "                                    sim.OneToOneConnector(),\n",
    "                                    synapse_type=sim.StaticSynapse(weight=0.1, delay=1.0),\n",
    "                                    receptor_type = 'excitatory',\n",
    "                                    space = space.Space(axes = 'x'),\n",
    "                                    label=None,\n",
    "                                )\n",
    "\n",
    "len(projs.keys())"
   ]
  },
  {
   "cell_type": "markdown",
   "metadata": {},
   "source": [
    "## run the simulation"
   ]
  },
  {
   "cell_type": "code",
   "execution_count": 10,
   "metadata": {},
   "outputs": [
    {
     "data": {
      "text/plain": [
       "250.0"
      ]
     },
     "execution_count": 10,
     "metadata": {},
     "output_type": "execute_result"
    }
   ],
   "source": [
    "sim.run(simtime) "
   ]
  },
  {
   "cell_type": "markdown",
   "metadata": {},
   "source": [
    "## save results"
   ]
  },
  {
   "cell_type": "code",
   "execution_count": 11,
   "metadata": {},
   "outputs": [],
   "source": [
    "# save the results\n",
    "\n",
    "outputs = {}\n",
    "\n",
    "for i in range(len(pops.keys())-1):\n",
    "    outputs['model_' + str(i)] = pops['model_' + str(i)].get_data()\n",
    "    for recording in ['v', 'gsyn_inh', 'gsyn_exc', 'spikes']:\n",
    "        pops['model_' + str(i)].write_data(fileName + '_' + str(recording) + '.pkl')\n"
   ]
  },
  {
   "cell_type": "code",
   "execution_count": null,
   "metadata": {},
   "outputs": [],
   "source": []
  },
  {
   "cell_type": "markdown",
   "metadata": {},
   "source": [
    "## recover results"
   ]
  },
  {
   "cell_type": "code",
   "execution_count": 12,
   "metadata": {},
   "outputs": [],
   "source": [
    "# make the recover results function\n",
    "\n",
    "def recover_results(outputs):\n",
    "    results = {}\n",
    "    for key in outputs.keys(): \n",
    "        \n",
    "        # to get voltage and conductances\n",
    "        for analogsignal in outputs[key].segments[0].analogsignals:\n",
    "            print(analogsignal.name)\n",
    "            results[key, analogsignal.name] = analogsignal\n",
    "\n",
    "        # to get spikes\n",
    "        results[key, 'spikes'] = outputs[key].segments[0].spiketrains\n",
    "    return results\n"
   ]
  },
  {
   "cell_type": "code",
   "execution_count": 13,
   "metadata": {},
   "outputs": [
    {
     "name": "stdout",
     "output_type": "stream",
     "text": [
      "v\n",
      "v\n",
      "v\n",
      "v\n",
      "v\n",
      "v\n",
      "v\n",
      "v\n",
      "v\n",
      "v\n"
     ]
    },
    {
     "data": {
      "text/plain": [
       "dict_keys([('model_0', 'v'), ('model_0', 'spikes'), ('model_1', 'v'), ('model_1', 'spikes'), ('model_2', 'v'), ('model_2', 'spikes'), ('model_3', 'v'), ('model_3', 'spikes'), ('model_4', 'v'), ('model_4', 'spikes'), ('model_5', 'v'), ('model_5', 'spikes'), ('model_6', 'v'), ('model_6', 'spikes'), ('model_7', 'v'), ('model_7', 'spikes'), ('model_8', 'v'), ('model_8', 'spikes'), ('model_9', 'v'), ('model_9', 'spikes')])"
      ]
     },
     "execution_count": 13,
     "metadata": {},
     "output_type": "execute_result"
    }
   ],
   "source": [
    "# recover results\n",
    "\n",
    "results = recover_results(outputs)\n",
    "results.keys()"
   ]
  },
  {
   "cell_type": "markdown",
   "metadata": {},
   "source": [
    "## check the voltage signature"
   ]
  },
  {
   "cell_type": "code",
   "execution_count": 16,
   "metadata": {},
   "outputs": [
    {
     "data": {
      "image/png": "[encoded data removed]",
      "text/plain": [
       "<Figure size 792x504 with 10 Axes>"
      ]
     },
     "metadata": {
      "needs_background": "light"
     },
     "output_type": "display_data"
    }
   ],
   "source": [
    "%matplotlib inline\n",
    "\n",
    "fig, axes = plt.subplots(5, 2, sharex=True, sharey=False, figsize=(11,7))\n",
    "fig.tight_layout(pad=3)\n",
    "fig.suptitle('voltage signature in cell models')\n",
    "\n",
    "axes_list = fig.axes\n",
    "idx = 0\n",
    "for i in range(len(pops.keys())-1):\n",
    "    im = axes_list[i].plot(results['model_' + str(i), 'v'], label=str('model_' + str(i)))\n",
    "    #axes_list[i].set_xticklabels([])\n",
    "    axes_list[i].legend()\n",
    "    axes_list[i].grid(which='both')\n",
    "    if i==0 or i==3 or i==6:\n",
    "        axes_list[i].set_ylabel('[mv]')\n",
    "    if i==6 or i==7 or i==8:\n",
    "        axes_list[i].set_xlabel('[ms]')\n",
    "#fig.show()"
   ]
  },
  {
   "cell_type": "raw",
   "metadata": {},
   "source": [
    "Plot legend:\n",
    "    \n",
    "0 IF_curr_alpha(<parameters>)\n",
    "1 IF_curr_exp(<parameters>)\n",
    "2 IF_cond_alpha(<parameters>)\n",
    "3 IF_cond_exp(<parameters>)\n",
    "4 IF_cond_exp_gsfa_grr(<parameters>)\n",
    "5 IF_facets_hardware1(<parameters>)\n",
    "6 EIF_cond_alpha_isfa_ista(<parameters>)\n",
    "7 EIF_cond_exp_isfa_ista(<parameters>)\n",
    "8 Izhikevich(<parameters>)\n",
    "9 GIF_cond_exp(<parameters>)\n"
   ]
  },
  {
   "cell_type": "code",
   "execution_count": 17,
   "metadata": {},
   "outputs": [],
   "source": [
    "# end simulation\n",
    "\n",
    "sim.end()"
   ]
  },
  {
   "cell_type": "markdown",
   "metadata": {},
   "source": [
    "## Task 1: on the action potential of cell models\n",
    "\n",
    "- Have a look of the plot, you should observe the different voltage signatures having similarities as well as differences. <br>\n",
    "  Describe them or try making a classification by adopting criteria indicated in this bottom image<br>\n",
    "  \n",
    "  e.g., \n",
    "      - depolarization timing\n",
    "      - shape of depolarization\n",
    "      - action potential timing\n",
    "      - shape of repolarization\n",
    "      - presence/absence of refractory period\n",
    "      - resting state timing\n",
    "      \n",
    "      \n",
    "- This simulation has been done with standard parameters. <br>\n",
    "  Choose a parameter shared from all the models and tune it. <br>\n",
    "  Observe how the voltage trace of the action potential changes. <br>\n",
    "  To explore the default paramters, use e.g., `sim.IF_cond_exp.default_parameters` <br>\n",
    "  Change them by defining a new dictionary of pars for each model call e.g., pars[model_x]<br>\n",
    "  "
   ]
  },
  {
   "cell_type": "markdown",
   "metadata": {},
   "source": [
    "![](https://upload.wikimedia.org/wikipedia/commons/4/4a/Action_potential.svg)"
   ]
  },
  {
   "cell_type": "markdown",
   "metadata": {},
   "source": [
    "## Task 2: on the network of different cell models\n",
    "\n",
    "- The previous results are related to single behaviour of the given cell models.<br>\n",
    "  Try to make a population of 25 cells for each model and record their voltage.<br>\n",
    "  The input should be design as a sequence of ten input spikes separeted 150 ms for each model.<br>\n",
    "  E.g., the first model receives input at 50-59ms, the second at 200-209ms, the third at 350-359ms etc.<br>\n",
    "  Plot the results in a single plot showing the all traces that should appear sequentally displayed.<br>\n",
    "  Set the simtime at 1500ms."
   ]
  },
  {
   "cell_type": "code",
   "execution_count": null,
   "metadata": {},
   "outputs": [],
   "source": []
  }
 ],
 "metadata": {
  "kernelspec": {
   "display_name": "Python 3",
   "language": "python",
   "name": "python3"
  },
  "language_info": {
   "codemirror_mode": {
    "name": "ipython",
    "version": 3
   },
   "file_extension": ".py",
   "mimetype": "text/x-python",
   "name": "python",
   "nbconvert_exporter": "python",
   "pygments_lexer": "ipython3",
   "version": "3.7.6"
  }
 },
 "nbformat": 4,
 "nbformat_minor": 4
}
