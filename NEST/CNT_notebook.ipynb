{
 "cells": [
  {
   "cell_type": "markdown",
   "metadata": {},
   "source": [
    "# EBRAINS computational services and HBP\n",
    "\n",
    "- Ebrains https://ebrains.eu/ and the The Human Brain Project https://www.humanbrainproject.eu/en/\n",
    "- In particular, see https://ebrains.eu/service/nest-simulator/\n",
    "\n",
    "- Simulation and Emulation \n",
    "\n",
    "- BrainScaleS and SpiNNaker https://ebrains.eu/service/neuromorphic-computing/\n",
    "    "
   ]
  },
  {
   "cell_type": "markdown",
   "metadata": {},
   "source": [
    "# Info about NEST\n",
    "\n",
    "<img align=\"center\"        \n",
    " src=\"./extra/nest-simulated.png\" width=\"300\" height=\"300\" />\n",
    "\n",
    "- comparison among SpiNNaker and NEST with HPC https://www.frontiersin.org/articles/10.3389/fnins.2018.00291/full\n",
    "\n",
    "- NEST is a simulator for spiking neural network models that focuses on the dynamics, size and structure of neural systems\n",
    "\n",
    "- No exact morphology of individual neurons, but point-models, mono-compartment models\n",
    "\n",
    "\n",
    "- It's good for networks of any size, including models of information processing \n",
    "    - (e.g. in the visual or auditory cortex of mammals)\n",
    "    \n",
    "    \n",
    "- it's good for models of network activity dynamics \n",
    "    - (e.g. laminar cortical networks or balanced random networks) \n",
    "    \n",
    "    \n",
    "- it's good for  models of learning and plasticity\n",
    "    - (e.g., short and long term plasticity)\n",
    "    \n",
    "    \n",
    "- NEST is openly available for download https://www.nest-simulator.org/\n",
    "\n",
    "- ideas behind NEST, interview with Prof. Dr. Hans Ekkehard Plesser https://www.youtube.com/watch?reload=9&v=ARG0hzJea1s\n",
    "\n",
    "- NEST Conference June 28/29 (DL 16 May) https://hifis-events.hzdr.de/event/41/\n",
    "\n",
    "- if you want to install NEST, visit https://nest-simulator.readthedocs.io/en/stable/installation/index.html"
   ]
  },
  {
   "cell_type": "markdown",
   "metadata": {},
   "source": [
    "# Info about PyNN \n",
    "\n",
    "![](https://neuralensemble.org/static/photos/pynn_logo.png)\n",
    "\n",
    "- A Python package for simulator-independent specification of neuronal network models\n",
    "\n",
    "- PyNN works with multiple simulators (SpiNNaker, NEST, Brain, Neuron, etc)\n",
    "\n",
    "- If you want to install install PyNN on your local machine, see info http://neuralensemble.org/docs/PyNN/installation.html\n",
    "\n",
    "- Paper https://www.ncbi.nlm.nih.gov/pmc/articles/PMC2634533/\n",
    "\n",
    "- PyNN website http://neuralensemble.org/docs/PyNN/index.html\n",
    "\n",
    "- PyNN mailing list https://groups.google.com/g/neuralensemble\n",
    "\n"
   ]
  },
  {
   "cell_type": "markdown",
   "metadata": {},
   "source": [
    "# Goal of this tutorial on PyNN\n",
    "\n",
    "- Learn code elements to run a Spiking Neural Networks (SNNs) by using PyNN and NEST simulator\n",
    "- Computational Neuroscience and Theoretical Neuroscience\n"
   ]
  },
  {
   "cell_type": "markdown",
   "metadata": {},
   "source": [
    "## knowledge assumptions: \n",
    "\n",
    "- basis of spiking neural network theory (https://neuronaldynamics.epfl.ch/online/index.html)\n",
    "- familiarity with physical quatities related to electric circuits (e.g., voltages, conductances, currents, capacitances, etc)\n",
    "- basic python coding (numpy, work with dictionaries, some matplotlib tools, etc)"
   ]
  },
  {
   "cell_type": "markdown",
   "metadata": {},
   "source": [
    "# Content:\n",
    "\n",
    "## network building and running\n",
    "1. neurons\n",
    "    - cell types\n",
    "    - populations\n",
    "    - recording variables\n",
    "    \n",
    "    \n",
    "2. connections\n",
    "    - synapse types\n",
    "    - connections types\n",
    "    - projections\n",
    "\n",
    "\n",
    "3. simulation managing\n",
    "    - computational settings\n",
    "    - save and load outputs\n",
    "    - visualization tools\n",
    "\n",
    "## network examples\n",
    "- [1D entry network](eg_1D_entry-network.ipynb)\n",
    "- [1D decaying network](eg_1D_decaying-network.ipynb)\n",
    "- [1D diverging network](eg_1D_diverging-network.ipynb)\n",
    "- [1D small-world network](eg_1D_small-world-network.ipynb)\n",
    "- [1D testing cell models network](eg_1D_testing-cell-models-network.ipynb)\n",
    "- [1D testing STDP model network](eg_1D_testing-STDP-model-network.ipynb)\n",
    "\n",
    "    \n",
    "## topics for an advanced class\n",
    "- bio-realistic neural network \n",
    "- large scale computation (i.e., the size)\n",
    "- model replication (i.e., reproduce results from paper)\n",
    "- parameters explorations (i.e., optimization algs)\n",
    "- running parallel simulations (already managed by SpiNNaker, but for NEST or Neuron see http://neuralensemble.org/docs/PyNN/parallel.html) "
   ]
  },
  {
   "cell_type": "markdown",
   "metadata": {},
   "source": [
    "## expected take-home-points:\n",
    "\n",
    "0. import the simulator\n",
    "1. setup the simulator\n",
    "2. decide the cell types \n",
    "3. design the populations\n",
    "4. define the synapse types\n",
    "5. select the connection algorithm\n",
    "6. make the projections \n",
    "7. idealize the stimulus\n",
    "8. run the simulation\n",
    "9. save the results\n",
    "10. recover the results\n",
    "11. postprocessing (visualization or statistics, etc)\n",
    "12. close the simulations"
   ]
  },
  {
   "cell_type": "markdown",
   "metadata": {},
   "source": [
    "# step0: import the simulator"
   ]
  },
  {
   "cell_type": "code",
   "execution_count": 1,
   "metadata": {},
   "outputs": [
    {
     "name": "stderr",
     "output_type": "stream",
     "text": [
      "/home/alberto-int/anaconda3/lib/python3.7/importlib/_bootstrap.py:219: RuntimeWarning: compiletime version 3.5 of module 'pynestkernel' does not match runtime version 3.7\n",
      "  return f(*args, **kwds)\n"
     ]
    },
    {
     "name": "stdout",
     "output_type": "stream",
     "text": [
      "CSAConnector: libneurosim support not available in NEST.\n",
      "Falling back on PyNN's default CSAConnector.\n",
      "Please re-compile NEST using --with-libneurosim=PATH\n"
     ]
    },
    {
     "name": "stderr",
     "output_type": "stream",
     "text": [
      "/home/alberto-int/anaconda3/lib/python3.7/site-packages/PyNN-0.9.5-py3.7.egg/pyNN/nest/__init__.py:53: UserWarning:Unable to install NEST extensions. Certain models may not be available.\n"
     ]
    }
   ],
   "source": [
    "import pyNN.nest as sim # set accordly also the kernel in the notebook\n",
    "from pyNN import space \n",
    "\n",
    "import numpy as np\n",
    "import matplotlib\n",
    "matplotlib.use('Qt5Agg')\n",
    "import matplotlib.pyplot as plt\n",
    "\n",
    "\n",
    "# note that if you use nest, import pyNN.nest as sim (see http://neuralensemble.org/docs/PyNN/backends.html)"
   ]
  },
  {
   "cell_type": "code",
   "execution_count": 2,
   "metadata": {},
   "outputs": [],
   "source": [
    "# sim + tab key to explore PyNN features (classes, modules, functions, instances)\n",
    "\n",
    "# have a try..."
   ]
  },
  {
   "cell_type": "code",
   "execution_count": null,
   "metadata": {},
   "outputs": [],
   "source": []
  },
  {
   "cell_type": "markdown",
   "metadata": {},
   "source": [
    "# step1: setup the simulator"
   ]
  },
  {
   "cell_type": "code",
   "execution_count": 3,
   "metadata": {},
   "outputs": [
    {
     "name": "stderr",
     "output_type": "stream",
     "text": [
      "/usr/lib/python3.5/dist-packages/nest/lib/hl_api_helper.py:127: UserWarning:\n",
      "ResetNetwork is deprecated and will be removed in NEST 3.0.\n"
     ]
    }
   ],
   "source": [
    "sim.setup(\n",
    "    timestep=1, # [ms]\n",
    "    min_delay=1, # [ms]\n",
    "    max_delay=100) # [ms] # not that the max_delay supported by SpiNNaker is timestep * 144\n",
    "\n",
    "simtime = 200 #ms"
   ]
  },
  {
   "cell_type": "markdown",
   "metadata": {},
   "source": [
    "# step2: the cell types "
   ]
  },
  {
   "cell_type": "markdown",
   "metadata": {},
   "source": [
    "- cell models and source models\n",
    "- point neuron (mono-compartment model)\n",
    "- http://neuralensemble.org/docs/PyNN/standardmodels.html"
   ]
  },
  {
   "cell_type": "code",
   "execution_count": 4,
   "metadata": {},
   "outputs": [
    {
     "name": "stderr",
     "output_type": "stream",
     "text": [
      "NEST does not allow setting an initial value for isyn_exc\n",
      "NEST does not allow setting an initial value for isyn_inh\n",
      "NEST does not allow setting an initial value for isyn_exc\n",
      "NEST does not allow setting an initial value for isyn_inh\n",
      "NEST does not allow setting an initial value for g_ex\n",
      "NEST does not allow setting an initial value for g_in\n",
      "NEST does not allow setting an initial value for g_ex\n",
      "NEST does not allow setting an initial value for g_in\n",
      "NEST does not allow setting an initial value for g_r\n",
      "NEST does not allow setting an initial value for g_s\n",
      "NEST does not allow setting an initial value for g_ex\n",
      "NEST does not allow setting an initial value for g_in\n",
      "NEST does not allow setting an initial value for g_ex\n",
      "NEST does not allow setting an initial value for g_in\n",
      "NEST does not allow setting an initial value for E_sfa\n",
      "NEST does not allow setting an initial value for I_stc\n",
      "NEST does not allow setting an initial value for g_ex\n",
      "NEST does not allow setting an initial value for g_in\n"
     ]
    },
    {
     "name": "stdout",
     "output_type": "stream",
     "text": [
      "Warning: SpikeSourceInhGamma is defined, but produces the following error: ('UnknownModelName in GetDefaults_l: /inh_gamma_generator is not a known model name. Please check the modeldict for a list of available models.', 'UnknownModelName', <SLILiteral: GetDefaults_l>, ': /inh_gamma_generator is not a known model name. Please check the modeldict for a list of available models.')\n"
     ]
    },
    {
     "data": {
      "text/plain": [
       "['IF_curr_alpha',\n",
       " 'IF_curr_exp',\n",
       " 'IF_cond_alpha',\n",
       " 'IF_cond_exp',\n",
       " 'IF_cond_exp_gsfa_grr',\n",
       " 'IF_facets_hardware1',\n",
       " 'HH_cond_exp',\n",
       " 'EIF_cond_alpha_isfa_ista',\n",
       " 'SpikeSourcePoisson',\n",
       " 'SpikeSourcePoissonRefractory',\n",
       " 'SpikeSourceGamma',\n",
       " 'SpikeSourceArray',\n",
       " 'EIF_cond_exp_isfa_ista',\n",
       " 'Izhikevich',\n",
       " 'GIF_cond_exp']"
      ]
     },
     "execution_count": 4,
     "metadata": {},
     "output_type": "execute_result"
    }
   ],
   "source": [
    "sim.list_standard_models()"
   ]
  },
  {
   "cell_type": "code",
   "execution_count": null,
   "metadata": {},
   "outputs": [],
   "source": []
  },
  {
   "cell_type": "markdown",
   "metadata": {},
   "source": [
    "# example with sim.IF_cond_exp \n",
    "\n",
    "- Leaky integrate and fire model with fixed threshold and decaying-exponential post-synaptic conductance.\n",
    "- explicit model https://arxiv.org/pdf/2003.13365.pdf"
   ]
  },
  {
   "cell_type": "code",
   "execution_count": 5,
   "metadata": {},
   "outputs": [
    {
     "data": {
      "text/plain": [
       "['v_rest',\n",
       " 'cm',\n",
       " 'tau_m',\n",
       " 'tau_refrac',\n",
       " 'tau_syn_E',\n",
       " 'tau_syn_I',\n",
       " 'e_rev_E',\n",
       " 'e_rev_I',\n",
       " 'v_thresh',\n",
       " 'v_reset',\n",
       " 'i_offset']"
      ]
     },
     "execution_count": 5,
     "metadata": {},
     "output_type": "execute_result"
    }
   ],
   "source": [
    "# parameter names\n",
    "\n",
    "sim.IF_cond_exp.get_parameter_names()"
   ]
  },
  {
   "cell_type": "code",
   "execution_count": 6,
   "metadata": {},
   "outputs": [
    {
     "data": {
      "text/plain": [
       "{'v_rest': -65.0,\n",
       " 'cm': 1.0,\n",
       " 'tau_m': 20.0,\n",
       " 'tau_refrac': 0.1,\n",
       " 'tau_syn_E': 5.0,\n",
       " 'tau_syn_I': 5.0,\n",
       " 'e_rev_E': 0.0,\n",
       " 'e_rev_I': -70.0,\n",
       " 'v_thresh': -50.0,\n",
       " 'v_reset': -65.0,\n",
       " 'i_offset': 0.0}"
      ]
     },
     "execution_count": 6,
     "metadata": {},
     "output_type": "execute_result"
    }
   ],
   "source": [
    "# default parameters\n",
    "\n",
    "standard_pars = sim.IF_cond_exp.default_parameters\n",
    "\n",
    "standard_pars\n",
    "\n",
    "# see parameters of the models http://neuralensemble.org/docs/PyNN/standardmodels.html"
   ]
  },
  {
   "cell_type": "code",
   "execution_count": 7,
   "metadata": {},
   "outputs": [],
   "source": [
    "# define your own pars, dictonary of testing parameters\n",
    "\n",
    "testing_pars = {'tau_m': 20, \n",
    "                'cm': 1.0, \n",
    "                'v_rest': -65.0, \n",
    "                'v_reset': -70.0, \n",
    "                'v_thresh': -48.0, \n",
    "                'tau_syn_E': 5.0, \n",
    "                'tau_syn_I': 5.0, \n",
    "                'tau_refrac': 2, \n",
    "                'i_offset': 0.0, \n",
    "                'e_rev_E': 0.0, \n",
    "                'e_rev_I': -70.0}"
   ]
  },
  {
   "cell_type": "code",
   "execution_count": 8,
   "metadata": {},
   "outputs": [
    {
     "data": {
      "text/plain": [
       "{'v': -65.0, 'gsyn_exc': 0.0, 'gsyn_inh': 0.0}"
      ]
     },
     "execution_count": 8,
     "metadata": {},
     "output_type": "execute_result"
    }
   ],
   "source": [
    "# initial values\n",
    "\n",
    "sim.IF_cond_exp().default_initial_values"
   ]
  },
  {
   "cell_type": "markdown",
   "metadata": {},
   "source": [
    "# step3: making cell populations\n"
   ]
  },
  {
   "cell_type": "code",
   "execution_count": 9,
   "metadata": {},
   "outputs": [],
   "source": [
    "# define dictionaries\n",
    "\n",
    "pops = {}\n",
    "n_cells = {}\n",
    "neuron_Model = {}\n",
    "neuron_ModelPars = {}\n",
    "initial_Values = {}"
   ]
  },
  {
   "cell_type": "code",
   "execution_count": 10,
   "metadata": {},
   "outputs": [
    {
     "name": "stderr",
     "output_type": "stream",
     "text": [
      "NEST does not allow setting an initial value for g_ex\n",
      "NEST does not allow setting an initial value for g_in\n"
     ]
    },
    {
     "data": {
      "text/plain": [
       "{'Exc': Population(100, IF_cond_exp(<parameters>), structure=Line(dx=1.0, x0=0.0, y=0.0, z=0.0), label='Exc')}"
      ]
     },
     "execution_count": 10,
     "metadata": {},
     "output_type": "execute_result"
    }
   ],
   "source": [
    "# define a popolation of excitatory neurons in 1D\n",
    "\n",
    "popName = 'Exc'\n",
    "n_cells[popName] = 100\n",
    "neuron_Model[popName] = sim.IF_cond_exp\n",
    "neuron_ModelPars[popName] = sim.IF_cond_exp.default_parameters # or standard_pars or testing_pars\n",
    "initial_Values[popName] = sim.IF_cond_exp.default_initial_values\n",
    "\n",
    "pops[popName] = sim.Population(n_cells[popName], \n",
    "                               neuron_Model[popName],\n",
    "                               neuron_ModelPars[popName],\n",
    "                               structure = space.Line(dx=1.0, x0=0.0, y=0.0, z=0.0), \n",
    "                               label = popName)\n",
    "\n",
    "pops[popName].record(['spikes','v','gsyn_exc','gsyn_inh'])   \n",
    "\n",
    "pops"
   ]
  },
  {
   "cell_type": "code",
   "execution_count": 11,
   "metadata": {},
   "outputs": [
    {
     "name": "stderr",
     "output_type": "stream",
     "text": [
      "NEST does not allow setting an initial value for g_ex\n",
      "NEST does not allow setting an initial value for g_in\n"
     ]
    },
    {
     "data": {
      "text/plain": [
       "{'Exc': Population(100, IF_cond_exp(<parameters>), structure=Line(dx=1.0, x0=0.0, y=0.0, z=0.0), label='Exc'),\n",
       " 'Inh': Population(100, IF_cond_exp(<parameters>), structure=Line(dx=1.0, x0=0.0, y=0.0, z=0.0), label='Inh')}"
      ]
     },
     "execution_count": 11,
     "metadata": {},
     "output_type": "execute_result"
    }
   ],
   "source": [
    "# define a popolation of inhibitory neurons in 1D\n",
    "\n",
    "popName = 'Inh'\n",
    "n_cells[popName] = 100\n",
    "neuron_Model[popName] = sim.IF_cond_exp\n",
    "neuron_ModelPars[popName] = sim.IF_cond_exp.default_parameters # or standard_pars or testing_pars\n",
    "initial_Values[popName] = sim.IF_cond_exp.default_initial_values\n",
    "\n",
    "pops[popName] = sim.Population(n_cells[popName], \n",
    "                              neuron_Model[popName],\n",
    "                              neuron_ModelPars[popName],\n",
    "                              structure = space.Line(dx=1.0, x0=0.0, y=0.0, z=0.0),\n",
    "                              label = popName)\n",
    "\n",
    "pops[popName].record(['spikes','v','gsyn_exc','gsyn_inh'])\n",
    "\n",
    "pops"
   ]
  },
  {
   "cell_type": "code",
   "execution_count": 12,
   "metadata": {},
   "outputs": [],
   "source": [
    "# eventually defined random subsets of cells from the the population \n",
    "\n",
    "pops['A'] = pops[popName].sample(750) \n",
    "pops['B'] = pops[popName].sample(250) \n",
    "\n",
    "pops['A'].record(['spikes','v','gsyn_exc','gsyn_inh'])\n",
    "pops['B'].record(['spikes','v','gsyn_exc','gsyn_inh'])"
   ]
  },
  {
   "cell_type": "code",
   "execution_count": 13,
   "metadata": {},
   "outputs": [
    {
     "data": {
      "text/plain": [
       "(array([[0., 0., 1., 1.],\n",
       "        [0., 1., 0., 1.],\n",
       "        [0., 0., 0., 0.]]),\n",
       " array([[0., 0., 0., 0., 1., 1., 1., 1.],\n",
       "        [0., 0., 1., 1., 0., 0., 1., 1.],\n",
       "        [0., 1., 0., 1., 0., 1., 0., 1.]]))"
      ]
     },
     "execution_count": 13,
     "metadata": {},
     "output_type": "execute_result"
    }
   ],
   "source": [
    "# some info to define network with 2D or 3D structures\n",
    "\n",
    "structure = {}\n",
    "\n",
    "structure['1D'] = space.Line(\n",
    "                              dx=1.0, \n",
    "                              x0=0.0, \n",
    "                              y=0.0, \n",
    "                              z=0.0),\n",
    "\n",
    "structure['2D'] = space.Grid2D(\n",
    "                                aspect_ratio=1.0,\n",
    "                                dx=1.0,\n",
    "                                dy=1.0,\n",
    "                                x0=0.0,\n",
    "                                y0=0.0,\n",
    "                                z=0,\n",
    "                                fill_order='sequential', #'random'\n",
    "                                rng=None,\n",
    "                                )\n",
    "\n",
    "structure['3D'] = space.Grid3D(\n",
    "                                aspect_ratioXY=1.0,\n",
    "                                aspect_ratioXZ=1.0,\n",
    "                                dx=1.0,\n",
    "                                dy=1.0,\n",
    "                                dz=1.0,\n",
    "                                x0=0.0,\n",
    "                                y0=0.0,\n",
    "                                z0=0,\n",
    "                                fill_order='sequential', # 'random'\n",
    "                                rng=None,\n",
    "                                )\n",
    "\n",
    "structure['Sphere'] = space.RandomStructure(\n",
    "                                            boundary=space.Sphere(radius=100), \n",
    "                                            origin=(0.0, 0.0, 0.0), \n",
    "                                            rng=None)\n",
    "\n",
    "\n",
    "structure['Cuboid'] = space.RandomStructure(\n",
    "                                            boundary=space.Cuboid(\n",
    "                                                                width=10, \n",
    "                                                                height=10, \n",
    "                                                                depth=10), \n",
    "                                                                origin=(0.0, 0.0, 0.0), \n",
    "                                                                rng=None)\n",
    "\n",
    "\n",
    "# to explore the actual position of the cells:\n",
    "structure['2D'].generate_positions(2**2), structure['3D'].generate_positions(2**3)"
   ]
  },
  {
   "cell_type": "code",
   "execution_count": 14,
   "metadata": {},
   "outputs": [
    {
     "data": {
      "text/plain": [
       "{'v': <larray: base_value=-65.0 shape=(100,) dtype=<class 'float'>, operations=[]>,\n",
       " 'gsyn_exc': <larray: base_value=0.0 shape=(100,) dtype=<class 'float'>, operations=[]>,\n",
       " 'gsyn_inh': <larray: base_value=0.0 shape=(100,) dtype=<class 'float'>, operations=[]>}"
      ]
     },
     "execution_count": 14,
     "metadata": {},
     "output_type": "execute_result"
    }
   ],
   "source": [
    "# get initial values\n",
    "\n",
    "pops['Exc'].initial_values"
   ]
  },
  {
   "cell_type": "code",
   "execution_count": 15,
   "metadata": {},
   "outputs": [
    {
     "data": {
      "text/plain": [
       "<larray: base_value=-65.0 shape=(100,) dtype=<class 'float'>, operations=[]>"
      ]
     },
     "execution_count": 15,
     "metadata": {},
     "output_type": "execute_result"
    }
   ],
   "source": [
    "pops['Exc'].initial_values['v']"
   ]
  },
  {
   "cell_type": "code",
   "execution_count": 16,
   "metadata": {},
   "outputs": [
    {
     "data": {
      "text/plain": [
       "<larray: base_value=0.0 shape=(100,) dtype=<class 'float'>, operations=[]>"
      ]
     },
     "execution_count": 16,
     "metadata": {},
     "output_type": "execute_result"
    }
   ],
   "source": [
    "pops['Exc'].initial_values['gsyn_exc']"
   ]
  },
  {
   "cell_type": "code",
   "execution_count": 17,
   "metadata": {},
   "outputs": [
    {
     "data": {
      "text/plain": [
       "<larray: base_value=0.0 shape=(100,) dtype=<class 'float'>, operations=[]>"
      ]
     },
     "execution_count": 17,
     "metadata": {},
     "output_type": "execute_result"
    }
   ],
   "source": [
    "pops['Exc'].initial_values['gsyn_inh']"
   ]
  },
  {
   "cell_type": "code",
   "execution_count": 18,
   "metadata": {},
   "outputs": [],
   "source": [
    "# change initial values, e.g., voltage\n",
    "\n",
    "pops['Exc'].initialize(v = np.random.normal(loc=-65.0, scale=2.0))\n"
   ]
  },
  {
   "cell_type": "markdown",
   "metadata": {},
   "source": [
    "# step4: synapses types (to use with the sim.Projection costructor)"
   ]
  },
  {
   "cell_type": "code",
   "execution_count": 19,
   "metadata": {},
   "outputs": [],
   "source": [
    "# static synapse weight and delay\n",
    "\n",
    "weights = np.random.normal(loc=0.04, scale=0.01)\n",
    "static_synapse = sim.StaticSynapse(weight=weights, delay=0.5) # weights in [uS] and delay in [ms]\n",
    "\n",
    "# note1: if you use a model with current based synapses, the weights are in nA, otherewise are uS for conductance based synapses models \n"
   ]
  },
  {
   "cell_type": "code",
   "execution_count": 20,
   "metadata": {},
   "outputs": [],
   "source": [
    "# short term synaptic plasticity, depression and facilitation\n",
    "\n",
    "w = np.random.normal(loc=0.04, scale=0.01)\n",
    "depressing_synapse = sim.TsodyksMarkramSynapse(weight=w, # uS or nA\n",
    "                                               delay=0.2, # ms\n",
    "                                               U=0.5, # use parameter\n",
    "                                               tau_rec=800.0, # depression time const # ms\n",
    "                                               tau_facil=0.0) # facil time const # ms\n",
    "\n",
    "tau_rec = np.random.normal(loc=100.0, scale=10.0)\n",
    "facilitating_synapse = sim.TsodyksMarkramSynapse(weight=w, delay=0.5, U=0.04,\n",
    "                                             tau_rec=tau_rec)\n",
    "\n",
    "\n",
    "# https://www.jneurosci.org/content/20/1/RC50.long\n",
    "# http://neuralensemble.org/docs/PyNN/reference/plasticitymodels.html"
   ]
  },
  {
   "cell_type": "code",
   "execution_count": 21,
   "metadata": {},
   "outputs": [],
   "source": [
    "# long term / spike-timinig-dependend plasticity (STDP), i.e. learning\n",
    "\n",
    "stdp_synapse = sim.STDPMechanism(\n",
    "                                 timing_dependence=sim.SpikePairRule(tau_plus=20.0, tau_minus=20.0, A_plus=0.1, A_minus=0.1),\n",
    "                                 weight_dependence=sim.AdditiveWeightDependence(w_min=0.0, w_max=1.0),\n",
    "                                 voltage_dependence=None,\n",
    "                                 dendritic_delay_fraction=1.0,\n",
    "                                 weight = 0.05, # initial value\n",
    "                                 delay = \"0.5 + 0.01*d\", # distance based delay min_delay + f(distance)\n",
    "                                 )\n",
    "# see for details http://neuralensemble.org/docs/PyNN/connections.html#synapse-types"
   ]
  },
  {
   "cell_type": "markdown",
   "metadata": {},
   "source": [
    "- have a look to [1D testing STDP model network](eg_1D_testing-STDP-model-network.ipynb)"
   ]
  },
  {
   "cell_type": "markdown",
   "metadata": {},
   "source": [
    "# step5: connectors types (to use with the sim.Projection costructor)\n"
   ]
  },
  {
   "cell_type": "code",
   "execution_count": 22,
   "metadata": {},
   "outputs": [],
   "source": [
    "# all to all connections\n",
    "\n",
    "connector = sim.AllToAllConnector(allow_self_connections=True) # autapses=True"
   ]
  },
  {
   "cell_type": "code",
   "execution_count": 23,
   "metadata": {},
   "outputs": [],
   "source": [
    "# all to all connections with probability\n",
    "\n",
    "prob = 0.25 # point prob\n",
    "prob = np.random.normal(loc=0.5, scale=0.1) # distribution of prob\n",
    "connector = sim.FixedProbabilityConnector(p_connect=prob)"
   ]
  },
  {
   "cell_type": "code",
   "execution_count": 24,
   "metadata": {},
   "outputs": [],
   "source": [
    "# distance based probability connections\n",
    "\n",
    "d_rule = \"exp(-d)\" # or d_expression = \"d<5\"\n",
    "connector = sim.DistanceDependentProbabilityConnector(d_expression=d_rule)"
   ]
  },
  {
   "cell_type": "code",
   "execution_count": 25,
   "metadata": {},
   "outputs": [],
   "source": [
    "# one to one connections\n",
    "\n",
    "connector = sim.OneToOneConnector()"
   ]
  },
  {
   "cell_type": "code",
   "execution_count": 26,
   "metadata": {},
   "outputs": [],
   "source": [
    "# fixed number of pre synptic neurons randomly taken (from j to i) link to all pre syn neurons\n",
    "\n",
    "connector = sim.FixedNumberPreConnector(n = 50, allow_self_connections=True)"
   ]
  },
  {
   "cell_type": "code",
   "execution_count": 27,
   "metadata": {},
   "outputs": [],
   "source": [
    "# fixed number of post synptic neurons randomly taken (from i to j) link to all post syn neurons\n",
    "\n",
    "connector = sim.FixedNumberPostConnector(n = 50, allow_self_connections=True)"
   ]
  },
  {
   "cell_type": "code",
   "execution_count": 28,
   "metadata": {},
   "outputs": [],
   "source": [
    "# small-world connections\n",
    "\n",
    "do_run = False\n",
    "if do_run:\n",
    "    connector = sim.SmallWorldConnector(\n",
    "                                    degree, # the region length where nodes will be connected locally.\n",
    "                                    rewiring, # the probability of rewiring each edge.\n",
    "                                    allow_self_connections=True,\n",
    "                                    safe=True,\n",
    "                                    verbose=False,\n",
    "                                    n_connections=None, # if specified, the number of efferent synaptic connections per neuron.\n",
    "                                    )\n"
   ]
  },
  {
   "cell_type": "markdown",
   "metadata": {},
   "source": [
    "see example [1D small-world network](eg_1D_small-world-network.ipynb)\n"
   ]
  },
  {
   "cell_type": "code",
   "execution_count": 29,
   "metadata": {},
   "outputs": [],
   "source": [
    "# CSA Connection Set Algebra costructor ( Djurfeldt 2012 https://pubmed.ncbi.nlm.nih.gov/22437992/)\n",
    "\n",
    "do_run = False\n",
    "if do_run:\n",
    "    #cset = a connection set object\n",
    "    connector = CSAConnector(cset, safe=True, callback=None)\n"
   ]
  },
  {
   "cell_type": "code",
   "execution_count": 30,
   "metadata": {},
   "outputs": [],
   "source": [
    "# from file to connector, i.e., [i, j, weight, delay]\n",
    "\n",
    "do_run = False\n",
    "if do_run:\n",
    "    file = 'yourFile.txt'\n",
    "    connector = sim.FromFileConnector(\n",
    "                                    file,\n",
    "                                    distributed=False,\n",
    "                                    safe=True,\n",
    "                                    callback=None,\n",
    "                                    verbose=False,\n",
    "                                )"
   ]
  },
  {
   "cell_type": "code",
   "execution_count": 31,
   "metadata": {},
   "outputs": [],
   "source": [
    "# list based connections, i.e., [i, j, weight, delay]\n",
    "\n",
    "# one-to-one like list\n",
    "#            [i, j,  w,   d]\n",
    "givenList = [[0, 0, 0.08, 1],\n",
    "             [1, 1, 0.08, 1],\n",
    "             [2, 2, 0.08, 1],\n",
    "             [3, 3, 0.08, 1],\n",
    "             [4, 4, 0.08, 1]]\n",
    "             #...\n",
    "\n",
    "connector = sim.FromListConnector(conn_list=givenList)\n",
    "\n",
    "# powerful tool to draw your own connectivity"
   ]
  },
  {
   "cell_type": "markdown",
   "metadata": {},
   "source": [
    "## Example of a function to compute a list for the FromListConnector"
   ]
  },
  {
   "cell_type": "markdown",
   "metadata": {},
   "source": [
    "## e.g., list of Distance based Probability Connections with Distance based Delay (DPCDD)"
   ]
  },
  {
   "cell_type": "code",
   "execution_count": 32,
   "metadata": {},
   "outputs": [],
   "source": [
    "def compute_DPCDD(n_cells_i, n_cells_j, weights, d_thresh, p_thresh, width): \n",
    "    v_c = 0.35 #m/s\n",
    "    d0 = 1 #ms\n",
    "    scale = 1\n",
    "    \n",
    "    connections = {}\n",
    "    probabilities = {}\n",
    "    distances = {}\n",
    "\n",
    "    connections = []\n",
    "    probabilities = []\n",
    "    distances = []\n",
    "    for pre in range(n_cells_i):\n",
    "        for post in range(n_cells_j):\n",
    "            d_ij = np.sqrt((pre - post)**2)\n",
    "            delay = d0 + d_ij / v_c\n",
    "            if d_ij > d_thresh: \n",
    "                distances.append(d_ij)\n",
    "                p_ij = scale*np.exp(-0.5 * (d_ij**2/width**2))\n",
    "                probabilities.append(p_ij)\n",
    "\n",
    "                if p_ij > p_thresh:\n",
    "                    connections.append([pre, post, weights, delay])#, [d_ij, p_ij]])\n",
    "\n",
    "    return connections, distances, probabilities"
   ]
  },
  {
   "cell_type": "markdown",
   "metadata": {},
   "source": [
    "## operative example: center-surround connections "
   ]
  },
  {
   "cell_type": "code",
   "execution_count": 33,
   "metadata": {},
   "outputs": [],
   "source": [
    "# -> see https://link.springer.com/referenceworkentry/10.1007%2F978-1-4614-6675-8_569)\n",
    "# -> see http://www.scholarpedia.org/article/Neural_inhibition"
   ]
  },
  {
   "cell_type": "code",
   "execution_count": 34,
   "metadata": {},
   "outputs": [],
   "source": [
    "# define parameters\n",
    "\n",
    "n_cell = {'excitatory': 100, 'inhibitory': 100}\n",
    "weights = {'excitatory': 0.008, 'inhibitory': 0.008}\n",
    "d_thresh = {'excitatory': 0, 'inhibitory': 2} \n",
    "p_thresh = {'excitatory': 0.1, 'inhibitory': 0.1}\n",
    "width = {'excitatory': 1, 'inhibitory': 3}\n",
    "\n",
    "# ex. look particular cases of one-to-one, all-to-all"
   ]
  },
  {
   "cell_type": "code",
   "execution_count": 35,
   "metadata": {},
   "outputs": [],
   "source": [
    "connections = {}\n",
    "distances = {}\n",
    "probabilities = {}\n",
    "\n",
    "for synapse_type in ['excitatory', 'inhibitory']:\n",
    "    connections[synapse_type], distances[synapse_type], probabilities[synapse_type] = compute_DPCDD(\n",
    "                                                                                                    n_cell[synapse_type], \n",
    "                                                                                                    n_cell[synapse_type], \n",
    "                                                                                                    weights[synapse_type], \n",
    "                                                                                                    d_thresh[synapse_type], \n",
    "                                                                                                    p_thresh[synapse_type],\n",
    "                                                                                                    width[synapse_type])"
   ]
  },
  {
   "cell_type": "code",
   "execution_count": 36,
   "metadata": {},
   "outputs": [
    {
     "data": {
      "text/plain": [
       "<matplotlib.legend.Legend at 0x7f8446efb250>"
      ]
     },
     "execution_count": 36,
     "metadata": {},
     "output_type": "execute_result"
    },
    {
     "data": {
      "image/png": "[encoded data removed]",
      "text/plain": [
       "<Figure size 792x360 with 2 Axes>"
      ]
     },
     "metadata": {
      "needs_background": "light"
     },
     "output_type": "display_data"
    }
   ],
   "source": [
    "# visual check\n",
    "%matplotlib inline\n",
    "\n",
    "fig, ax = plt.subplots(1,2, figsize=(11,5))\n",
    "fig.tight_layout(pad=3)\n",
    "axes_list = fig.axes\n",
    "\n",
    "axes_list[0].plot(np.asarray(connections['excitatory']).T[0], np.asarray(connections['excitatory']).T[1],'go', label='excitatory')\n",
    "axes_list[0].plot(np.asarray(connections['inhibitory']).T[0], np.asarray(connections['inhibitory']).T[1],'r+', label='inhibitory')\n",
    "axes_list[0].grid()\n",
    "axes_list[0].legend()\n",
    "axes_list[0].set_title('scatter plot of connections, e.g., cells from')\n",
    "axes_list[0].set_xlabel('i cells')\n",
    "axes_list[0].set_ylabel('j cells')\n",
    "axes_list[0].set_xlim(20,40)\n",
    "axes_list[0].set_ylim(20,40)\n",
    "\n",
    "\n",
    "axes_list[1].plot(distances['excitatory'],probabilities['excitatory'],'g+')\n",
    "axes_list[1].plot(distances['inhibitory'],probabilities['inhibitory'],'r+') \n",
    "axes_list[1].plot(np.arange(0, 50), 1*np.exp(-0.5 * (np.arange(0, 50)**2/width['excitatory']**2)), 'g:')\n",
    "axes_list[1].plot(np.arange(0, 50), 1*np.exp(-0.5 * (np.arange(0, 50)**2/width['inhibitory']**2)), 'r:')\n",
    "axes_list[1].grid()\n",
    "axes_list[1].set_xlim(0,15)\n",
    "axes_list[1].set_ylim(0,1)\n",
    "axes_list[1].axhline(p_thresh['excitatory'], color='k', label='p_threshold', )\n",
    "axes_list[1].set_title('probability as function of distance')\n",
    "axes_list[1].set_xlabel('distance')\n",
    "axes_list[1].set_ylabel('probability')\n",
    "axes_list[1].legend()\n",
    "\n",
    "#fig.show()\n",
    "\n",
    "# Plots show connections with 2 cells local excitation and 4 cells surrounding inhibition, no autapses"
   ]
  },
  {
   "cell_type": "markdown",
   "metadata": {},
   "source": [
    "# step6: designing projections"
   ]
  },
  {
   "cell_type": "code",
   "execution_count": 37,
   "metadata": {},
   "outputs": [],
   "source": [
    "# compute manual list of connections to have the 2-4 center-surround structure\n",
    "\n",
    "weight = {('Exc', 'Exc') : 0.08,\n",
    "          ('Exc', 'Inh') : 0.08,\n",
    "          ('Inh', 'Exc') : 0.24\n",
    "          }\n",
    "\n",
    "d_thresh = {('Exc', 'Exc'): 0, \n",
    "            ('Inh', 'Exc'): 2} \n",
    "\n",
    "p_thresh = {('Exc', 'Exc'): 0.1, \n",
    "            ('Inh', 'Exc'): 0.1}\n",
    "\n",
    "width = {('Exc', 'Exc'): 1, \n",
    "         ('Inh', 'Exc'): 3}\n",
    "\n",
    "\n",
    "\n",
    "connections = {}\n",
    "distances = {}\n",
    "probabilities = {}\n",
    "\n",
    "connections['Exc', 'Exc'], distances['Exc', 'Exc'], probabilities['Exc', 'Exc'] = compute_DPCDD(n_cells['Exc'], \n",
    "                                                                                                      n_cells['Exc'], \n",
    "                                                                                                      weight['Exc', 'Exc'], \n",
    "                                                                                                      d_thresh['Exc', 'Exc'], \n",
    "                                                                                                      p_thresh['Exc', 'Exc'], \n",
    "                                                                                                      width['Exc', 'Exc'])\n",
    "\n",
    "connections['Inh', 'Exc'], distances['Inh', 'Exc'], probabilities['Inh', 'Exc'] = compute_DPCDD(n_cells['Inh'], \n",
    "                                                                                                      n_cells['Exc'], \n",
    "                                                                                                      weight['Inh', 'Exc'], \n",
    "                                                                                                      d_thresh['Inh', 'Exc'], \n",
    "                                                                                                      p_thresh['Inh', 'Exc'], \n",
    "                                                                                                      width['Inh', 'Exc'])"
   ]
  },
  {
   "cell_type": "code",
   "execution_count": 38,
   "metadata": {},
   "outputs": [],
   "source": [
    "# make the projections (costructor links within and between populations)\n",
    "\n",
    "proj = {}\n",
    "\n",
    "\n",
    "\n",
    "proj['Exc', 'Exc'] = sim.Projection(pops['Exc'], \n",
    "                                    pops['Exc'],\n",
    "                                    connector = sim.FromListConnector(connections['Exc', 'Exc']),\n",
    "                                    receptor_type = 'excitatory',\n",
    "                                    space = space.Space(axes = 'x'),\n",
    "                                    label = 'exc-exc connections'\n",
    "                                    )\n",
    "\n",
    "proj['Exc', 'Inh'] = sim.Projection(pops['Exc'], pops['Inh'],\n",
    "                                    connector = sim.OneToOneConnector(), \n",
    "                                    synapse_type = sim.StaticSynapse(weight=weight['Exc', 'Inh'], delay=1), \n",
    "                                    receptor_type = 'excitatory',\n",
    "                                    space = space.Space(axes = 'x'),\n",
    "                                    label = 'exc-inh connections'\n",
    "                                    )\n",
    "\n",
    "\n",
    "proj['Inh', 'Exc'] = sim.Projection(pops['Inh'], pops['Exc'],\n",
    "                                    connector = sim.FromListConnector(connections['Inh', 'Exc']),\n",
    "                                    receptor_type = 'inhibitory',\n",
    "                                    space = space.Space(axes = 'x'),\n",
    "                                    label = 'inh-exc connections'\n",
    "                                    )\n",
    "\n",
    "# note that using the FromListConnector is not necessary set the synapse weights and delays because are already define inside\n",
    "# they have to be defined with other constructors (OneToOne, AllToAll, etc)"
   ]
  },
  {
   "cell_type": "code",
   "execution_count": 39,
   "metadata": {},
   "outputs": [],
   "source": [
    "# note for the the space arg with 2 or 3 dimensions\n",
    "\n",
    "s = {}\n",
    "s['1D'] = space.Space(axes = 'x')\n",
    "s['2D'] = space.Space(axes = 'xy')\n",
    "s['3D'] = space.Space(axes = 'xyz')\n",
    "s['Sphere'] = space.Space(axes = 'xyz')\n",
    "s['Cuboid'] = space.Space(axes = 'xyz')\n"
   ]
  },
  {
   "cell_type": "markdown",
   "metadata": {},
   "source": [
    "# step7: setting the stimulus, i.e., spike sources or current injection"
   ]
  },
  {
   "cell_type": "markdown",
   "metadata": {},
   "source": [
    "## (thalamic) spike sources"
   ]
  },
  {
   "cell_type": "code",
   "execution_count": 40,
   "metadata": {},
   "outputs": [
    {
     "data": {
      "text/plain": [
       "(0, 200)"
      ]
     },
     "execution_count": 40,
     "metadata": {},
     "output_type": "execute_result"
    },
    {
     "data": {
      "image/png": "[encoded data removed]",
      "text/plain": [
       "<Figure size 432x288 with 1 Axes>"
      ]
     },
     "metadata": {
      "needs_background": "light"
     },
     "output_type": "display_data"
    }
   ],
   "source": [
    "# define the list of spike sources, e.g, with a gaussian input around 100 [ms]\n",
    "\n",
    "popName = 'Thalamus'  \n",
    "\n",
    "n_cells[popName] = n_cells['Exc']\n",
    "spike_times = [[]]*n_cells[popName] #list of spike lists, where one spike list is related to one spike source\n",
    "\n",
    "random_sources_idx = [np.random.randint(n_cells[popName]*0.45, n_cells[popName]*0.55) for i in range(n_cells[popName])]\n",
    "\n",
    "for idx, sources in enumerate(random_sources_idx):\n",
    "    spike_times[sources] = np.sort([np.random.normal(loc=50, scale=10) for n in range(5)])\n",
    "\n",
    "spike_times\n",
    "%matplotlib inline\n",
    "a = plt.eventplot(spike_times)\n",
    "plt.xlabel('[ms]')\n",
    "plt.ylabel('Thalamic cells')\n",
    "plt.title('Raster plot of input spike sources')\n",
    "plt.xlim(0, simtime)\n",
    "\n",
    "#plt.show()\n",
    "#spike_times"
   ]
  },
  {
   "cell_type": "code",
   "execution_count": 41,
   "metadata": {},
   "outputs": [],
   "source": [
    "# define the spike sources populations and projections\n",
    "\n",
    "neuron_Model[popName] = sim.SpikeSourceArray(spike_times=spike_times)\n",
    "\n",
    "pops[popName] = sim.Population(n_cells[popName], \n",
    "                               neuron_Model[popName],\n",
    "                               label = popName)\n",
    "                              # add spatial constraint\n",
    "    \n",
    "proj['Thalamus', 'Exc'] = sim.Projection(pops['Thalamus'], pops['Exc'],\n",
    "               connector = sim.OneToOneConnector(),\n",
    "               synapse_type = sim.StaticSynapse(weight=0.08, delay=1),\n",
    "               receptor_type = 'excitatory',\n",
    "                #space=<pyNN.space.Space object at 0x7ff8f25a2110>,\n",
    "               label = 'thalamus-exc connections'\n",
    "                )\n"
   ]
  },
  {
   "cell_type": "code",
   "execution_count": 42,
   "metadata": {},
   "outputs": [],
   "source": [
    "# otherwise define a spike sources from poisson process\n",
    "\n",
    "do_run = False\n",
    "\n",
    "if do_run:\n",
    "    neuron_Model[popName] = sim.SpikeSourcePoisson(\n",
    "                            rate=50.0, # [Hz]\n",
    "                            start=100, \n",
    "                            duration=None)\n",
    "\n",
    "    pops[popName] = sim.Population(n_cells[popName], \n",
    "                                   neuron_Model[popName],\n",
    "                                   label = popName)\n",
    "                                  # add spatial constraint\n",
    "\n",
    "    proj['Thalamus', 'Exc'] = sim.Projection(pops['Thalamus'], pops['Exc'],\n",
    "                   connector = sim.OneToOneConnector(),\n",
    "                   synapse_type = sim.StaticSynapse(weight=0.08, delay=1),\n",
    "                   receptor_type = 'excitatory',\n",
    "                    #space=<pyNN.space.Space object at 0x7ff8f25a2110>,\n",
    "                   label = 'thalamus-exc connections'\n",
    "                    )\n"
   ]
  },
  {
   "cell_type": "markdown",
   "metadata": {},
   "source": [
    "## injecting current"
   ]
  },
  {
   "cell_type": "code",
   "execution_count": 43,
   "metadata": {},
   "outputs": [],
   "source": [
    "# DC, AC, Noise current [nA]\n",
    "\n",
    "do_run = False\n",
    "\n",
    "if do_run:\n",
    "    \n",
    "    # DC\n",
    "    pulse = DCSource(amplitude=0.5, \n",
    "                     start=20.0, \n",
    "                     stop=80.0)\n",
    "    pulse.inject_into(pops['Exc'])\n",
    "    \n",
    "    # AC\n",
    "    sine = ACSource(start=50.0, \n",
    "                    stop=450.0, \n",
    "                    amplitude=1.0, \n",
    "                    offset=1.0,\n",
    "                    frequency=10.0, \n",
    "                    phase=180.0)\n",
    "    pops['Exc'].inject(sine)\n",
    "    \n",
    "    # noisy current\n",
    "    noise = NoisyCurrentSource(mean=1.5, \n",
    "                               stdev=1.0, \n",
    "                               start=50.0, \n",
    "                               stop=450.0, \n",
    "                               dt=1.0)\n",
    "    pops['Exc'].inject(noise)"
   ]
  },
  {
   "cell_type": "markdown",
   "metadata": {},
   "source": [
    "# step8: run simulation"
   ]
  },
  {
   "cell_type": "code",
   "execution_count": 44,
   "metadata": {},
   "outputs": [
    {
     "data": {
      "text/plain": [
       "200.0"
      ]
     },
     "execution_count": 44,
     "metadata": {},
     "output_type": "execute_result"
    }
   ],
   "source": [
    "sim.run(simtime) # time_bins=500 [ms]\n",
    "\n",
    "# breif recap, what we are going to run:\n",
    "# - network with two pops of exc and inh neurons\n",
    "# - the connectivity is center-surround (exc-inh)\n",
    "# - the stimulus is a random sequence of spikes\n",
    "\n",
    "# wait some minuts..."
   ]
  },
  {
   "cell_type": "markdown",
   "metadata": {},
   "source": [
    "# step9: save results"
   ]
  },
  {
   "cell_type": "code",
   "execution_count": 45,
   "metadata": {},
   "outputs": [],
   "source": [
    "outputs = {}\n",
    "\n",
    "for layer in ['Exc', 'Inh']:\n",
    "    \n",
    "    # save on the notebook space\n",
    "    outputs[layer] = pops[layer].get_data()\n",
    "    \n",
    "    #save in the folder\n",
    "    for recording in ['v', 'gsyn_inh', 'gsyn_exc', 'spikes']:\n",
    "        pops[layer].write_data(str(layer) + '_' + str(recording) + '.pkl')\n",
    "        "
   ]
  },
  {
   "cell_type": "code",
   "execution_count": null,
   "metadata": {},
   "outputs": [],
   "source": []
  },
  {
   "cell_type": "markdown",
   "metadata": {},
   "source": [
    "# step10: recover results"
   ]
  },
  {
   "cell_type": "code",
   "execution_count": 46,
   "metadata": {},
   "outputs": [],
   "source": [
    "def recover_results(outputs):\n",
    "    results = {}\n",
    "    for key in outputs.keys(): # to extract the name of the layer, e.g., Exc, Inh, Thalamus, etc  \n",
    "        \n",
    "        # to get voltage and conductances\n",
    "        for analogsignal in outputs[key].segments[0].analogsignals:\n",
    "            #print(analogsignal.name)\n",
    "            results[key, analogsignal.name] = analogsignal\n",
    "\n",
    "        # to get spikes\n",
    "        results[key, 'spikes'] = outputs[key].segments[0].spiketrains\n",
    "    return results"
   ]
  },
  {
   "cell_type": "code",
   "execution_count": 47,
   "metadata": {},
   "outputs": [
    {
     "data": {
      "text/plain": [
       "dict_keys([('Exc', 'gsyn_inh'), ('Exc', 'gsyn_exc'), ('Exc', 'v'), ('Exc', 'spikes'), ('Inh', 'gsyn_inh'), ('Inh', 'gsyn_exc'), ('Inh', 'v'), ('Inh', 'spikes')])"
      ]
     },
     "execution_count": 47,
     "metadata": {},
     "output_type": "execute_result"
    }
   ],
   "source": [
    "# check results\n",
    "results = recover_results(outputs)\n",
    "results.keys()\n"
   ]
  },
  {
   "cell_type": "markdown",
   "metadata": {},
   "source": [
    "# step11: postprocessing (looking the results)"
   ]
  },
  {
   "cell_type": "code",
   "execution_count": 48,
   "metadata": {},
   "outputs": [],
   "source": [
    "# eventually import pkl files\n",
    "\n",
    "do_run = False\n",
    "\n",
    "if do_run:\n",
    "    import pickle\n",
    "    \n",
    "    # e.g., \n",
    "    with open('Exc_v.pkl', 'rb') as f:\n",
    "            data = pickle.load(f)\n"
   ]
  },
  {
   "cell_type": "code",
   "execution_count": 49,
   "metadata": {},
   "outputs": [
    {
     "data": {
      "image/png": "[encoded data removed]",
      "text/plain": [
       "<Figure size 432x288 with 1 Axes>"
      ]
     },
     "metadata": {
      "needs_background": "light"
     },
     "output_type": "display_data"
    },
    {
     "data": {
      "image/png": "[encoded data removed]",
      "text/plain": [
       "<Figure size 432x288 with 1 Axes>"
      ]
     },
     "metadata": {
      "needs_background": "light"
     },
     "output_type": "display_data"
    }
   ],
   "source": [
    "# check the spikes\n",
    "\n",
    "%matplotlib inline\n",
    "\n",
    "fig, axes = plt.subplots(1, 1)\n",
    "fig.tight_layout(pad=5)\n",
    "axes_list = fig.axes\n",
    "\n",
    "for idx, value in enumerate(['Exc']):\n",
    "    axes_list[idx].eventplot(results[value, 'spikes'])\n",
    "    axes_list[idx].eventplot(spike_times, color='r')\n",
    "    axes_list[idx].set_title('rasterplot of ' + str(value) + ' layer')\n",
    "    axes_list[idx].set_xlabel('[ms]')\n",
    "    axes_list[idx].set_ylabel('cells')\n",
    "    axes_list[idx].set_xlim(simtime)\n",
    "    #axes_list[idx].legend()\n",
    "\n",
    "#fig.show()\n",
    "    \n",
    "fig, axes = plt.subplots(1, 1)\n",
    "fig.tight_layout(pad=5)\n",
    "axes_list = fig.axes\n",
    "\n",
    "for idx, value in enumerate(['Inh']):\n",
    "    axes_list[idx].eventplot(results[value, 'spikes'])\n",
    "    axes_list[idx].eventplot(spike_times, color='r')\n",
    "    axes_list[idx].set_title('rasterplot of ' + str(value) + ' layer')\n",
    "    axes_list[idx].set_xlabel('[ms]')\n",
    "    axes_list[idx].set_ylabel('cells')\n",
    "    axes_list[idx].set_xlim(simtime)\n",
    "\n",
    "\n",
    "#fig.show()  \n",
    "\n",
    "# in red the spikes from the sources"
   ]
  },
  {
   "cell_type": "code",
   "execution_count": 50,
   "metadata": {},
   "outputs": [
    {
     "data": {
      "image/png": "[encoded data removed]",
      "text/plain": [
       "<Figure size 432x288 with 2 Axes>"
      ]
     },
     "metadata": {
      "needs_background": "light"
     },
     "output_type": "display_data"
    },
    {
     "data": {
      "image/png": "[encoded data removed]",
      "text/plain": [
       "<Figure size 432x288 with 2 Axes>"
      ]
     },
     "metadata": {
      "needs_background": "light"
     },
     "output_type": "display_data"
    }
   ],
   "source": [
    "# check the voltage\n",
    "\n",
    "%matplotlib inline\n",
    "\n",
    "fig, axes = plt.subplots(1, 1)#, sharex=True)\n",
    "fig.tight_layout(pad=4)\n",
    "axes_list = fig.axes\n",
    "for idx, value in enumerate(['Exc']):\n",
    "    im = axes_list[idx].imshow(results[value, 'v'].T)\n",
    "    axes_list[idx].set_title('voltage of ' + str(value) + ' layer')\n",
    "    axes_list[idx].set_xlabel('time [ms]')\n",
    "    axes_list[idx].set_ylabel('cells')\n",
    "    fig.colorbar(im, ax=axes_list[idx], fraction=0.010, label='[mV]')\n",
    "#fig.show()\n",
    "    \n",
    "fig, axes = plt.subplots(1, 1)#, sharex=True)\n",
    "fig.tight_layout(pad=4)\n",
    "axes_list = fig.axes\n",
    "for idx, value in enumerate(['Inh']):\n",
    "    im = axes_list[idx].imshow(results[value, 'v'].T)\n",
    "    axes_list[idx].set_title('voltage of ' + str(value) + ' layer')\n",
    "    axes_list[idx].set_xlabel('time [ms]')\n",
    "    axes_list[idx].set_ylabel('cells')\n",
    "    fig.colorbar(im, ax=axes_list[idx], fraction=0.010, label='[mV]')\n",
    "#fig.show()"
   ]
  },
  {
   "cell_type": "code",
   "execution_count": 51,
   "metadata": {},
   "outputs": [
    {
     "data": {
      "image/png": "[encoded data removed]",
      "text/plain": [
       "<Figure size 432x288 with 2 Axes>"
      ]
     },
     "metadata": {
      "needs_background": "light"
     },
     "output_type": "display_data"
    },
    {
     "data": {
      "image/png": "[encoded data removed]",
      "text/plain": [
       "<Figure size 432x288 with 2 Axes>"
      ]
     },
     "metadata": {
      "needs_background": "light"
     },
     "output_type": "display_data"
    }
   ],
   "source": [
    "# check the conductances\n",
    "%matplotlib inline\n",
    "\n",
    "for layer in ['Exc', 'Inh']:\n",
    "    fig, axes = plt.subplots(1, 1)#, figsize=(9,5))\n",
    "    fig.tight_layout(pad=4)\n",
    "    fig.suptitle(str(layer) + ' layer')\n",
    "    axes_list = fig.axes\n",
    "    \n",
    "    for idx, gsyn in enumerate(['gsyn_exc']):#, 'gsyn_inh']):\n",
    "        im = axes_list[idx].imshow(results[layer, gsyn].T)\n",
    "        axes_list[idx].set_title(str(gsyn))\n",
    "        axes_list[idx].set_xlabel('time [ms]')\n",
    "        axes_list[idx].set_ylabel('cells')\n",
    "        fig.colorbar(im, ax=axes_list[idx], fraction=0.010, label='[uS]')\n",
    "    \n",
    "#    fig.show()"
   ]
  },
  {
   "cell_type": "markdown",
   "metadata": {},
   "source": [
    "# step12: close simulation\n"
   ]
  },
  {
   "cell_type": "code",
   "execution_count": 52,
   "metadata": {},
   "outputs": [],
   "source": [
    "sim.end()"
   ]
  },
  {
   "cell_type": "markdown",
   "metadata": {},
   "source": [
    "# learn-by-examples\n",
    "\n",
    "- [1D entry network](eg_1D_entry-network.ipynb)\n",
    "- [1D decaying network](eg_1D_decaying-network.ipynb)\n",
    "- [1D diverging network](eg_1D_diverging-network.ipynb)\n",
    "- [1D testing cell models network](eg_1D_testing-cell-models-network.ipynb)\n",
    "- [1D testing STDP model network](eg_1D_testing-STDP-model-network.ipynb)\n",
    "\n",
    "\n",
    "\n"
   ]
  },
  {
   "cell_type": "markdown",
   "metadata": {},
   "source": [
    "# learn-with-exercices\n",
    "\n",
    "- [ex_network_A](ex_network_A.ipynb), i.e., a 1D network of 100 cells that receives a sequence of random thalamic inputs\n",
    "- [ex_network_B](ex_network_B.ipynb), i.e., a 2D network of 900 excitatory cells that receives a sequence of 2D geometric thalamic inputs\n",
    "- [ex_network_C](), i.e., to-be-defined"
   ]
  },
  {
   "cell_type": "markdown",
   "metadata": {},
   "source": [
    "# learn-from-scretch\n",
    "- create equivalent or extended PyNN functions by using numpy, e.g., specially for peculiar type of connectivities (use FromListConnector)\n",
    "- create a network and check the [balance]( http://www.scholarpedia.org/article/Balance_of_excitation_and_inhibition) between excitatory and inhibitory components  (e.g. [Brette et al 2007](http://neuralensemble.org/docs/PyNN/examples/VAbenchmarks.html))\n",
    "- explore boundary conditions in 1D by comparing open and close ring networks (define properly the list of connections)\n",
    "- compare two populations of different cell models and observe their difference on reacting to a stimulus\n",
    "- create a network to make a deep signal processing with statistics, data analysis, and exploration of the frequency domain (FFT, HHT)\n",
    "- design a set of stimuli with different onset timing and shape and test them on a simple network\n",
    "- take one [example](http://neuralensemble.org/docs/PyNN/examples.html) from the PyNN website made for NEST and adapt to run on SpiNNaker\n",
    "- take one example from the learn-by-examples section and extend it in 2D or 3D  \n",
    "- use the notebook called [eg_nD_blank_network](eg_nD_blank-network.ipynb) and start your personal simulations\n",
    "\n",
    "\n"
   ]
  },
  {
   "cell_type": "code",
   "execution_count": null,
   "metadata": {},
   "outputs": [],
   "source": []
  },
  {
   "cell_type": "code",
   "execution_count": null,
   "metadata": {},
   "outputs": [],
   "source": []
  }
 ],
 "metadata": {
  "kernelspec": {
   "display_name": "Python 3",
   "language": "python",
   "name": "python3"
  },
  "language_info": {
   "codemirror_mode": {
    "name": "ipython",
    "version": 3
   },
   "file_extension": ".py",
   "mimetype": "text/x-python",
   "name": "python",
   "nbconvert_exporter": "python",
   "pygments_lexer": "ipython3",
   "version": "3.7.6"
  }
 },
 "nbformat": 4,
 "nbformat_minor": 4
}
