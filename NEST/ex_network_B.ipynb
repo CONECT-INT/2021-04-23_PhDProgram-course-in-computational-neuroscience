{
 "cells": [
  {
   "cell_type": "markdown",
   "metadata": {},
   "source": [
    "# ex_network_B\n"
   ]
  },
  {
   "cell_type": "markdown",
   "metadata": {},
   "source": [
    "Design a 2D neural network of 1000 cells receiving geometric thalamic inputs\n",
    "\n",
    "Define the stimulus as a geometric figures on a surface (e.g. an empty square, an empty triangle, etc).\n",
    "\n",
    "The thalamo-cx connectivity is one-to-one.\n",
    "\n",
    "Model of cells is free of choice.\n",
    "\n",
    "Record and plot spikes, voltage and both the conductances."
   ]
  },
  {
   "cell_type": "code",
   "execution_count": 1,
   "metadata": {},
   "outputs": [],
   "source": [
    "# fileName\n",
    "\n",
    "fileName = 'ex_network_B'"
   ]
  },
  {
   "cell_type": "code",
   "execution_count": 2,
   "metadata": {},
   "outputs": [
    {
     "name": "stderr",
     "output_type": "stream",
     "text": [
      "/home/alberto-int/anaconda3/lib/python3.7/importlib/_bootstrap.py:219: RuntimeWarning: compiletime version 3.5 of module 'pynestkernel' does not match runtime version 3.7\n",
      "  return f(*args, **kwds)\n"
     ]
    },
    {
     "name": "stdout",
     "output_type": "stream",
     "text": [
      "CSAConnector: libneurosim support not available in NEST.\n",
      "Falling back on PyNN's default CSAConnector.\n",
      "Please re-compile NEST using --with-libneurosim=PATH\n"
     ]
    },
    {
     "name": "stderr",
     "output_type": "stream",
     "text": [
      "/home/alberto-int/anaconda3/lib/python3.7/site-packages/PyNN-0.9.5-py3.7.egg/pyNN/nest/__init__.py:53: UserWarning:Unable to install NEST extensions. Certain models may not be available.\n"
     ]
    }
   ],
   "source": [
    "# libs\n",
    "\n",
    "import pyNN.nest as sim\n",
    "from pyNN import space \n",
    "import numpy as np\n",
    "import matplotlib.pyplot as plt\n"
   ]
  },
  {
   "cell_type": "code",
   "execution_count": 3,
   "metadata": {},
   "outputs": [
    {
     "name": "stderr",
     "output_type": "stream",
     "text": [
      "/usr/lib/python3.5/dist-packages/nest/lib/hl_api_helper.py:127: UserWarning:\n",
      "ResetNetwork is deprecated and will be removed in NEST 3.0.\n"
     ]
    }
   ],
   "source": [
    "# simulation settings\n",
    "\n",
    "sim.setup(\n",
    "        timestep=1, # [ms]\n",
    "        min_delay=1, # [ms]\n",
    "        max_delay=100) # [ms]\n",
    "\n",
    "simtime = 1000 # [ms+]\n"
   ]
  },
  {
   "cell_type": "code",
   "execution_count": 4,
   "metadata": {},
   "outputs": [
    {
     "name": "stderr",
     "output_type": "stream",
     "text": [
      "NEST does not allow setting an initial value for g_ex\n",
      "NEST does not allow setting an initial value for g_in\n"
     ]
    }
   ],
   "source": [
    "# make the network\n",
    "\n",
    "structure = {}\n",
    "structure['2D'] = space.Grid2D(\n",
    "                                aspect_ratio=1.0,\n",
    "                                dx=1.0,\n",
    "                                dy=1.0,\n",
    "                                x0=0.0,\n",
    "                                y0=0.0,\n",
    "                                z=0,\n",
    "                                fill_order='sequential', #'random'\n",
    "                                rng=None,\n",
    "                                )\n",
    "sizePop = 900\n",
    "cx = {}\n",
    "v_init = np.random.uniform(low=-70, high=-60)\n",
    "cx['tot'] = sim.Population(\n",
    "                    sizePop,\n",
    "                    sim.IF_cond_exp,\n",
    "                    cellparams=sim.IF_cond_exp.default_parameters,\n",
    "                    structure = structure['2D'],\n",
    "                    initial_values = {'v': v_init},\n",
    "                    label='cx'\n",
    "                   )\n",
    "\n"
   ]
  },
  {
   "cell_type": "code",
   "execution_count": 5,
   "metadata": {},
   "outputs": [],
   "source": [
    "# set recording of state variables\n",
    "\n",
    "cx['tot'].record(['spikes','v','gsyn_exc','gsyn_inh'])"
   ]
  },
  {
   "cell_type": "code",
   "execution_count": 6,
   "metadata": {},
   "outputs": [
    {
     "data": {
      "text/plain": [
       "array([[ 0.,  0.,  0., ..., 29., 29., 29.],\n",
       "       [ 0.,  1.,  2., ..., 27., 28., 29.],\n",
       "       [ 0.,  0.,  0., ...,  0.,  0.,  0.]])"
      ]
     },
     "execution_count": 6,
     "metadata": {},
     "output_type": "execute_result"
    }
   ],
   "source": [
    "# generate position of cells\n",
    "\n",
    "structure['2D'].generate_positions(900)"
   ]
  },
  {
   "cell_type": "code",
   "execution_count": 7,
   "metadata": {},
   "outputs": [],
   "source": [
    "# make the spike times\n",
    "\n",
    "spike_times = [[]]*sizePop\n",
    "\n",
    "im = np.zeros((int(np.sqrt(sizePop)), int(np.sqrt(sizePop))))\n",
    "\n",
    "traj = [[5, 5],\n",
    "        [5, 6],\n",
    "        [5, 7],\n",
    "        [5, 8],\n",
    "        [5, 9],\n",
    "        [5, 10],\n",
    "        [5, 11],\n",
    "        [5, 12],\n",
    "        [5, 13],\n",
    "        [5, 14],\n",
    "        [5, 15],\n",
    "        [5, 16],\n",
    "        [5, 17],\n",
    "        [5, 18],\n",
    "        [5, 19],\n",
    "        [5, 20]]\n",
    "\n",
    " \n",
    "\n",
    "\n"
   ]
  },
  {
   "cell_type": "code",
   "execution_count": 8,
   "metadata": {},
   "outputs": [
    {
     "name": "stdout",
     "output_type": "stream",
     "text": [
      "Using matplotlib backend: Qt5Agg\n"
     ]
    },
    {
     "data": {
      "text/plain": [
       "array([124, 125, 126, 127, 128, 129, 130, 131, 132, 133, 134, 135, 136,\n",
       "       137, 138, 139, 140, 141, 142, 143, 144, 145, 154, 175, 184, 205,\n",
       "       214, 235, 244, 265, 274, 295, 304, 325, 334, 355, 364, 385, 394,\n",
       "       415, 424, 445, 454, 475, 484, 505, 514, 535, 544, 565, 574, 595,\n",
       "       604, 625, 634, 655, 664, 685, 694, 715, 724, 725, 726, 727, 728,\n",
       "       729, 730, 731, 732, 733, 734, 735, 736, 737, 738, 739, 740, 741,\n",
       "       742, 743, 744, 745])"
      ]
     },
     "execution_count": 8,
     "metadata": {},
     "output_type": "execute_result"
    }
   ],
   "source": [
    "for i in range(4,25):\n",
    "    im[4,i] = 1\n",
    "    \n",
    "for i in range(4,25):\n",
    "    im[i,25] = 1\n",
    "\n",
    "for i in range(4, 25):\n",
    "    im[24, i] = 1\n",
    "    \n",
    "for i in range(4, 25):\n",
    "    im[i, 4] = 1\n",
    "\n",
    "%matplotlib\n",
    "plt.matshow(im)\n",
    "\n",
    "actualSources = np.where(im==1)[0]*int(np.sqrt(sizePop)) + np.where(im==1)[1]\n",
    "actualSources"
   ]
  },
  {
   "cell_type": "code",
   "execution_count": 10,
   "metadata": {},
   "outputs": [
    {
     "data": {
      "image/png": "[encoded data removed]",
      "text/plain": [
       "<Figure size 432x288 with 1 Axes>"
      ]
     },
     "metadata": {
      "needs_background": "light"
     },
     "output_type": "display_data"
    }
   ],
   "source": [
    "spike_times = [[]]*sizePop\n",
    "for idx, value in enumerate(actualSources):\n",
    "    spike_times[value] = [10*idx + 100] # compute the spike timing in relation to the selected cells, 10ms each starting at 100ms\n",
    "\n",
    "%matplotlib inline  \n",
    "fig, axes = plt.subplots(1, 1)\n",
    "fig.tight_layout(pad=5)\n",
    "axes_list = fig.axes\n",
    "\n",
    "for idx, value in enumerate(['network']):\n",
    "    axes_list[idx].eventplot(spike_times)\n",
    "    axes_list[idx].set_title('rasterplot of ' + str(value) + ' layer')\n",
    "    axes_list[idx].set_xlabel('[ms]')\n",
    "    axes_list[idx].set_ylabel('cells')\n",
    "    axes_list[idx].set_xlim(0, simtime)\n",
    "#fig.show()"
   ]
  },
  {
   "cell_type": "code",
   "execution_count": 11,
   "metadata": {},
   "outputs": [],
   "source": [
    "# make the thalamic input sources\n",
    "\n",
    "thalamus = {}\n",
    "thalamus['A'] = sim.Population(\n",
    "                                sizePop,\n",
    "                                sim.SpikeSourceArray(spike_times=spike_times),\n",
    "                                structure=structure['2D']\n",
    "                                )\n"
   ]
  },
  {
   "cell_type": "code",
   "execution_count": 12,
   "metadata": {},
   "outputs": [],
   "source": []
  },
  {
   "cell_type": "code",
   "execution_count": 12,
   "metadata": {},
   "outputs": [],
   "source": [
    "# make the projection\n",
    "\n",
    "projs = {}\n",
    "\n",
    "projs['thal', 'cx'] = sim.Projection(\n",
    "                                    thalamus['A'],\n",
    "                                    cx['tot'] ,\n",
    "                                    sim.OneToOneConnector(),\n",
    "                                    synapse_type=sim.StaticSynapse(weight=0.1, delay=1),\n",
    "                                    source=None,\n",
    "                                    receptor_type='excitatory',\n",
    "                                    space = space.Space(axes = 'xy'),\n",
    "                                    label='thal->cx-e',\n",
    "                                )\n",
    "\n"
   ]
  },
  {
   "cell_type": "code",
   "execution_count": 13,
   "metadata": {},
   "outputs": [
    {
     "data": {
      "text/plain": [
       "1000.0"
      ]
     },
     "execution_count": 13,
     "metadata": {},
     "output_type": "execute_result"
    }
   ],
   "source": [
    "# run simulation\n",
    "\n",
    "sim.run(simtime) "
   ]
  },
  {
   "cell_type": "code",
   "execution_count": 14,
   "metadata": {},
   "outputs": [],
   "source": [
    "# save the results\n",
    "\n",
    "\n",
    "outputs = {}\n",
    "\n",
    "outputs['cx'] = cx['tot'].get_data()\n",
    "for recording in ['v', 'gsyn_inh', 'gsyn_exc', 'spikes']:\n",
    "    cx['tot'].write_data(fileName + '_' + str(recording) + '.pkl')\n"
   ]
  },
  {
   "cell_type": "code",
   "execution_count": 18,
   "metadata": {},
   "outputs": [],
   "source": [
    "# recover results function\n",
    "\n",
    "def recover_results(outputs):\n",
    "    results = {}\n",
    "    for key in outputs.keys(): # to extract the name of the layer, e.g., Exc, Inh, Thalamus, etc  \n",
    "        \n",
    "        # to get voltage and conductances\n",
    "        for analogsignal in outputs[key].segments[0].analogsignals:\n",
    "            print(analogsignal.name)\n",
    "            results[key, analogsignal.name] = analogsignal\n",
    "\n",
    "        # to get spikes\n",
    "        results[key, 'spikes'] = outputs[key].segments[0].spiketrains\n",
    "    return results\n"
   ]
  },
  {
   "cell_type": "code",
   "execution_count": 19,
   "metadata": {},
   "outputs": [
    {
     "name": "stdout",
     "output_type": "stream",
     "text": [
      "v\n",
      "gsyn_inh\n",
      "gsyn_exc\n"
     ]
    },
    {
     "data": {
      "text/plain": [
       "dict_keys([('cx', 'v'), ('cx', 'gsyn_inh'), ('cx', 'gsyn_exc'), ('cx', 'spikes')])"
      ]
     },
     "execution_count": 19,
     "metadata": {},
     "output_type": "execute_result"
    }
   ],
   "source": [
    "# recover results\n",
    "\n",
    "results = recover_results(outputs)\n",
    "results.keys()"
   ]
  },
  {
   "cell_type": "code",
   "execution_count": 30,
   "metadata": {},
   "outputs": [
    {
     "data": {
      "text/plain": [
       "(0, 1000)"
      ]
     },
     "execution_count": 30,
     "metadata": {},
     "output_type": "execute_result"
    },
    {
     "data": {
      "image/png": "[encoded data removed]",
      "text/plain": [
       "<Figure size 504x360 with 1 Axes>"
      ]
     },
     "metadata": {
      "needs_background": "light"
     },
     "output_type": "display_data"
    }
   ],
   "source": [
    "# check the spikes\n",
    "\n",
    "%matplotlib inline\n",
    "fig, axes = plt.subplots(1, 1, figsize=(7,5))\n",
    "fig.tight_layout(pad=5)\n",
    "axes_list = fig.axes\n",
    "idx = 0\n",
    "axes_list[idx].eventplot(results['cx', 'spikes'])\n",
    "axes_list[idx].set_title('rasterplot of cx layer')\n",
    "axes_list[idx].set_xlabel('[ms]')\n",
    "axes_list[idx].set_ylabel('cells')\n",
    "axes_list[idx].set_xlim(0, simtime)\n",
    "#fig.show()"
   ]
  },
  {
   "cell_type": "code",
   "execution_count": 28,
   "metadata": {},
   "outputs": [
    {
     "data": {
      "text/plain": [
       "<matplotlib.colorbar.Colorbar at 0x7f36e1242fd0>"
      ]
     },
     "execution_count": 28,
     "metadata": {},
     "output_type": "execute_result"
    },
    {
     "data": {
      "image/png": "[encoded data removed]",
      "text/plain": [
       "<Figure size 648x360 with 2 Axes>"
      ]
     },
     "metadata": {
      "needs_background": "light"
     },
     "output_type": "display_data"
    }
   ],
   "source": [
    "# check the voltage\n",
    "\n",
    "%matplotlib inline\n",
    "fig, axes = plt.subplots(1, 1, figsize=(9,5))\n",
    "fig.tight_layout(pad=5)\n",
    "axes_list = fig.axes\n",
    "im = axes_list[0].imshow(results['cx', 'v'].T)\n",
    "axes_list[0].set_title('voltage of cx')\n",
    "axes_list[0].set_xlabel('time [ms]')\n",
    "axes_list[0].set_ylabel('cells')\n",
    "fig.colorbar(im, ax=axes_list[0], fraction=0.010, label='[mV]')\n",
    "#fig.show()\n",
    "\n"
   ]
  },
  {
   "cell_type": "code",
   "execution_count": 26,
   "metadata": {},
   "outputs": [
    {
     "data": {
      "text/plain": [
       "<matplotlib.colorbar.Colorbar at 0x7f36d816b590>"
      ]
     },
     "execution_count": 26,
     "metadata": {},
     "output_type": "execute_result"
    },
    {
     "data": {
      "image/png": "[encoded data removed]",
      "text/plain": [
       "<Figure size 648x360 with 2 Axes>"
      ]
     },
     "metadata": {
      "needs_background": "light"
     },
     "output_type": "display_data"
    }
   ],
   "source": [
    "# plot votlage variance and reshape the 900 cells in a square of 30x30\n",
    "\n",
    "var = []\n",
    "for i in range(len(results['cx', 'v'].T)):\n",
    "    var +=[np.var(results['cx', 'v'][:, i])]\n",
    "\n",
    "%matplotlib inline\n",
    "fig, axes = plt.subplots(1, 1, figsize=(9,5))\n",
    "fig.tight_layout(pad=5)\n",
    "axes_list = fig.axes\n",
    "im = axes_list[0].matshow(np.asarray(var).reshape(30,30))\n",
    "axes_list[0].set_title('voltage variance of cx')\n",
    "axes_list[0].set_xlabel('cells')\n",
    "axes_list[0].set_ylabel('cells')\n",
    "fig.colorbar(im, ax=axes_list[0], fraction=0.010, label='a.u.')\n",
    "#fig.show()"
   ]
  },
  {
   "cell_type": "code",
   "execution_count": 27,
   "metadata": {},
   "outputs": [
    {
     "data": {
      "image/png": "[encoded data removed]",
      "text/plain": [
       "<Figure size 648x360 with 2 Axes>"
      ]
     },
     "metadata": {
      "needs_background": "light"
     },
     "output_type": "display_data"
    }
   ],
   "source": [
    "# check the conductances of cx\n",
    "%matplotlib inline\n",
    "\n",
    "for layer in ['cx']:\n",
    "    fig, axes = plt.subplots(1, 1, figsize=(9,5))\n",
    "    fig.tight_layout(pad=5)\n",
    "    axes_list = fig.axes\n",
    "    \n",
    "    for idx, gsyn in enumerate(['gsyn_exc']):#, 'gsyn_inh']):\n",
    "        im = axes_list[idx].imshow(results[layer, gsyn].T)\n",
    "        axes_list[idx].set_title(str(gsyn))\n",
    "        axes_list[idx].set_xlabel('time [ms]')\n",
    "        axes_list[idx].set_ylabel('cells')\n",
    "        fig.colorbar(im, ax=axes_list[idx], fraction=0.010, label='[uS]')\n",
    "    #fig.show()"
   ]
  },
  {
   "cell_type": "code",
   "execution_count": 25,
   "metadata": {},
   "outputs": [],
   "source": [
    "# end simulation\n",
    "\n",
    "sim.end()"
   ]
  },
  {
   "cell_type": "code",
   "execution_count": null,
   "metadata": {},
   "outputs": [],
   "source": []
  },
  {
   "cell_type": "code",
   "execution_count": null,
   "metadata": {},
   "outputs": [],
   "source": []
  }
 ],
 "metadata": {
  "kernelspec": {
   "display_name": "Python 3",
   "language": "python",
   "name": "python3"
  },
  "language_info": {
   "codemirror_mode": {
    "name": "ipython",
    "version": 3
   },
   "file_extension": ".py",
   "mimetype": "text/x-python",
   "name": "python",
   "nbconvert_exporter": "python",
   "pygments_lexer": "ipython3",
   "version": "3.7.6"
  }
 },
 "nbformat": 4,
 "nbformat_minor": 4
}
