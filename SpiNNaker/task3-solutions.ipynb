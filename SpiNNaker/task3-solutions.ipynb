{
 "cells": [
  {
   "cell_type": "markdown",
   "metadata": {},
   "source": [
    "# Balanced Random Cortex-like Network (Hard)\n",
    "This task will create a network that this similar to part of the Cortex in the brain. This will take some input\n",
    "from outside of the network, representing other surrounding neurons in the form of poisson spike sources.\n",
    "These will then feed into an excitatory and an inhibitory network set up in a balanced random network. This\n",
    "will use distributions of weights and delays as would occur in the brain.\n",
    "\n",
    "Create a variable containing the number of neurons to be simulated in the network."
   ]
  },
  {
   "cell_type": "code",
   "execution_count": 1,
   "metadata": {},
   "outputs": [],
   "source": [
    "n_neurons = 100"
   ]
  },
  {
   "cell_type": "markdown",
   "metadata": {},
   "source": [
    "Set up the simulation to use 0.1ms timesteps."
   ]
  },
  {
   "cell_type": "code",
   "execution_count": 2,
   "metadata": {},
   "outputs": [
    {
     "name": "stdout",
     "output_type": "stream",
     "text": [
      "Detected PyNN version 0.9.4 and Neo version 0.6.1\n"
     ]
    },
    {
     "name": "stderr",
     "output_type": "stream",
     "text": [
      "2021-04-10 14:27:06 INFO: Read cfg files: /home/spinnaker/sPyNNaker/lib/python3.6/site-packages/spinn_front_end_common/interface/spinnaker.cfg, /home/spinnaker/sPyNNaker/lib/python3.6/site-packages/spynnaker/pyNN/spynnaker.cfg, /home/spinnaker/.spynnaker.cfg\n",
      "2021-04-10 14:27:06 INFO: Will search these locations for binaries: /home/spinnaker/sPyNNaker/lib/python3.6/site-packages/spinn_front_end_common/common_model_binaries : /home/spinnaker/sPyNNaker/lib/python3.6/site-packages/spynnaker/pyNN/model_binaries\n",
      "2021-04-10 14:27:06 WARNING: A timestep was entered that has forced sPyNNaker to automatically slow the simulation down from real time by a factor of 10. To remove this automatic behaviour, please enter a timescaleFactor value in your .spynnaker.cfg\n",
      "2021-04-10 14:27:06 INFO: Setting time scale factor to 10.\n",
      "2021-04-10 14:27:06 INFO: Setting machine time step to 100 micro-seconds.\n"
     ]
    },
    {
     "name": "stdout",
     "output_type": "stream",
     "text": [
      "['/home/spinnaker/sPyNNaker/lib/python3.6/site-packages/spinn_front_end_common/interface/spinnaker.cfg', '/home/spinnaker/sPyNNaker/lib/python3.6/site-packages/spynnaker/pyNN/spynnaker.cfg', '/home/spinnaker/.spynnaker.cfg']\n"
     ]
    },
    {
     "data": {
      "text/plain": [
       "0"
      ]
     },
     "execution_count": 2,
     "metadata": {},
     "output_type": "execute_result"
    }
   ],
   "source": [
    "import pyNN.spiNNaker as p\n",
    "p.setup(0.1)"
   ]
  },
  {
   "cell_type": "markdown",
   "metadata": {},
   "source": [
    "Create an excitatory population with 80% of the neurons and an inhibitory population with 20% of\n",
    "the neurons (hint: the number of neurons needs to be an integer)."
   ]
  },
  {
   "cell_type": "code",
   "execution_count": 3,
   "metadata": {},
   "outputs": [],
   "source": [
    "exc = p.Population(int(n_neurons * 0.8), p.IF_curr_exp())\n",
    "inh = p.Population(int(n_neurons * 0.2), p.IF_curr_exp())"
   ]
  },
  {
   "cell_type": "markdown",
   "metadata": {},
   "source": [
    "Create excitatory poisson stimulation population with 80% of the neurons and an inhibitory poisson\n",
    "stimulation population with 20% of the neurons, both with a rate of 1000Hz.\n"
   ]
  },
  {
   "cell_type": "code",
   "execution_count": 4,
   "metadata": {},
   "outputs": [],
   "source": [
    "exc_poisson = p.Population(int(n_neurons * 0.8), p.SpikeSourcePoisson(rate=1000.0))\n",
    "inh_poisson = p.Population(int(n_neurons * 0.2), p.SpikeSourcePoisson(rate=1000.0))"
   ]
  },
  {
   "cell_type": "markdown",
   "metadata": {},
   "source": [
    "Create a one-to-one excitatory connection from the excitatory poisson stimulation population to the\n",
    "excitatory population with a weight of 0.11nA and a delay of 1.0ms."
   ]
  },
  {
   "cell_type": "code",
   "execution_count": 5,
   "metadata": {},
   "outputs": [
    {
     "data": {
      "text/plain": [
       "projection from pre SpikeSourcePoissonVertex_3 to post AbstractPopulationVertex_1 with connector OneToOneConnector()"
      ]
     },
     "execution_count": 5,
     "metadata": {},
     "output_type": "execute_result"
    }
   ],
   "source": [
    "p.Projection(exc_poisson, exc, p.OneToOneConnector(), p.StaticSynapse(weight=0.11, delay=1.0), receptor_type=\"excitatory\")"
   ]
  },
  {
   "cell_type": "markdown",
   "metadata": {},
   "source": [
    "Create a similar excitatory connection from the inhibitory poisson stimulation population to the\n",
    "inhibitory population."
   ]
  },
  {
   "cell_type": "code",
   "execution_count": 6,
   "metadata": {},
   "outputs": [
    {
     "data": {
      "text/plain": [
       "projection from pre SpikeSourcePoissonVertex_4 to post AbstractPopulationVertex_2 with connector OneToOneConnector()"
      ]
     },
     "execution_count": 6,
     "metadata": {},
     "output_type": "execute_result"
    }
   ],
   "source": [
    "p.Projection(inh_poisson, inh, p.OneToOneConnector(), p.StaticSynapse(weight=0.11, delay=1.0), receptor_type=\"excitatory\")"
   ]
  },
  {
   "cell_type": "markdown",
   "metadata": {},
   "source": [
    "Create two excitatory connections from the excitatory population to itself and to the inhibitory population. Use:\n",
    " - a fixed probability of connection of 0.1\n",
    " - a normal distribution of weights with a mean of 0.1 and a standard deviation of 0.1 (remember to add a boundary to make the weights positive)\n",
    " - a normal distribution of delays with a mean of 1.5 and standard deviation of 0.75 (remember to add aboundary to keep the delays within the allowed range of 0.1ms and 14.4ms on SpiNNaker)."
   ]
  },
  {
   "cell_type": "code",
   "execution_count": 7,
   "metadata": {},
   "outputs": [
    {
     "data": {
      "text/plain": [
       "projection from pre AbstractPopulationVertex_1 to post AbstractPopulationVertex_2 with connector FixedProbabilityConnector(0.1)"
      ]
     },
     "execution_count": 7,
     "metadata": {},
     "output_type": "execute_result"
    }
   ],
   "source": [
    "import numpy\n",
    "exc_weights = p.RandomDistribution(\"normal_clipped\", mu=0.1, sigma=0.1, low=0, high=numpy.inf)\n",
    "exc_delays = p.RandomDistribution(\"normal_clipped\", mu=1.5, sigma=0.75, low=0.1, high=14.4)\n",
    "p.Projection(exc, exc, p.FixedProbabilityConnector(0.1), p.StaticSynapse(weight=exc_weights, delay=exc_delays), receptor_type=\"excitatory\")\n",
    "p.Projection(exc, inh, p.FixedProbabilityConnector(0.1), p.StaticSynapse(weight=exc_weights, delay=exc_delays), receptor_type=\"excitatory\")"
   ]
  },
  {
   "cell_type": "markdown",
   "metadata": {},
   "source": [
    "Create two similar connections between the inhibitory population and itself and the excitatory population, but make these \"inhibitory\" and make the weights four times as big."
   ]
  },
  {
   "cell_type": "code",
   "execution_count": 8,
   "metadata": {},
   "outputs": [
    {
     "data": {
      "text/plain": [
       "projection from pre AbstractPopulationVertex_2 to post AbstractPopulationVertex_1 with connector FixedProbabilityConnector(0.1)"
      ]
     },
     "execution_count": 8,
     "metadata": {},
     "output_type": "execute_result"
    }
   ],
   "source": [
    "inh_weights = p.RandomDistribution(\"normal_clipped\", mu=0.4, sigma=0.1, low=0, high=numpy.inf)\n",
    "inh_delays = p.RandomDistribution(\"normal_clipped\", mu=1.5, sigma=0.75, low=0.1, high=14.4)\n",
    "p.Projection(inh, inh, p.FixedProbabilityConnector(0.1), p.StaticSynapse(weight=inh_weights, delay=inh_delays), receptor_type=\"inhibitory\")\n",
    "p.Projection(inh, exc, p.FixedProbabilityConnector(0.1), p.StaticSynapse(weight=inh_weights, delay=inh_delays), receptor_type=\"inhibitory\")"
   ]
  },
  {
   "cell_type": "markdown",
   "metadata": {},
   "source": [
    "Initialize the membrane voltages of the excitatory and inhibitory populations to a uniform random\n",
    "number between -65.0 and -55.0."
   ]
  },
  {
   "cell_type": "code",
   "execution_count": 9,
   "metadata": {},
   "outputs": [],
   "source": [
    "exc.initialize(v=p.RandomDistribution(\"uniform\", low=-65.0, high=-55.0))\n",
    "inh.initialize(v=p.RandomDistribution(\"uniform\", low=-65.0, high=-55.0))"
   ]
  },
  {
   "cell_type": "markdown",
   "metadata": {},
   "source": [
    "Record the spikes from the excitatory population."
   ]
  },
  {
   "cell_type": "code",
   "execution_count": 10,
   "metadata": {},
   "outputs": [],
   "source": [
    "exc.record([\"spikes\", \"v\"])"
   ]
  },
  {
   "cell_type": "markdown",
   "metadata": {},
   "source": [
    "Run the simulation for 1 second."
   ]
  },
  {
   "cell_type": "code",
   "execution_count": 11,
   "metadata": {},
   "outputs": [
    {
     "name": "stderr",
     "output_type": "stream",
     "text": [
      "2021-04-10 14:27:11 INFO: Simulating for 10000 0.1ms timesteps using a hardware timestep of 10us\n",
      "2021-04-10 14:27:11 INFO: Starting execution process\n",
      "2021-04-10 14:27:14 INFO: Time 0:00:03.571219 taken by SpallocMaxMachineGenerator\n",
      "Pre allocating resources for Extra Monitor support vertices\n",
      "|0%                          50%                         100%|\n",
      " ============================================================\n",
      "2021-04-10 14:27:24 INFO: Time 0:00:09.974834 taken by PreAllocateResourcesForExtraMonitorSupport\n",
      "Partitioning graph vertices\n",
      "|0%                          50%                         100%|\n",
      " ============================================================\n",
      "Partitioning graph edges\n",
      "|0%                          50%                         100%|\n",
      " ============================================================\n",
      "2021-04-10 14:27:30 INFO: Time 0:00:05.538399 taken by PartitionAndPlacePartitioner\n",
      "Created spalloc job 5927596\n",
      "2021-04-10 14:27:30 INFO: Created spalloc job 5927596\n",
      "Waiting for board power commands to complete.\n",
      "2021-04-10 14:27:30 INFO: Waiting for board power commands to complete.\n",
      "2021-04-10 14:27:35 INFO: Time 0:00:05.052510 taken by SpallocAllocator\n",
      "2021-04-10 14:27:35 INFO: Creating transceiver for 10.11.195.153\n",
      "2021-04-10 14:27:35 INFO: Working out if machine is booted\n",
      "2021-04-10 14:27:39 INFO: Attempting to boot machine\n",
      "2021-04-10 14:27:45 INFO: Found board with version [Version: SC&MP 3.2.5 at SpiNNaker:0:0:0 (built Thu Aug  1 08:15:06 2019)]\n",
      "2021-04-10 14:27:45 INFO: Machine communication successful\n",
      "2021-04-10 14:27:45 INFO: Detected a machine on IP address 10.11.195.153 which has 856 cores and 120.0 links\n",
      "2021-04-10 14:27:45 INFO: Time 0:00:09.630431 taken by MachineGenerator\n",
      "Generating partitioner report\n",
      "|0%                          50%                         100%|\n",
      " ============================================================\n",
      "2021-04-10 14:27:45 INFO: Time 0:00:00.009647 taken by PartitionerReport\n",
      "2021-04-10 14:27:45 INFO: Time 0:00:00.000384 taken by NetworkSpecificationReport\n",
      "Allocating virtual identifiers\n",
      "|0%                          50%                         100%|\n",
      " ============================================================\n",
      "2021-04-10 14:27:45 INFO: Time 0:00:00.035135 taken by MallocBasedChipIDAllocator\n",
      "Inserting extra monitors into graphs\n",
      "|0%                          50%                         100%|\n",
      " ============================================================\n",
      "2021-04-10 14:27:45 INFO: Time 0:00:00.028825 taken by InsertExtraMonitorVerticesToGraphs\n",
      "Writing the board chip report\n",
      "|0%                          50%                         100%|\n",
      " ============================================================\n",
      "2021-04-10 14:27:45 INFO: Time 0:00:00.010292 taken by BoardChipReport\n",
      "Filtering edges\n",
      "|0%                          50%                         100%|\n",
      " ============================================================\n",
      "2021-04-10 14:27:45 INFO: Time 0:00:00.038020 taken by GraphEdgeFilter\n",
      "Placing graph vertices\n",
      "|0%                          50%                         100%|\n",
      " ============================================================\n",
      "2021-04-10 14:27:45 INFO: Time 0:00:00.035173 taken by OneToOnePlacer\n",
      "Inserting edges between vertices which require FR speed up functionality.\n",
      "|0%                          50%                         100%|\n",
      " ============================================================\n",
      "2021-04-10 14:27:45 INFO: Time 0:00:00.072662 taken by InsertEdgesToExtraMonitorFunctionality\n",
      "Generating routing tables for data in system processes\n",
      "|0%                          50%                         100%|\n",
      " ============================================================\n",
      "2021-04-10 14:27:45 INFO: Time 0:00:00.009256 taken by DataInMulticastRoutingGenerator\n",
      "Generating fixed router routes\n",
      "|0%                          50%                         100%|\n",
      " ============================================================\n",
      "2021-04-10 14:27:45 INFO: Time 0:00:00.010517 taken by FixedRouteRouter\n",
      "Generating placement report\n",
      "|0%                          50%                         100%|\n",
      " ============================================================\n",
      "Generating placement by core report\n",
      "|0%                          50%                         100%|\n",
      " ============================================================\n",
      "2021-04-10 14:27:45 INFO: Time 0:00:00.088671 taken by PlacerReportWithApplicationGraph\n",
      "Routing\n",
      "|0%                          50%                         100%|\n",
      " ============================================================\n",
      "\n",
      "2021-04-10 14:27:45 INFO: Time 0:00:00.042530 taken by NerRoute\n",
      "Discovering tags\n",
      "|0%                          50%                         100%|\n",
      " ============================================================\n",
      "Allocating tags\n",
      "|0%                          50%                         100%|\n",
      " ============================================================\n",
      "2021-04-10 14:27:45 INFO: Time 0:00:00.044080 taken by BasicTagAllocator\n",
      "Reporting Tags\n",
      "|0%                          50%                         100%|\n",
      " ============================================================\n",
      "2021-04-10 14:27:45 INFO: Time 0:00:00.009870 taken by TagReport\n",
      "Getting number of keys required by each edge using application graph\n",
      "|0%                          50%                         100%|\n",
      " ============================================================\n",
      "2021-04-10 14:27:45 INFO: Time 0:00:00.039225 taken by EdgeToNKeysMapper\n",
      "Getting constraints for application graph\n",
      "|0%                          50%                         100%|\n",
      " ============================================================\n",
      "2021-04-10 14:27:45 INFO: Time 0:00:00.036428 taken by ProcessPartitionConstraints\n",
      "Allocating routing keys\n",
      "|0%                          50%                         100%|\n",
      " ============================================================\n",
      "2021-04-10 14:27:45 INFO: Time 0:00:00.030102 taken by MallocBasedRoutingInfoAllocator\n",
      "Generating Routing info report\n",
      "|0%                          50%                         100%|\n",
      " ============================================================\n",
      "2021-04-10 14:27:45 INFO: Time 0:00:00.057534 taken by routingInfoReports\n",
      "Generating routing tables\n",
      "|0%                          50%                         100%|\n",
      " ============================================================\n",
      "2021-04-10 14:27:45 INFO: Time 0:00:00.029202 taken by BasicRoutingTableGenerator\n",
      "Finding executable start types\n",
      "|0%                          50%                         100%|\n",
      " ============================================================\n",
      "2021-04-10 14:27:45 INFO: Time 0:00:00.045732 taken by LocateExecutableStartType\n",
      "Initialising buffers\n",
      "|0%                          50%                         100%|\n",
      " ============================================================\n",
      "2021-04-10 14:27:45 INFO: Time 0:00:00.029454 taken by BufferManagerCreator\n",
      "Generating data specifications\n",
      "|0%                          50%                         100%|\n",
      " ============================================================\n",
      "2021-04-10 14:27:45 INFO: Time 0:00:00.120543 taken by SpynnakerDataSpecificationWriter\n",
      "Preparing Routing Tables\n",
      "|0%                          50%                         100%|\n",
      " ============================================================\n",
      "2021-04-10 14:27:46 INFO: Time 0:00:00.009653 taken by RoutingSetup\n",
      "Finding binaries\n",
      "|0%                          50%                         100%|\n",
      " ============================================================\n",
      "2021-04-10 14:27:46 INFO: Time 0:00:00.032514 taken by GraphBinaryGatherer\n",
      "Running routing table compression on chip\n",
      "|0%                          50%                         100%|\n",
      " ============================================================\n",
      "2021-04-10 14:27:50 INFO: Time 0:00:04.528448 taken by MundyOnChipRouterCompression\n",
      "Generating Router table report\n",
      "|0%                          50%                         100%|\n",
      " ============================================================\n",
      "2021-04-10 14:27:50 INFO: Time 0:00:00.009452 taken by unCompressedRoutingTableReports\n",
      "loading fixed routes\n",
      "|0%                          50%                         100%|\n",
      " ============================================================\n",
      "2021-04-10 14:27:50 INFO: Time 0:00:00.045054 taken by LoadFixedRoutes\n",
      "Executing data specifications and loading data for system vertices\n",
      "|0%                          50%                         100%|\n",
      " ============================================================\n",
      "2021-04-10 14:27:50 INFO: Time 0:00:00.137180 taken by HostExecuteSystemDataSpecification\n",
      "Loading system executables onto the machine\n",
      "|0%                          50%                         100%|\n",
      " ============================================================\n",
      "2021-04-10 14:27:56 INFO: Time 0:00:05.700007 taken by LoadSystemExecutableImages\n",
      "Clearing tags\n",
      "|0%                          50%                         100%|\n",
      " ============================================================\n",
      "Loading Tags\n",
      "|0%                          50%                         100%|\n",
      " ============================================================\n",
      "2021-04-10 14:27:56 INFO: Time 0:00:00.014524 taken by TagsLoader\n",
      "Writing data\n",
      "|0%                          50%                         100%|\n",
      " ============================================================\n",
      "2021-04-10 14:27:56 INFO: Time 0:00:00.031200 taken by WriteMemoryIOData\n",
      "Executing data specifications and loading data for application vertices\n",
      "|0%                          50%                         100%|\n",
      " ============================================================\n",
      "2021-04-10 14:27:56 INFO: Time 0:00:00.170934 taken by HostExecuteApplicationDataSpecification\n",
      "Expanding Synapses\n",
      "|0%                          50%                         100%|\n",
      " ============================================================\n",
      "2021-04-10 14:28:03 INFO: Time 0:00:06.871474 taken by SynapseExpander\n",
      "Writing fixed route report\n",
      "|0%                          50%                         100%|\n",
      " ============================================================\n",
      "2021-04-10 14:28:03 INFO: Time 0:00:00.044394 taken by FixedRouteFromMachineReport\n",
      "Loading executables onto the machine\n",
      "|0%                          50%                         100%|\n",
      " ============================================================\n",
      "2021-04-10 14:28:13 INFO: Time 0:00:09.642736 taken by LoadApplicationExecutableImages\n",
      "Reading Routing Tables from Machine\n",
      "|0%                          50%                         100%|\n",
      " ============================================================\n",
      "2021-04-10 14:28:13 INFO: Time 0:00:00.011208 taken by RoutingTableFromMachineReport\n",
      "Generating compressed router table report\n",
      "|0%                          50%                         100%|\n",
      " ============================================================\n",
      "2021-04-10 14:28:13 INFO: Time 0:00:00.003872 taken by compressedRoutingTableReports\n",
      "Generating comparison of router table report\n",
      "|0%                          50%                         100%|\n",
      " ============================================================\n",
      "2021-04-10 14:28:13 INFO: Time 0:00:00.003418 taken by comparisonOfRoutingTablesReport\n",
      "2021-04-10 14:28:13 INFO: Running for 1 steps for a total of 1000.0ms\n",
      "2021-04-10 14:28:13 INFO: Run 1 of 1\n",
      "Generating SDRAM usage report\n",
      "|0%                          50%                         100%|\n",
      " ============================================================\n",
      "2021-04-10 14:28:13 INFO: Time 0:00:00.077711 taken by SdramUsageReportPerChip\n",
      "Updating run time\n",
      "|0%                          50%                         100%|\n",
      " ============================================================\n",
      "2021-04-10 14:28:13 INFO: Time 0:00:00.028141 taken by ChipRuntimeUpdater\n",
      "2021-04-10 14:28:13 INFO: creating live event connection database in /home/spinnaker/CNS-tutorial-2021/application_generated_data_files/2021-04-10-14-27-06-35351/run_1/input_output_database.db\n",
      "Creating graph description database\n",
      "|0%                          50%                         100%|\n",
      " ============================================================\n",
      "2021-04-10 14:28:13 INFO: Time 0:00:00.069159 taken by DatabaseInterface\n",
      "2021-04-10 14:28:13 INFO: ** Notifying external sources that the database is ready for reading **\n",
      "2021-04-10 14:28:13 INFO: Time 0:00:00.000728 taken by NotificationProtocol\n",
      "2021-04-10 14:28:13 INFO: *** Running simulation... *** \n",
      "Loading buffers\n",
      "|0%                          50%                         100%|\n",
      " ============================================================\n",
      "2021-04-10 14:28:13 INFO: ** Awaiting for a response from an external source to state its ready for the simulation to start **\n",
      "2021-04-10 14:28:13 INFO: ** Sending start / resume message to external sources to state the simulation has started or resumed. **\n",
      "2021-04-10 14:28:13 INFO: ** Awaiting for a response from an external source to state its ready for the simulation to start **\n",
      "2021-04-10 14:28:13 INFO: Application started; waiting 10.1s for it to stop\n",
      "2021-04-10 14:28:23 INFO: ** Sending pause / stop message to external sources to state the simulation has been paused or stopped. **\n",
      "2021-04-10 14:28:23 INFO: Time 0:00:10.192907 taken by ApplicationRunner\n",
      "Extracting buffers from the last run\n",
      "|0%                          50%                         100%|\n",
      " ============================================================\n",
      "2021-04-10 14:28:24 INFO: Time 0:00:00.773509 taken by BufferExtractor\n",
      "Getting provenance data from machine graph\n",
      "|0%                          50%                         100%|\n",
      " ============================================================\n",
      "Getting provenance data from application graph\n",
      "|0%                          50%                         100%|\n",
      " ============================================================\n",
      "2021-04-10 14:28:24 INFO: Time 0:00:00.099231 taken by GraphProvenanceGatherer\n",
      "Getting provenance data\n",
      "|0%                          50%                         100%|\n",
      " ============================================================\n",
      "2021-04-10 14:28:24 INFO: Time 0:00:00.036859 taken by PlacementsProvenanceGatherer\n",
      "Getting Router Provenance\n",
      "|0%                          50%                         100%|\n",
      " ============================================================\n",
      "2021-04-10 14:28:24 INFO: Time 0:00:00.056933 taken by RouterProvenanceGatherer\n",
      "Getting profile data\n",
      "|0%                          50%                         100%|\n",
      " ============================================================\n",
      "2021-04-10 14:28:24 INFO: Time 0:00:00.029030 taken by ProfileDataGatherer\n"
     ]
    },
    {
     "data": {
      "text/plain": [
       "1000.0"
      ]
     },
     "execution_count": 11,
     "metadata": {},
     "output_type": "execute_result"
    }
   ],
   "source": [
    "p.run(1000)"
   ]
  },
  {
   "cell_type": "markdown",
   "metadata": {},
   "source": [
    "Retrieve and plot the spikes.  Ensure that you end the simulation!"
   ]
  },
  {
   "cell_type": "code",
   "execution_count": 12,
   "metadata": {},
   "outputs": [
    {
     "name": "stderr",
     "output_type": "stream",
     "text": [
      "Getting spikes for AbstractPopulationVertex_1\n",
      "|0%                          50%                         100%|\n",
      " ============================================================\n",
      "Getting v for AbstractPopulationVertex_1\n",
      "|0%                          50%                         100%|\n",
      " ============================================================\n"
     ]
    }
   ],
   "source": [
    "spikes = exc.get_data(\"spikes\")\n",
    "voltage = exc.get_data('v')\n",
    "\n",
    "p.end()"
   ]
  },
  {
   "cell_type": "code",
   "execution_count": 13,
   "metadata": {},
   "outputs": [
    {
     "data": {
      "application/vnd.jupyter.widget-view+json": {
       "model_id": "21bb4451d5df47f5827f6a24391ad622",
       "version_major": 2,
       "version_minor": 0
      },
      "text/plain": [
       "Canvas(toolbar=Toolbar(toolitems=[('Home', 'Reset original view', 'home', 'home'), ('Back', 'Back to previous …"
      ]
     },
     "metadata": {},
     "output_type": "display_data"
    },
    {
     "data": {
      "text/plain": [
       "<pyNN.utility.plotting.Figure at 0x7f6217d65ba8>"
      ]
     },
     "execution_count": 13,
     "metadata": {},
     "output_type": "execute_result"
    }
   ],
   "source": [
    "from pyNN.utility.plotting import Figure, Panel\n",
    "Figure(Panel(spikes.segments[0].spiketrains))"
   ]
  },
  {
   "cell_type": "markdown",
   "metadata": {},
   "source": [
    "The graph should show what is known as Asynchronous Irregular spiking activity - this means that the\n",
    "neurons in the population don’t spike very often and when they do, it is not at the same time as other\n",
    "neurons in the population.\n",
    "\n",
    "## Extension\n",
    "\n",
    "Try adding an additional Population of 100 neurons that stimulates the excitatory population with 50Hz noise using an all-to-all connector, and a weight of 0.01nA.  See what other behaviour you can get by trying to alter the rate of this new Population."
   ]
  },
  {
   "cell_type": "code",
   "execution_count": 14,
   "metadata": {},
   "outputs": [
    {
     "data": {
      "application/vnd.jupyter.widget-view+json": {
       "model_id": "3e62358b21cc49479794863e461f03f1",
       "version_major": 2,
       "version_minor": 0
      },
      "text/plain": [
       "Canvas(toolbar=Toolbar(toolitems=[('Home', 'Reset original view', 'home', 'home'), ('Back', 'Back to previous …"
      ]
     },
     "metadata": {},
     "output_type": "display_data"
    },
    {
     "data": {
      "text/plain": [
       "<matplotlib.image.AxesImage at 0x7f62d503da90>"
      ]
     },
     "execution_count": 14,
     "metadata": {},
     "output_type": "execute_result"
    }
   ],
   "source": [
    "import matplotlib.pyplot as plt\n",
    "\n",
    "def recover_results(outputs):\n",
    "    results = {}\n",
    "    for key in outputs.keys(): # to extract the name of the layer, e.g., Exc, Inh, Thalamus, etc  \n",
    "        # to get voltage and conductances\n",
    "        for analogsignal in outputs[key].segments[0].analogsignals:\n",
    "            #print(analogsignal.name)\n",
    "            results[key, analogsignal.name] = analogsignal\n",
    "\n",
    "        # to get spikes\n",
    "        results[key, 'spikes'] = outputs[key].segments[0].spiketrains\n",
    "    return results\n",
    "\n",
    "plt.matshow(voltage.segments[0].analogsignals[0].T)"
   ]
  },
  {
   "cell_type": "code",
   "execution_count": null,
   "metadata": {},
   "outputs": [],
   "source": []
  }
 ],
 "metadata": {
  "kernelspec": {
   "display_name": "sPyNNaker",
   "language": "python",
   "name": "spynnaker"
  },
  "language_info": {
   "codemirror_mode": {
    "name": "ipython",
    "version": 3
   },
   "file_extension": ".py",
   "mimetype": "text/x-python",
   "name": "python",
   "nbconvert_exporter": "python",
   "pygments_lexer": "ipython3",
   "version": "3.6.9"
  }
 },
 "nbformat": 4,
 "nbformat_minor": 4
}
