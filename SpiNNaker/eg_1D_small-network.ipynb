{
 "cells": [
  {
   "cell_type": "markdown",
   "metadata": {},
   "source": [
    "# 1D small network"
   ]
  },
  {
   "cell_type": "code",
   "execution_count": 18,
   "metadata": {},
   "outputs": [],
   "source": [
    "# set fileName\n",
    "\n",
    "fileName = \"eg_1D_small-network\""
   ]
  },
  {
   "cell_type": "code",
   "execution_count": 19,
   "metadata": {},
   "outputs": [],
   "source": [
    "# set libs\n",
    "\n",
    "import pyNN.spiNNaker as sim\n",
    "import numpy as np\n",
    "import matplotlib.pyplot as plt"
   ]
  },
  {
   "cell_type": "code",
   "execution_count": 3,
   "metadata": {},
   "outputs": [
    {
     "name": "stderr",
     "output_type": "stream",
     "text": [
      "2021-04-11 10:02:12 INFO: Read cfg files: /home/spinnaker/sPyNNaker/lib/python3.6/site-packages/spinn_front_end_common/interface/spinnaker.cfg, /home/spinnaker/sPyNNaker/lib/python3.6/site-packages/spynnaker/pyNN/spynnaker.cfg, /home/spinnaker/.spynnaker.cfg\n",
      "2021-04-11 10:02:12 INFO: Will search these locations for binaries: /home/spinnaker/sPyNNaker/lib/python3.6/site-packages/spinn_front_end_common/common_model_binaries : /home/spinnaker/sPyNNaker/lib/python3.6/site-packages/spynnaker/pyNN/model_binaries\n",
      "2021-04-11 10:02:12 WARNING: /home/spinnaker/CNS-tutorial-2021/reports has 3 old reports that have not been closed\n",
      "2021-04-11 10:02:12 WARNING: /home/spinnaker/CNS-tutorial-2021/application_generated_data_files has 3 old reports that have not been closed\n",
      "2021-04-11 10:02:12 INFO: Setting time scale factor to 1.\n",
      "2021-04-11 10:02:12 INFO: Setting machine time step to 1000 micro-seconds.\n"
     ]
    },
    {
     "name": "stdout",
     "output_type": "stream",
     "text": [
      "['/home/spinnaker/sPyNNaker/lib/python3.6/site-packages/spinn_front_end_common/interface/spinnaker.cfg', '/home/spinnaker/sPyNNaker/lib/python3.6/site-packages/spynnaker/pyNN/spynnaker.cfg', '/home/spinnaker/.spynnaker.cfg']\n"
     ]
    },
    {
     "data": {
      "text/plain": [
       "0"
      ]
     },
     "execution_count": 3,
     "metadata": {},
     "output_type": "execute_result"
    }
   ],
   "source": [
    "# simulation setting\n",
    "\n",
    "dt         = 1          # (ms)\n",
    "syn_delay  = 1.0           # (ms)\n",
    "simtime    = 1000.0        # (ms)\n",
    "sim.setup(timestep=dt, max_delay=syn_delay)"
   ]
  },
  {
   "cell_type": "code",
   "execution_count": 4,
   "metadata": {},
   "outputs": [],
   "source": [
    "# network parameters\n",
    "\n",
    "n_pop = 20     # Number of cells\n",
    "weight = 0.05  # synaptic weight (µS)\n",
    "\n",
    "cell_params = {\n",
    "    'tau_m'      : 20.0,   # (ms)\n",
    "    'tau_syn_E'  : 2.0,    # (ms)\n",
    "    'tau_syn_I'  : 4.0,    # (ms)\n",
    "    'e_rev_E'    : 0.0,    # (mV)\n",
    "    'e_rev_I'    : -70.0,  # (mV)\n",
    "    'tau_refrac' : 2.0,    # (ms)\n",
    "    'v_rest'     : -60.0,  # (mV)\n",
    "    'v_reset'    : -70.0,  # (mV)\n",
    "    'v_thresh'   : -50.0,  # (mV)\n",
    "    'cm'         : 0.5}    # (nF)\n",
    "\n",
    "# see parameters meaning in http://neuralensemble.org/docs/PyNN/standardmodels.html"
   ]
  },
  {
   "cell_type": "code",
   "execution_count": 5,
   "metadata": {},
   "outputs": [],
   "source": [
    "# making the network\n",
    "cells = sim.Population(n_pop, # number of cells\n",
    "                       sim.IF_cond_exp, # cell model\n",
    "                       cell_params, # cell parameters\n",
    "                       label=\"cells\")\n"
   ]
  },
  {
   "cell_type": "code",
   "execution_count": 6,
   "metadata": {},
   "outputs": [
    {
     "data": {
      "application/vnd.jupyter.widget-view+json": {
       "model_id": "50482914393a4f0d948357fbca47d6ec",
       "version_major": 2,
       "version_minor": 0
      },
      "text/plain": [
       "Canvas(toolbar=Toolbar(toolitems=[('Home', 'Reset original view', 'home', 'home'), ('Back', 'Back to previous …"
      ]
     },
     "metadata": {},
     "output_type": "display_data"
    },
    {
     "name": "stdout",
     "output_type": "stream",
     "text": [
      "selected random sources [12, 8, 5, 14, 1]\n"
     ]
    }
   ],
   "source": [
    "# designing the thalamic input\n",
    "\n",
    "spike_times = [[]]*n_pop #list of spike lists, where one spike list is related to one spike source\n",
    "random_sources_idx = [np.random.randint(0, n_pop) for i in range(5)]\n",
    "\n",
    "for idx, sources in enumerate(random_sources_idx):\n",
    "    #spike_times[sources] = [np.random.normal(loc=10, scale=0.1) for n in range(10)]\n",
    "    spike_times[sources] = np.sort(np.arange(200, 800, 50).tolist())\n",
    "\n",
    "spike_source = sim.Population(n_pop, sim.SpikeSourceArray(spike_times=spike_times))\n",
    "spike_source.record('spikes')\n",
    "\n",
    "input_conns = sim.Projection(spike_source, # from \n",
    "                             cells, # to\n",
    "                             connector = sim.FixedProbabilityConnector(0.25), \n",
    "                             synapse_type = sim.StaticSynapse(weight=weight, delay=syn_delay),\n",
    "                             receptor_type = 'excitatory')\n",
    "\n",
    "fig, axes = plt.subplots(1,1)\n",
    "axes_list = fig.axes\n",
    "axes_list[0].eventplot(spike_times)\n",
    "axes_list[0].set_xlabel('[ms]')\n",
    "axes_list[0].set_ylabel('thalamic spike sources')\n",
    "axes_list[0].set_title('rasterplot')\n",
    "axes_list[0].set_xlim(0, simtime)\n",
    "print('selected random sources', random_sources_idx)\n"
   ]
  },
  {
   "cell_type": "code",
   "execution_count": 7,
   "metadata": {},
   "outputs": [],
   "source": [
    "# record state variables\n",
    "\n",
    "cells.record(['spikes'])\n",
    "cells.record(['v', 'gsyn_exc', 'gsyn_inh'])"
   ]
  },
  {
   "cell_type": "code",
   "execution_count": 8,
   "metadata": {},
   "outputs": [
    {
     "name": "stderr",
     "output_type": "stream",
     "text": [
      "2021-04-11 10:02:16 INFO: Simulating for 1000 1.0ms timesteps using a hardware timestep of 1000us\n",
      "2021-04-11 10:02:16 INFO: Starting execution process\n",
      "2021-04-11 10:02:20 INFO: Time 0:00:03.409328 taken by SpallocMaxMachineGenerator\n",
      "Pre allocating resources for Extra Monitor support vertices\n",
      "|0%                          50%                         100%|\n",
      " ============================================================\n",
      "2021-04-11 10:02:31 INFO: Time 0:00:10.939350 taken by PreAllocateResourcesForExtraMonitorSupport\n",
      "Partitioning graph vertices\n",
      "|0%                          50%                         100%|\n",
      " ============================================================\n",
      "Partitioning graph edges\n",
      "|0%                          50%                         100%|\n",
      " ============================================================\n",
      "2021-04-11 10:02:36 INFO: Time 0:00:05.416002 taken by PartitionAndPlacePartitioner\n",
      "Created spalloc job 5932753\n",
      "2021-04-11 10:02:36 INFO: Created spalloc job 5932753\n",
      "Waiting for board power commands to complete.\n",
      "2021-04-11 10:02:36 INFO: Waiting for board power commands to complete.\n",
      "2021-04-11 10:02:41 INFO: Time 0:00:05.048650 taken by SpallocAllocator\n",
      "2021-04-11 10:02:41 INFO: Creating transceiver for 10.11.208.129\n",
      "2021-04-11 10:02:41 INFO: Working out if machine is booted\n",
      "2021-04-11 10:02:45 INFO: Attempting to boot machine\n",
      "2021-04-11 10:02:51 INFO: Found board with version [Version: SC&MP 3.2.5 at SpiNNaker:0:0:0 (built Thu Aug  1 08:15:06 2019)]\n",
      "2021-04-11 10:02:51 INFO: Machine communication successful\n",
      "2021-04-11 10:02:51 INFO: Detected a machine on IP address 10.11.208.129 which has 855 cores and 120.0 links\n",
      "2021-04-11 10:02:51 INFO: Time 0:00:09.692031 taken by MachineGenerator\n",
      "Generating partitioner report\n",
      "|0%                          50%                         100%|\n",
      " ============================================================\n",
      "2021-04-11 10:02:51 INFO: Time 0:00:00.023783 taken by PartitionerReport\n",
      "2021-04-11 10:02:51 INFO: Time 0:00:00.000424 taken by NetworkSpecificationReport\n",
      "Allocating virtual identifiers\n",
      "|0%                          50%                         100%|\n",
      " ============================================================\n",
      "2021-04-11 10:02:51 INFO: Time 0:00:00.280773 taken by MallocBasedChipIDAllocator\n",
      "Inserting extra monitors into graphs\n",
      "|0%                          50%                         100%|\n",
      " ============================================================\n",
      "2021-04-11 10:02:52 INFO: Time 0:00:00.328034 taken by InsertExtraMonitorVerticesToGraphs\n",
      "Writing the board chip report\n",
      "|0%                          50%                         100%|\n",
      " ============================================================\n",
      "2021-04-11 10:02:52 INFO: Time 0:00:00.034885 taken by BoardChipReport\n",
      "Filtering edges\n",
      "|0%                          50%                         100%|\n",
      " ============================================================\n",
      "2021-04-11 10:02:52 INFO: Time 0:00:00.344142 taken by GraphEdgeFilter\n",
      "Placing graph vertices\n",
      "|0%                          50%                         100%|\n",
      " ============================================================\n",
      "2021-04-11 10:02:52 INFO: Time 0:00:00.412614 taken by OneToOnePlacer\n",
      "Inserting edges between vertices which require FR speed up functionality.\n",
      "|0%                          50%                         100%|\n",
      " ============================================================\n",
      "2021-04-11 10:02:53 INFO: Time 0:00:00.467072 taken by InsertEdgesToExtraMonitorFunctionality\n",
      "Generating routing tables for data in system processes\n",
      "|0%                          50%                         100%|\n",
      " ============================================================\n",
      "2021-04-11 10:02:53 INFO: Time 0:00:00.012325 taken by DataInMulticastRoutingGenerator\n",
      "Generating fixed router routes\n",
      "|0%                          50%                         100%|\n",
      " ============================================================\n",
      "2021-04-11 10:02:53 INFO: Time 0:00:00.028302 taken by FixedRouteRouter\n",
      "Generating placement report\n",
      "|0%                          50%                         100%|\n",
      " ============================================================\n",
      "Generating placement by core report\n",
      "|0%                          50%                         100%|\n",
      " ============================================================\n",
      "2021-04-11 10:02:53 INFO: Time 0:00:00.319996 taken by PlacerReportWithApplicationGraph\n",
      "Routing\n",
      "|0%                          50%                         100%|\n",
      " ============================================================\n",
      "\n",
      "2021-04-11 10:02:53 INFO: Time 0:00:00.029455 taken by NerRoute\n",
      "Discovering tags\n",
      "|0%                          50%                         100%|\n",
      " ============================================================\n",
      "Allocating tags\n",
      "|0%                          50%                         100%|\n",
      " ============================================================\n",
      "2021-04-11 10:02:53 INFO: Time 0:00:00.034144 taken by BasicTagAllocator\n",
      "Reporting Tags\n",
      "|0%                          50%                         100%|\n",
      " ============================================================\n",
      "2021-04-11 10:02:53 INFO: Time 0:00:00.036997 taken by TagReport\n",
      "Getting number of keys required by each edge using application graph\n",
      "|0%                          50%                         100%|\n",
      " ============================================================\n",
      "2021-04-11 10:02:54 INFO: Time 0:00:00.086066 taken by EdgeToNKeysMapper\n",
      "Getting constraints for application graph\n",
      "|0%                          50%                         100%|\n",
      " ============================================================\n",
      "2021-04-11 10:02:54 INFO: Time 0:00:00.059646 taken by ProcessPartitionConstraints\n",
      "Allocating routing keys\n",
      "|0%                          50%                         100%|\n",
      " ============================================================\n",
      "2021-04-11 10:02:54 INFO: Time 0:00:00.004905 taken by MallocBasedRoutingInfoAllocator\n",
      "Generating Routing info report\n",
      "|0%                          50%                         100%|\n",
      " ============================================================\n",
      "2021-04-11 10:02:54 INFO: Time 0:00:00.048228 taken by routingInfoReports\n",
      "Generating routing tables\n",
      "|0%                          50%                         100%|\n",
      " ============================================================\n",
      "2021-04-11 10:02:54 INFO: Time 0:00:00.174928 taken by BasicRoutingTableGenerator\n",
      "Finding executable start types\n",
      "|0%                          50%                         100%|\n",
      " ============================================================\n",
      "2021-04-11 10:02:54 INFO: Time 0:00:00.046850 taken by LocateExecutableStartType\n",
      "Initialising buffers\n",
      "|0%                          50%                         100%|\n",
      " ============================================================\n",
      "2021-04-11 10:02:54 INFO: Time 0:00:00.092339 taken by BufferManagerCreator\n",
      "Generating data specifications\n",
      "|0%                          50%                         100%|\n",
      " ============================================================\n",
      "2021-04-11 10:02:54 INFO: Time 0:00:00.121014 taken by SpynnakerDataSpecificationWriter\n",
      "Preparing Routing Tables\n",
      "|0%                          50%                         100%|\n",
      " ============================================================\n",
      "2021-04-11 10:02:54 INFO: Time 0:00:00.018776 taken by RoutingSetup\n",
      "Finding binaries\n",
      "|0%                          50%                         100%|\n",
      " ============================================================\n",
      "2021-04-11 10:02:54 INFO: Time 0:00:00.044069 taken by GraphBinaryGatherer\n",
      "Running routing table compression on chip\n",
      "|0%                          50%                         100%|\n",
      " ============================================================\n",
      "2021-04-11 10:02:59 INFO: Time 0:00:04.554383 taken by MundyOnChipRouterCompression\n",
      "Generating Router table report\n",
      "|0%                          50%                         100%|\n",
      " ============================================================\n",
      "2021-04-11 10:02:59 INFO: Time 0:00:00.007736 taken by unCompressedRoutingTableReports\n",
      "loading fixed routes\n",
      "|0%                          50%                         100%|\n",
      " ============================================================\n",
      "2021-04-11 10:02:59 INFO: Time 0:00:00.053309 taken by LoadFixedRoutes\n",
      "Executing data specifications and loading data for system vertices\n",
      "|0%                          50%                         100%|\n",
      " ============================================================\n",
      "2021-04-11 10:02:59 INFO: Time 0:00:00.391120 taken by HostExecuteSystemDataSpecification\n",
      "Loading system executables onto the machine\n",
      "|0%                          50%                         100%|\n",
      " ============================================================\n",
      "2021-04-11 10:03:05 INFO: Time 0:00:05.761475 taken by LoadSystemExecutableImages\n",
      "Clearing tags\n",
      "|0%                          50%                         100%|\n",
      " ============================================================\n",
      "Loading Tags\n",
      "|0%                          50%                         100%|\n",
      " ============================================================\n",
      "2021-04-11 10:03:05 INFO: Time 0:00:00.025661 taken by TagsLoader\n",
      "Writing data\n",
      "|0%                          50%                         100%|\n",
      " ============================================================\n",
      "2021-04-11 10:03:05 INFO: Time 0:00:00.039099 taken by WriteMemoryIOData\n",
      "Executing data specifications and loading data for application vertices\n",
      "|0%                          50%                         100%|\n",
      " ============================================================\n",
      "2021-04-11 10:03:05 INFO: Time 0:00:00.256901 taken by HostExecuteApplicationDataSpecification\n",
      "Expanding Synapses\n",
      "|0%                          50%                         100%|\n",
      " ============================================================\n",
      "2021-04-11 10:03:09 INFO: Time 0:00:03.772299 taken by SynapseExpander\n",
      "Writing fixed route report\n",
      "|0%                          50%                         100%|\n",
      " ============================================================\n",
      "2021-04-11 10:03:09 INFO: Time 0:00:00.051176 taken by FixedRouteFromMachineReport\n",
      "Loading executables onto the machine\n",
      "|0%                          50%                         100%|\n",
      " ============================================================\n",
      "2021-04-11 10:03:16 INFO: Time 0:00:06.772104 taken by LoadApplicationExecutableImages\n",
      "Reading Routing Tables from Machine\n",
      "|0%                          50%                         100%|\n",
      " ============================================================\n",
      "2021-04-11 10:03:16 INFO: Time 0:00:00.017520 taken by RoutingTableFromMachineReport\n",
      "Generating compressed router table report\n",
      "|0%                          50%                         100%|\n",
      " ============================================================\n",
      "2021-04-11 10:03:16 INFO: Time 0:00:00.005953 taken by compressedRoutingTableReports\n",
      "Generating comparison of router table report\n",
      "|0%                          50%                         100%|\n",
      " ============================================================\n",
      "2021-04-11 10:03:16 INFO: Time 0:00:00.006869 taken by comparisonOfRoutingTablesReport\n",
      "2021-04-11 10:03:16 INFO: Running for 1 steps for a total of 1000.0ms\n",
      "2021-04-11 10:03:16 INFO: Run 1 of 1\n",
      "Generating SDRAM usage report\n",
      "|0%                          50%                         100%|\n",
      " ============================================================\n",
      "2021-04-11 10:03:16 INFO: Time 0:00:00.081230 taken by SdramUsageReportPerChip\n",
      "Updating run time\n",
      "|0%                          50%                         100%|\n",
      " ============================================================\n",
      "2021-04-11 10:03:16 INFO: Time 0:00:00.028695 taken by ChipRuntimeUpdater\n",
      "2021-04-11 10:03:16 INFO: creating live event connection database in /home/spinnaker/CNS-tutorial-2021/application_generated_data_files/2021-04-11-10-02-12-590806/run_1/input_output_database.db\n",
      "Creating graph description database\n",
      "|0%                          50%                         100%|\n",
      " ============================================================\n",
      "2021-04-11 10:03:16 INFO: Time 0:00:00.182104 taken by DatabaseInterface\n",
      "2021-04-11 10:03:16 INFO: ** Notifying external sources that the database is ready for reading **\n",
      "2021-04-11 10:03:16 INFO: Time 0:00:00.001211 taken by NotificationProtocol\n",
      "2021-04-11 10:03:16 INFO: *** Running simulation... *** \n",
      "Loading buffers\n",
      "|0%                          50%                         100%|\n",
      " ============================================================\n",
      "2021-04-11 10:03:16 INFO: ** Awaiting for a response from an external source to state its ready for the simulation to start **\n",
      "2021-04-11 10:03:16 INFO: ** Sending start / resume message to external sources to state the simulation has started or resumed. **\n",
      "2021-04-11 10:03:16 INFO: ** Awaiting for a response from an external source to state its ready for the simulation to start **\n",
      "2021-04-11 10:03:16 INFO: Application started; waiting 1.1s for it to stop\n",
      "2021-04-11 10:03:17 INFO: ** Sending pause / stop message to external sources to state the simulation has been paused or stopped. **\n",
      "2021-04-11 10:03:17 INFO: Time 0:00:01.189454 taken by ApplicationRunner\n",
      "Extracting buffers from the last run\n",
      "|0%                          50%                         100%|\n",
      " ============================================================\n",
      "2021-04-11 10:03:18 INFO: Time 0:00:00.181028 taken by BufferExtractor\n",
      "Getting provenance data from machine graph\n",
      "|0%                          50%                         100%|\n",
      " ============================================================\n",
      "Getting provenance data from application graph\n",
      "|0%                          50%                         100%|\n",
      " ============================================================\n",
      "2021-04-11 10:03:18 INFO: Time 0:00:00.096421 taken by GraphProvenanceGatherer\n",
      "Getting provenance data\n",
      "|0%                          50%                         100%|\n",
      " ============================================================\n",
      "2021-04-11 10:03:18 INFO: Time 0:00:00.032304 taken by PlacementsProvenanceGatherer\n",
      "Getting Router Provenance\n",
      "|0%                          50%                         100%|\n",
      " ============================================================\n",
      "2021-04-11 10:03:18 INFO: Time 0:00:00.064757 taken by RouterProvenanceGatherer\n",
      "Getting profile data\n",
      "|0%                          50%                         100%|\n",
      " ============================================================\n",
      "2021-04-11 10:03:18 INFO: Time 0:00:00.041883 taken by ProfileDataGatherer\n"
     ]
    },
    {
     "data": {
      "text/plain": [
       "1000.0"
      ]
     },
     "execution_count": 8,
     "metadata": {},
     "output_type": "execute_result"
    }
   ],
   "source": [
    "# run simulation\n",
    "\n",
    "sim.run(simtime)"
   ]
  },
  {
   "cell_type": "code",
   "execution_count": 9,
   "metadata": {},
   "outputs": [
    {
     "name": "stderr",
     "output_type": "stream",
     "text": [
      "Getting spikes for cells\n",
      "|0%                          50%                         100%|\n",
      " ============================================================\n",
      "Getting v for cells\n",
      "|0%                          50%                         100%|\n",
      " ============================================================\n",
      "Getting gsyn_exc for cells\n",
      "|0%                          50%                         100%|\n",
      " ============================================================\n",
      "Getting gsyn_inh for cells\n",
      "|0%                          50%                         100%|\n",
      " ============================================================\n",
      "Getting spikes for cells\n",
      "|0%                          50%                         100%|\n",
      " ============================================================\n"
     ]
    }
   ],
   "source": [
    "# save results\n",
    "\n",
    "outputs = cells.get_data() # on notebook space\n",
    "cells.write_data(fileName + '.pkl', \"spikes\") # on folder"
   ]
  },
  {
   "cell_type": "code",
   "execution_count": 10,
   "metadata": {},
   "outputs": [],
   "source": [
    "# recovering results\n",
    "\n",
    "def recover_results(outputs):\n",
    "    results = {}\n",
    "    \n",
    "    for analogsignal in outputs.segments[0].analogsignals:\n",
    "        print(analogsignal.name)\n",
    "        # to get voltage and conductances\n",
    "        results[analogsignal.name] = analogsignal\n",
    "        # to get spikes\n",
    "        results['spikes'] = outputs.segments[0].spiketrains\n",
    "    return results"
   ]
  },
  {
   "cell_type": "code",
   "execution_count": 11,
   "metadata": {},
   "outputs": [
    {
     "name": "stdout",
     "output_type": "stream",
     "text": [
      "v\n",
      "gsyn_exc\n",
      "gsyn_inh\n"
     ]
    },
    {
     "data": {
      "text/plain": [
       "dict_keys(['v', 'spikes', 'gsyn_exc', 'gsyn_inh'])"
      ]
     },
     "execution_count": 11,
     "metadata": {},
     "output_type": "execute_result"
    }
   ],
   "source": [
    "# check results\n",
    "\n",
    "results = recover_results(outputs)\n",
    "results.keys()"
   ]
  },
  {
   "cell_type": "code",
   "execution_count": 12,
   "metadata": {},
   "outputs": [
    {
     "name": "stderr",
     "output_type": "stream",
     "text": [
      "Getting spikes for cells\n",
      "|0%                          50%                         100%|\n",
      " ============================================================"
     ]
    },
    {
     "name": "stdout",
     "output_type": "stream",
     "text": [
      "Mean firing rate:  4.2 Hz\n"
     ]
    },
    {
     "name": "stderr",
     "output_type": "stream",
     "text": [
      "\n"
     ]
    }
   ],
   "source": [
    "# check the mean firing rate\n",
    "\n",
    "print(\"Mean firing rate: \", cells.mean_spike_count() * 1000.0 / simtime, \"Hz\")"
   ]
  },
  {
   "cell_type": "code",
   "execution_count": 13,
   "metadata": {},
   "outputs": [],
   "source": [
    "# close simulation\n",
    "\n",
    "sim.end()"
   ]
  },
  {
   "cell_type": "code",
   "execution_count": 14,
   "metadata": {},
   "outputs": [
    {
     "data": {
      "application/vnd.jupyter.widget-view+json": {
       "model_id": "db411c2ea5f449f28d063863788fcfd8",
       "version_major": 2,
       "version_minor": 0
      },
      "text/plain": [
       "Canvas(toolbar=Toolbar(toolitems=[('Home', 'Reset original view', 'home', 'home'), ('Back', 'Back to previous …"
      ]
     },
     "metadata": {},
     "output_type": "display_data"
    },
    {
     "data": {
      "text/plain": [
       "(0.0, 1000.0)"
      ]
     },
     "execution_count": 14,
     "metadata": {},
     "output_type": "execute_result"
    }
   ],
   "source": [
    "# check the spikes\n",
    "\n",
    "fig, axes = plt.subplots(1, 1)\n",
    "fig.tight_layout(pad=5)\n",
    "axes_list = fig.axes\n",
    "\n",
    "axes_list[0].eventplot(results['spikes'])\n",
    "axes_list[0].set_title('rasterplot of cells')\n",
    "axes_list[0].set_xlabel('[ms]')\n",
    "axes_list[0].set_ylabel('cells')\n",
    "axes_list[0].set_xlim(0, simtime)"
   ]
  },
  {
   "cell_type": "code",
   "execution_count": 15,
   "metadata": {},
   "outputs": [
    {
     "data": {
      "text/plain": [
       "[12, 8, 5, 14, 1]"
      ]
     },
     "execution_count": 15,
     "metadata": {},
     "output_type": "execute_result"
    }
   ],
   "source": [
    "random_sources_idx"
   ]
  },
  {
   "cell_type": "code",
   "execution_count": 16,
   "metadata": {},
   "outputs": [
    {
     "data": {
      "application/vnd.jupyter.widget-view+json": {
       "model_id": "e11947c46fe74d9ab020531c07ee886b",
       "version_major": 2,
       "version_minor": 0
      },
      "text/plain": [
       "Canvas(toolbar=Toolbar(toolitems=[('Home', 'Reset original view', 'home', 'home'), ('Back', 'Back to previous …"
      ]
     },
     "metadata": {},
     "output_type": "display_data"
    },
    {
     "data": {
      "text/plain": [
       "<matplotlib.legend.Legend at 0x7f461b6d9f60>"
      ]
     },
     "execution_count": 16,
     "metadata": {},
     "output_type": "execute_result"
    }
   ],
   "source": [
    "# check the voltage\n",
    "\n",
    "pickedCell = random_sources_idx[2]\n",
    "\n",
    "fig, axes = plt.subplots(1, 1)\n",
    "fig.tight_layout(pad=3)\n",
    "\n",
    "axes_list = fig.axes\n",
    "axes_list[0].plot(results['v'].T[pickedCell], label='cell_' + str(pickedCell))\n",
    "\n",
    "axes_list[0].set_title('voltage of cells')\n",
    "axes_list[0].set_xlabel('time [ms]')\n",
    "axes_list[0].set_ylabel('[mV]')\n",
    "axes_list[0].legend()\n"
   ]
  },
  {
   "cell_type": "code",
   "execution_count": 17,
   "metadata": {},
   "outputs": [
    {
     "data": {
      "application/vnd.jupyter.widget-view+json": {
       "model_id": "527d7ff3b02e496a9bec96d7a853e0aa",
       "version_major": 2,
       "version_minor": 0
      },
      "text/plain": [
       "Canvas(toolbar=Toolbar(toolitems=[('Home', 'Reset original view', 'home', 'home'), ('Back', 'Back to previous …"
      ]
     },
     "metadata": {},
     "output_type": "display_data"
    }
   ],
   "source": [
    "# check the conductance\n",
    "\n",
    "pickedCell = random_sources_idx[2]\n",
    "\n",
    "\n",
    "\n",
    "fig, axes = plt.subplots(2, 1)\n",
    "fig.tight_layout(pad=5)\n",
    "\n",
    "axes_list = fig.axes\n",
    "\n",
    "for idx, conductance in enumerate(['gsyn_exc', 'gsyn_inh']):\n",
    "\n",
    "    fig.tight_layout(pad=3)\n",
    "    axes_list = fig.axes\n",
    "    axes_list[idx].plot(results[conductance].T[pickedCell], label='cell_' + str(pickedCell))\n",
    "    axes_list[idx].set_title(conductance)\n",
    "    axes_list[idx].set_xlabel('time [ms]')\n",
    "    axes_list[idx].set_ylabel('[uS]')\n",
    "    axes_list[idx].legend()"
   ]
  },
  {
   "cell_type": "code",
   "execution_count": null,
   "metadata": {},
   "outputs": [],
   "source": []
  },
  {
   "cell_type": "markdown",
   "metadata": {},
   "source": [
    "## task 1: on state variables behaviour\n",
    "\n",
    "- why the gsyn_inh (conductance related to cell inhibition) is equal to zero?"
   ]
  },
  {
   "cell_type": "code",
   "execution_count": null,
   "metadata": {},
   "outputs": [],
   "source": []
  },
  {
   "cell_type": "markdown",
   "metadata": {},
   "source": [
    "## task 2: on neuronal parameters\n",
    "\n",
    "- change the tau_m (membrane time constant) parameter and have a look at the changes on the voltage trace.\n",
    "\n",
    "- change other neuronal parameters and investigate their effect on the network behaviour\n",
    "\n",
    "- info about parameters http://neuralensemble.org/docs/PyNN/standardmodels.html"
   ]
  },
  {
   "cell_type": "markdown",
   "metadata": {},
   "source": [
    "# task 3: on neuronal model\n",
    "\n",
    "    - test another cell type looking at 'sim.list_standard_models()'"
   ]
  },
  {
   "cell_type": "markdown",
   "metadata": {},
   "source": [
    "\n"
   ]
  },
  {
   "cell_type": "code",
   "execution_count": null,
   "metadata": {},
   "outputs": [],
   "source": []
  },
  {
   "cell_type": "code",
   "execution_count": null,
   "metadata": {},
   "outputs": [],
   "source": []
  }
 ],
 "metadata": {
  "kernelspec": {
   "display_name": "Python 3",
   "language": "python",
   "name": "python3"
  },
  "language_info": {
   "codemirror_mode": {
    "name": "ipython",
    "version": 3
   },
   "file_extension": ".py",
   "mimetype": "text/x-python",
   "name": "python",
   "nbconvert_exporter": "python",
   "pygments_lexer": "ipython3",
   "version": "3.7.6"
  }
 },
 "nbformat": 4,
 "nbformat_minor": 4
}
