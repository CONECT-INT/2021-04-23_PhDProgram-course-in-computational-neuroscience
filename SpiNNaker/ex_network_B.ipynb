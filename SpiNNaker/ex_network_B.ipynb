{
 "cells": [
  {
   "cell_type": "markdown",
   "metadata": {},
   "source": [
    "# ex_network_B\n"
   ]
  },
  {
   "cell_type": "markdown",
   "metadata": {},
   "source": [
    "Design a 2D neural network of 1000 cells receiving geometric thalamic inputs\n",
    "\n",
    "Define the stimulus as a geometric figures on a surface (e.g. an empty square, an empty triangle, etc).\n",
    "\n",
    "The thalamo-cx connectivity is one-to-one.\n",
    "\n",
    "Model of cells is free of choice.\n",
    "\n",
    "Record and plot spikes, voltage and both the conductances."
   ]
  },
  {
   "cell_type": "code",
   "execution_count": 1,
   "metadata": {},
   "outputs": [],
   "source": [
    "# fileName\n",
    "\n",
    "fileName = 'ex_network_B'"
   ]
  },
  {
   "cell_type": "code",
   "execution_count": 2,
   "metadata": {},
   "outputs": [
    {
     "name": "stdout",
     "output_type": "stream",
     "text": [
      "Detected PyNN version 0.9.4 and Neo version 0.6.1\n"
     ]
    }
   ],
   "source": [
    "# libs\n",
    "\n",
    "import pyNN.spiNNaker as sim\n",
    "from pyNN import space \n",
    "import numpy as np\n",
    "import matplotlib.pyplot as plt\n"
   ]
  },
  {
   "cell_type": "code",
   "execution_count": 3,
   "metadata": {},
   "outputs": [
    {
     "name": "stderr",
     "output_type": "stream",
     "text": [
      "2021-04-20 15:42:37 INFO: Read cfg files: /home/spinnaker/sPyNNaker/lib/python3.6/site-packages/spinn_front_end_common/interface/spinnaker.cfg, /home/spinnaker/sPyNNaker/lib/python3.6/site-packages/spynnaker/pyNN/spynnaker.cfg, /home/spinnaker/.spynnaker.cfg\n",
      "2021-04-20 15:42:37 INFO: Will search these locations for binaries: /home/spinnaker/sPyNNaker/lib/python3.6/site-packages/spinn_front_end_common/common_model_binaries : /home/spinnaker/sPyNNaker/lib/python3.6/site-packages/spynnaker/pyNN/model_binaries\n",
      "2021-04-20 15:42:37 WARNING: /home/spinnaker/CNS-tutorial-2021/SpiNNaker/reports has 47 old reports that have not been closed\n",
      "2021-04-20 15:42:37 WARNING: /home/spinnaker/CNS-tutorial-2021/SpiNNaker/application_generated_data_files has 48 old reports that have not been closed\n",
      "2021-04-20 15:42:37 INFO: Setting time scale factor to 1.\n",
      "2021-04-20 15:42:37 INFO: Setting machine time step to 1000 micro-seconds.\n"
     ]
    },
    {
     "name": "stdout",
     "output_type": "stream",
     "text": [
      "['/home/spinnaker/sPyNNaker/lib/python3.6/site-packages/spinn_front_end_common/interface/spinnaker.cfg', '/home/spinnaker/sPyNNaker/lib/python3.6/site-packages/spynnaker/pyNN/spynnaker.cfg', '/home/spinnaker/.spynnaker.cfg']\n"
     ]
    }
   ],
   "source": [
    "# simulation settings\n",
    "\n",
    "sim.setup(\n",
    "        timestep=1, # [ms]\n",
    "        min_delay=1, # [ms]\n",
    "        max_delay=100) # [ms]\n",
    "\n",
    "simtime = 1000 # [ms+]\n"
   ]
  },
  {
   "cell_type": "code",
   "execution_count": 4,
   "metadata": {},
   "outputs": [],
   "source": [
    "# make the network\n",
    "\n",
    "structure = {}\n",
    "structure['2D'] = space.Grid2D(\n",
    "                                aspect_ratio=1.0,\n",
    "                                dx=1.0,\n",
    "                                dy=1.0,\n",
    "                                x0=0.0,\n",
    "                                y0=0.0,\n",
    "                                z=0,\n",
    "                                fill_order='sequential', #'random'\n",
    "                                rng=None,\n",
    "                                )\n",
    "sizePop = 900\n",
    "cx = {}\n",
    "cx['tot'] = sim.Population(\n",
    "                    sizePop,\n",
    "                    sim.IF_cond_exp,\n",
    "                    cellparams=sim.IF_cond_exp.default_parameters,\n",
    "                    structure = structure['2D'],\n",
    "                    initial_values={'v': sim.RandomDistribution('uniform', (-70.0, -60.0))},\n",
    "                    label='cx'\n",
    "                   )\n",
    "\n"
   ]
  },
  {
   "cell_type": "code",
   "execution_count": 5,
   "metadata": {},
   "outputs": [],
   "source": [
    "# set recording of state variables\n",
    "\n",
    "cx['tot'].record(['spikes','v','gsyn_exc','gsyn_inh'])"
   ]
  },
  {
   "cell_type": "code",
   "execution_count": 6,
   "metadata": {},
   "outputs": [
    {
     "data": {
      "text/plain": [
       "array([[ 0.,  0.,  0., ..., 29., 29., 29.],\n",
       "       [ 0.,  1.,  2., ..., 27., 28., 29.],\n",
       "       [ 0.,  0.,  0., ...,  0.,  0.,  0.]])"
      ]
     },
     "execution_count": 6,
     "metadata": {},
     "output_type": "execute_result"
    }
   ],
   "source": [
    "# generate position of cells\n",
    "\n",
    "structure['2D'].generate_positions(900)"
   ]
  },
  {
   "cell_type": "code",
   "execution_count": 7,
   "metadata": {},
   "outputs": [],
   "source": [
    "# make the spike times\n",
    "\n",
    "spike_times = [[]]*sizePop\n",
    "\n",
    "im = np.zeros((int(np.sqrt(sizePop)), int(np.sqrt(sizePop))))\n",
    "\n",
    "traj = [[5, 5],\n",
    "        [5, 6],\n",
    "        [5, 7],\n",
    "        [5, 8],\n",
    "        [5, 9],\n",
    "        [5, 10],\n",
    "        [5, 11],\n",
    "        [5, 12],\n",
    "        [5, 13],\n",
    "        [5, 14],\n",
    "        [5, 15],\n",
    "        [5, 16],\n",
    "        [5, 17],\n",
    "        [5, 18],\n",
    "        [5, 19],\n",
    "        [5, 20]]\n",
    "\n",
    " \n",
    "\n",
    "\n"
   ]
  },
  {
   "cell_type": "code",
   "execution_count": 8,
   "metadata": {},
   "outputs": [
    {
     "name": "stdout",
     "output_type": "stream",
     "text": [
      "Using matplotlib backend: module://ipympl.backend_nbagg\n"
     ]
    },
    {
     "data": {
      "application/vnd.jupyter.widget-view+json": {
       "model_id": "fc484e54eba34d15a652b8a726281403",
       "version_major": 2,
       "version_minor": 0
      },
      "text/plain": [
       "Canvas(toolbar=Toolbar(toolitems=[('Home', 'Reset original view', 'home', 'home'), ('Back', 'Back to previous …"
      ]
     },
     "metadata": {},
     "output_type": "display_data"
    },
    {
     "data": {
      "text/plain": [
       "array([124, 125, 126, 127, 128, 129, 130, 131, 132, 133, 134, 135, 136,\n",
       "       137, 138, 139, 140, 141, 142, 143, 144, 145, 154, 175, 184, 205,\n",
       "       214, 235, 244, 265, 274, 295, 304, 325, 334, 355, 364, 385, 394,\n",
       "       415, 424, 445, 454, 475, 484, 505, 514, 535, 544, 565, 574, 595,\n",
       "       604, 625, 634, 655, 664, 685, 694, 715, 724, 725, 726, 727, 728,\n",
       "       729, 730, 731, 732, 733, 734, 735, 736, 737, 738, 739, 740, 741,\n",
       "       742, 743, 744, 745])"
      ]
     },
     "execution_count": 8,
     "metadata": {},
     "output_type": "execute_result"
    }
   ],
   "source": [
    "for i in range(4,25):\n",
    "    im[4,i] = 1\n",
    "    \n",
    "for i in range(4,25):\n",
    "    im[i,25] = 1\n",
    "\n",
    "for i in range(4, 25):\n",
    "    im[24, i] = 1\n",
    "    \n",
    "for i in range(4, 25):\n",
    "    im[i, 4] = 1\n",
    "\n",
    "%matplotlib\n",
    "plt.matshow(im)\n",
    "\n",
    "actualSources = np.where(im==1)[0]*int(np.sqrt(sizePop)) + np.where(im==1)[1]\n",
    "actualSources"
   ]
  },
  {
   "cell_type": "code",
   "execution_count": 11,
   "metadata": {},
   "outputs": [
    {
     "data": {
      "application/vnd.jupyter.widget-view+json": {
       "model_id": "b8a18c60d60a4afb8909084e362c1ebd",
       "version_major": 2,
       "version_minor": 0
      },
      "text/plain": [
       "Canvas(toolbar=Toolbar(toolitems=[('Home', 'Reset original view', 'home', 'home'), ('Back', 'Back to previous …"
      ]
     },
     "metadata": {},
     "output_type": "display_data"
    }
   ],
   "source": [
    "spike_times = [[]]*sizePop\n",
    "for idx, value in enumerate(actualSources):\n",
    "    spike_times[value] = [10*idx + 100] # compute the spike timing in relation to the selected cells, 10ms each starting at 100ms\n",
    "\n",
    "    \n",
    "fig, axes = plt.subplots(1, 1)\n",
    "fig.tight_layout(pad=5)\n",
    "axes_list = fig.axes\n",
    "\n",
    "for idx, value in enumerate(['network']):\n",
    "    axes_list[idx].eventplot(spike_times)\n",
    "    axes_list[idx].set_title('rasterplot of ' + str(value) + ' layer')\n",
    "    axes_list[idx].set_xlabel('[ms]')\n",
    "    axes_list[idx].set_ylabel('cells')\n",
    "    axes_list[idx].set_xlim(0, simtime)"
   ]
  },
  {
   "cell_type": "code",
   "execution_count": 12,
   "metadata": {},
   "outputs": [],
   "source": [
    "# make the thalamic input sources\n",
    "\n",
    "thalamus = {}\n",
    "thalamus['A'] = sim.Population(\n",
    "                                sizePop,\n",
    "                                sim.SpikeSourceArray(spike_times=spike_times),\n",
    "                                cellparams=None,\n",
    "                                structure=structure['2D'],\n",
    "                                initial_values=None,\n",
    "                                label=None,\n",
    "                                constraints=None,\n",
    "                                additional_parameters=None,\n",
    "                                )\n"
   ]
  },
  {
   "cell_type": "code",
   "execution_count": 13,
   "metadata": {},
   "outputs": [],
   "source": [
    "# make the projection"
   ]
  },
  {
   "cell_type": "code",
   "execution_count": 14,
   "metadata": {},
   "outputs": [],
   "source": [
    "projs = {}\n",
    "\n",
    "projs['thal', 'cx'] = sim.Projection(\n",
    "                                    thalamus['A'],\n",
    "                                    cx['tot'] ,\n",
    "                                    sim.OneToOneConnector(),\n",
    "                                    synapse_type=sim.StaticSynapse(weight=0.1, delay=1),\n",
    "                                    source=None,\n",
    "                                    receptor_type='excitatory',\n",
    "                                    space = space.Space(axes = 'xy'),\n",
    "                                    label='thal->cx-e',\n",
    "                                )\n",
    "\n"
   ]
  },
  {
   "cell_type": "code",
   "execution_count": 15,
   "metadata": {},
   "outputs": [
    {
     "name": "stderr",
     "output_type": "stream",
     "text": [
      "2021-04-20 15:42:56 INFO: Simulating for 1000 1.0ms timesteps using a hardware timestep of 1000us\n",
      "2021-04-20 15:42:56 INFO: Starting execution process\n",
      "2021-04-20 15:43:00 INFO: Time 0:00:03.460798 taken by SpallocMaxMachineGenerator\n",
      "Pre allocating resources for Extra Monitor support vertices\n",
      "|0%                          50%                         100%|\n",
      " ============================================================\n",
      "2021-04-20 15:43:09 INFO: Time 0:00:09.494797 taken by PreAllocateResourcesForExtraMonitorSupport\n",
      "Partitioning graph vertices\n",
      "|0%                          50%                         100%|\n",
      " ============================================================\n",
      "Partitioning graph edges\n",
      "|0%                          50%                         100%|\n",
      " ============================================================\n",
      "2021-04-20 15:43:14 INFO: Time 0:00:05.170459 taken by PartitionAndPlacePartitioner\n",
      "Created spalloc job 5959586\n",
      "2021-04-20 15:43:14 INFO: Created spalloc job 5959586\n",
      "Waiting for board power commands to complete.\n",
      "2021-04-20 15:43:14 INFO: Waiting for board power commands to complete.\n",
      "2021-04-20 15:43:23 INFO: Time 0:00:08.943196 taken by SpallocAllocator\n",
      "2021-04-20 15:43:23 INFO: Creating transceiver for 10.11.193.1\n",
      "2021-04-20 15:43:23 INFO: Working out if machine is booted\n",
      "2021-04-20 15:43:27 INFO: Attempting to boot machine\n",
      "2021-04-20 15:43:33 INFO: Found board with version [Version: SC&MP 3.2.5 at SpiNNaker:0:0:0 (built Thu Aug  1 08:15:06 2019)]\n",
      "2021-04-20 15:43:33 INFO: Machine communication successful\n",
      "2021-04-20 15:43:33 INFO: Detected a machine on IP address 10.11.193.1 which has 856 cores and 120.0 links\n",
      "2021-04-20 15:43:33 INFO: Time 0:00:09.635161 taken by MachineGenerator\n",
      "Generating partitioner report\n",
      "|0%                          50%                         100%|\n",
      " ============================================================\n",
      "2021-04-20 15:43:33 INFO: Time 0:00:00.009252 taken by PartitionerReport\n",
      "2021-04-20 15:43:33 INFO: Time 0:00:00.000348 taken by NetworkSpecificationReport\n",
      "Allocating virtual identifiers\n",
      "|0%                          50%                         100%|\n",
      " ============================================================\n",
      "2021-04-20 15:43:33 INFO: Time 0:00:00.029006 taken by MallocBasedChipIDAllocator\n",
      "Inserting extra monitors into graphs\n",
      "|0%                          50%                         100%|\n",
      " ============================================================\n",
      "2021-04-20 15:43:33 INFO: Time 0:00:00.037696 taken by InsertExtraMonitorVerticesToGraphs\n",
      "Writing the board chip report\n",
      "|0%                          50%                         100%|\n",
      " ============================================================\n",
      "2021-04-20 15:43:33 INFO: Time 0:00:00.007857 taken by BoardChipReport\n",
      "Filtering edges\n",
      "|0%                          50%                         100%|\n",
      " ============================================================\n",
      "2021-04-20 15:43:33 INFO: Time 0:00:00.034241 taken by GraphEdgeFilter\n",
      "Placing graph vertices\n",
      "|0%                          50%                         100%|\n",
      " ============================================================\n",
      "2021-04-20 15:43:33 INFO: Time 0:00:00.047195 taken by OneToOnePlacer\n",
      "Inserting edges between vertices which require FR speed up functionality.\n",
      "|0%                          50%                         100%|\n",
      " ============================================================\n",
      "2021-04-20 15:43:33 INFO: Time 0:00:00.061885 taken by InsertEdgesToExtraMonitorFunctionality\n",
      "Generating routing tables for data in system processes\n",
      "|0%                          50%                         100%|\n",
      " ============================================================\n",
      "2021-04-20 15:43:33 INFO: Time 0:00:00.007944 taken by DataInMulticastRoutingGenerator\n",
      "Generating fixed router routes\n",
      "|0%                          50%                         100%|\n",
      " ============================================================\n",
      "2021-04-20 15:43:33 INFO: Time 0:00:00.004932 taken by FixedRouteRouter\n",
      "Generating placement report\n",
      "|0%                          50%                         100%|\n",
      " ============================================================\n",
      "Generating placement by core report\n",
      "|0%                          50%                         100%|\n",
      " ============================================================\n",
      "2021-04-20 15:43:33 INFO: Time 0:00:00.063998 taken by PlacerReportWithApplicationGraph\n",
      "Routing\n",
      "|0%                          50%                         100%|\n",
      " ============================================================\n",
      "\n",
      "2021-04-20 15:43:33 INFO: Time 0:00:00.030252 taken by NerRoute\n",
      "Discovering tags\n",
      "|0%                          50%                         100%|\n",
      " ============================================================\n",
      "Allocating tags\n",
      "|0%                          50%                         100%|\n",
      " ============================================================\n",
      "2021-04-20 15:43:33 INFO: Time 0:00:00.044711 taken by BasicTagAllocator\n",
      "Reporting Tags\n",
      "|0%                          50%                         100%|\n",
      " ============================================================\n",
      "2021-04-20 15:43:33 INFO: Time 0:00:00.005262 taken by TagReport\n",
      "Getting number of keys required by each edge using application graph\n",
      "|0%                          50%                         100%|\n",
      " ============================================================\n",
      "2021-04-20 15:43:33 INFO: Time 0:00:00.034443 taken by EdgeToNKeysMapper\n",
      "Getting constraints for application graph\n",
      "|0%                          50%                         100%|\n",
      " ============================================================\n",
      "2021-04-20 15:43:33 INFO: Time 0:00:00.024632 taken by ProcessPartitionConstraints\n",
      "Allocating routing keys\n",
      "|0%                          50%                         100%|\n",
      " ============================================================\n",
      "2021-04-20 15:43:33 INFO: Time 0:00:00.015238 taken by MallocBasedRoutingInfoAllocator\n",
      "Generating Routing info report\n",
      "|0%                          50%                         100%|\n",
      " ============================================================\n",
      "2021-04-20 15:43:34 INFO: Time 0:00:00.028249 taken by routingInfoReports\n",
      "Generating routing tables\n",
      "|0%                          50%                         100%|\n",
      " ============================================================\n",
      "2021-04-20 15:43:34 INFO: Time 0:00:00.032865 taken by BasicRoutingTableGenerator\n",
      "Finding executable start types\n",
      "|0%                          50%                         100%|\n",
      " ============================================================\n",
      "2021-04-20 15:43:34 INFO: Time 0:00:00.040088 taken by LocateExecutableStartType\n",
      "Initialising buffers\n",
      "|0%                          50%                         100%|\n",
      " ============================================================\n",
      "2021-04-20 15:43:34 INFO: Time 0:00:00.036633 taken by BufferManagerCreator\n",
      "Generating data specifications\n",
      "|0%                          50%                         100%|\n",
      " ============================================================\n",
      "2021-04-20 15:43:34 INFO: Time 0:00:00.270020 taken by SpynnakerDataSpecificationWriter\n",
      "Preparing Routing Tables\n",
      "|0%                          50%                         100%|\n",
      " ============================================================\n",
      "2021-04-20 15:43:34 INFO: Time 0:00:00.011668 taken by RoutingSetup\n",
      "Finding binaries\n",
      "|0%                          50%                         100%|\n",
      " ============================================================\n",
      "2021-04-20 15:43:34 INFO: Time 0:00:00.034242 taken by GraphBinaryGatherer\n",
      "Running routing table compression on chip\n",
      "|0%                          50%                         100%|\n",
      " ============================================================\n",
      "2021-04-20 15:43:39 INFO: Time 0:00:04.533335 taken by MundyOnChipRouterCompression\n",
      "Generating Router table report\n",
      "|0%                          50%                         100%|\n",
      " ============================================================\n",
      "2021-04-20 15:43:39 INFO: Time 0:00:00.006882 taken by unCompressedRoutingTableReports\n",
      "loading fixed routes\n",
      "|0%                          50%                         100%|\n",
      " ============================================================\n",
      "2021-04-20 15:43:39 INFO: Time 0:00:00.043669 taken by LoadFixedRoutes\n",
      "Executing data specifications and loading data for system vertices\n",
      "|0%                          50%                         100%|\n",
      " ============================================================\n",
      "2021-04-20 15:43:39 INFO: Time 0:00:00.156465 taken by HostExecuteSystemDataSpecification\n",
      "Loading system executables onto the machine\n",
      "|0%                          50%                         100%|\n",
      " ============================================================\n",
      "2021-04-20 15:43:44 INFO: Time 0:00:05.706040 taken by LoadSystemExecutableImages\n",
      "Clearing tags\n",
      "|0%                          50%                         100%|\n",
      " ============================================================\n",
      "Loading Tags\n",
      "|0%                          50%                         100%|\n",
      " ============================================================\n",
      "2021-04-20 15:43:44 INFO: Time 0:00:00.020405 taken by TagsLoader\n",
      "Writing data\n",
      "|0%                          50%                         100%|\n",
      " ============================================================\n",
      "2021-04-20 15:43:44 INFO: Time 0:00:00.034950 taken by WriteMemoryIOData\n",
      "Executing data specifications and loading data for application vertices\n",
      "|0%                          50%                         100%|\n",
      " ============================================================\n",
      "2021-04-20 15:43:45 INFO: Time 0:00:00.213030 taken by HostExecuteApplicationDataSpecification\n",
      "Expanding Synapses\n",
      "|0%                          50%                         100%|\n",
      " ============================================================\n",
      "2021-04-20 15:43:49 INFO: Time 0:00:03.896320 taken by SynapseExpander\n",
      "Writing fixed route report\n",
      "|0%                          50%                         100%|\n",
      " ============================================================\n",
      "2021-04-20 15:43:49 INFO: Time 0:00:00.050624 taken by FixedRouteFromMachineReport\n",
      "Loading executables onto the machine\n",
      "|0%                          50%                         100%|\n",
      " ============================================================\n",
      "2021-04-20 15:43:55 INFO: Time 0:00:06.769515 taken by LoadApplicationExecutableImages\n",
      "Reading Routing Tables from Machine\n",
      "|0%                          50%                         100%|\n",
      " ============================================================\n",
      "2021-04-20 15:43:55 INFO: Time 0:00:00.013752 taken by RoutingTableFromMachineReport\n",
      "Generating compressed router table report\n",
      "|0%                          50%                         100%|\n",
      " ============================================================\n",
      "2021-04-20 15:43:55 INFO: Time 0:00:00.006975 taken by compressedRoutingTableReports\n",
      "Generating comparison of router table report\n",
      "|0%                          50%                         100%|\n",
      " ============================================================\n",
      "2021-04-20 15:43:55 INFO: Time 0:00:00.009307 taken by comparisonOfRoutingTablesReport\n",
      "2021-04-20 15:43:55 INFO: Running for 1 steps for a total of 1000.0ms\n",
      "2021-04-20 15:43:55 INFO: Run 1 of 1\n",
      "Generating SDRAM usage report\n",
      "|0%                          50%                         100%|\n",
      " ============================================================\n",
      "2021-04-20 15:43:56 INFO: Time 0:00:00.062251 taken by SdramUsageReportPerChip\n",
      "Updating run time\n",
      "|0%                          50%                         100%|\n",
      " ============================================================\n",
      "2021-04-20 15:43:56 INFO: Time 0:00:00.030935 taken by ChipRuntimeUpdater\n",
      "2021-04-20 15:43:56 INFO: creating live event connection database in /home/spinnaker/CNS-tutorial-2021/SpiNNaker/application_generated_data_files/2021-04-20-15-42-37-656047/run_1/input_output_database.db\n",
      "Creating graph description database\n",
      "|0%                          50%                         100%|\n",
      " ============================================================\n",
      "2021-04-20 15:44:04 INFO: Time 0:00:08.146926 taken by DatabaseInterface\n",
      "2021-04-20 15:44:04 INFO: ** Notifying external sources that the database is ready for reading **\n",
      "2021-04-20 15:44:04 INFO: Time 0:00:00.001192 taken by NotificationProtocol\n",
      "2021-04-20 15:44:04 INFO: *** Running simulation... *** \n",
      "Loading buffers\n",
      "|0%                          50%                         100%|\n",
      " ============================================================\n",
      "2021-04-20 15:44:04 INFO: ** Awaiting for a response from an external source to state its ready for the simulation to start **\n",
      "2021-04-20 15:44:04 INFO: ** Sending start / resume message to external sources to state the simulation has started or resumed. **\n",
      "2021-04-20 15:44:04 INFO: ** Awaiting for a response from an external source to state its ready for the simulation to start **\n",
      "2021-04-20 15:44:04 INFO: Application started; waiting 1.1s for it to stop\n",
      "2021-04-20 15:44:05 INFO: ** Sending pause / stop message to external sources to state the simulation has been paused or stopped. **\n",
      "2021-04-20 15:44:05 INFO: Time 0:00:01.219048 taken by ApplicationRunner\n",
      "Extracting buffers from the last run\n",
      "|0%                          50%                         100%|\n",
      " ============================================================\n",
      "2021-04-20 15:44:07 INFO: Time 0:00:02.406312 taken by BufferExtractor\n",
      "Getting provenance data from machine graph\n",
      "|0%                          50%                         100%|\n",
      " ============================================================\n",
      "Getting provenance data from application graph\n",
      "|0%                          50%                         100%|\n",
      " ============================================================\n",
      "2021-04-20 15:44:07 INFO: Time 0:00:00.120587 taken by GraphProvenanceGatherer\n",
      "Getting provenance data\n",
      "|0%                          50%                         100%|\n",
      " ============================================================\n",
      "2021-04-20 15:44:08 INFO: Time 0:00:00.040073 taken by PlacementsProvenanceGatherer\n",
      "Getting Router Provenance\n",
      "|0%                          50%                         100%|\n",
      " ============================================================\n",
      "2021-04-20 15:44:08 INFO: Time 0:00:00.055515 taken by RouterProvenanceGatherer\n",
      "Getting profile data\n",
      "|0%                          50%                         100%|\n",
      " ============================================================\n",
      "2021-04-20 15:44:08 INFO: Time 0:00:00.039230 taken by ProfileDataGatherer\n"
     ]
    },
    {
     "data": {
      "text/plain": [
       "1000.0"
      ]
     },
     "execution_count": 15,
     "metadata": {},
     "output_type": "execute_result"
    }
   ],
   "source": [
    "# run simulation\n",
    "\n",
    "sim.run(simtime) "
   ]
  },
  {
   "cell_type": "code",
   "execution_count": 16,
   "metadata": {},
   "outputs": [
    {
     "name": "stderr",
     "output_type": "stream",
     "text": [
      "Getting spikes for cx\n",
      "|0%                          50%                         100%|\n",
      " ============================================================\n",
      "Getting v for cx\n",
      "|0%                          50%                         100%|\n",
      " ============================================================\n",
      "Getting gsyn_exc for cx\n",
      "|0%                          50%                         100%|\n",
      " ============================================================\n",
      "Getting gsyn_inh for cx\n",
      "|0%                          50%                         100%|\n",
      " ============================================================\n",
      "Getting spikes for cx\n",
      "|0%                          50%                         100%|\n",
      " ============================================================\n",
      "Getting v for cx\n",
      "|0%                          50%                         100%|\n",
      " ============================================================\n",
      "Getting gsyn_exc for cx\n",
      "|0%                          50%                         100%|\n",
      " ============================================================\n",
      "Getting gsyn_inh for cx\n",
      "|0%                          50%                         100%|\n",
      " ============================================================\n",
      "Getting spikes for cx\n",
      "|0%                          50%                         100%|\n",
      " ============================================================\n",
      "Getting v for cx\n",
      "|0%                          50%                         100%|\n",
      " ============================================================\n",
      "Getting gsyn_exc for cx\n",
      "|0%                          50%                         100%|\n",
      " ============================================================\n",
      "Getting gsyn_inh for cx\n",
      "|0%                          50%                         100%|\n",
      " ============================================================\n",
      "Getting spikes for cx\n",
      "|0%                          50%                         100%|\n",
      " ============================================================\n",
      "Getting v for cx\n",
      "|0%                          50%                         100%|\n",
      " ============================================================\n",
      "Getting gsyn_exc for cx\n",
      "|0%                          50%                         100%|\n",
      " ============================================================\n",
      "Getting gsyn_inh for cx\n",
      "|0%                          50%                         100%|\n",
      " ============================================================\n",
      "Getting spikes for cx\n",
      "|0%                          50%                         100%|\n",
      " ============================================================\n",
      "Getting v for cx\n",
      "|0%                          50%                         100%|\n",
      " ============================================================\n",
      "Getting gsyn_exc for cx\n",
      "|0%                          50%                         100%|\n",
      " ============================================================\n",
      "Getting gsyn_inh for cx\n",
      "|0%                          50%                         100%|\n",
      " ============================================================\n"
     ]
    }
   ],
   "source": [
    "# save the results\n",
    "\n",
    "\n",
    "outputs = {}\n",
    "\n",
    "outputs['cx'] = cx['tot'].get_data()\n",
    "for recording in ['v', 'gsyn_inh', 'gsyn_exc', 'spikes']:\n",
    "    cx['tot'].write_data(fileName + '_' + str(recording) + '.pkl')\n"
   ]
  },
  {
   "cell_type": "code",
   "execution_count": 17,
   "metadata": {},
   "outputs": [],
   "source": [
    "# recover results function\n",
    "\n",
    "def recover_results(outputs):\n",
    "    results = {}\n",
    "    for key in outputs.keys(): # to extract the name of the layer, e.g., Exc, Inh, Thalamus, etc  \n",
    "        \n",
    "        # to get voltage and conductances\n",
    "        for analogsignal in outputs[key].segments[0].analogsignals:\n",
    "            print(analogsignal.name)\n",
    "            results[key, analogsignal.name] = analogsignal\n",
    "\n",
    "        # to get spikes\n",
    "        results[key, 'spikes'] = outputs[key].segments[0].spiketrains\n",
    "    return results\n"
   ]
  },
  {
   "cell_type": "code",
   "execution_count": 18,
   "metadata": {},
   "outputs": [
    {
     "name": "stdout",
     "output_type": "stream",
     "text": [
      "v\n",
      "gsyn_exc\n",
      "gsyn_inh\n"
     ]
    },
    {
     "data": {
      "text/plain": [
       "dict_keys([('cx', 'v'), ('cx', 'gsyn_exc'), ('cx', 'gsyn_inh'), ('cx', 'spikes')])"
      ]
     },
     "execution_count": 18,
     "metadata": {},
     "output_type": "execute_result"
    }
   ],
   "source": [
    "# recover results\n",
    "\n",
    "results = recover_results(outputs)\n",
    "results.keys()"
   ]
  },
  {
   "cell_type": "code",
   "execution_count": 19,
   "metadata": {},
   "outputs": [
    {
     "data": {
      "application/vnd.jupyter.widget-view+json": {
       "model_id": "e81c4f7bdf3348b6bae5dbab4a87dc51",
       "version_major": 2,
       "version_minor": 0
      },
      "text/plain": [
       "Canvas(toolbar=Toolbar(toolitems=[('Home', 'Reset original view', 'home', 'home'), ('Back', 'Back to previous …"
      ]
     },
     "metadata": {},
     "output_type": "display_data"
    },
    {
     "data": {
      "text/plain": [
       "(0.0, 1000.0)"
      ]
     },
     "execution_count": 19,
     "metadata": {},
     "output_type": "execute_result"
    }
   ],
   "source": [
    "# check the spikes\n",
    "\n",
    "fig, axes = plt.subplots(1, 1)\n",
    "fig.tight_layout(pad=5)\n",
    "axes_list = fig.axes\n",
    "idx = 0\n",
    "axes_list[idx].eventplot(results['cx', 'spikes'])\n",
    "axes_list[idx].set_title('rasterplot of cx layer')\n",
    "axes_list[idx].set_xlabel('[ms]')\n",
    "axes_list[idx].set_ylabel('cells')\n",
    "axes_list[idx].set_xlim(0, simtime)\n"
   ]
  },
  {
   "cell_type": "code",
   "execution_count": 26,
   "metadata": {},
   "outputs": [
    {
     "data": {
      "application/vnd.jupyter.widget-view+json": {
       "model_id": "93e1dd73d9b84481bd0a0bae47e26e87",
       "version_major": 2,
       "version_minor": 0
      },
      "text/plain": [
       "Canvas(toolbar=Toolbar(toolitems=[('Home', 'Reset original view', 'home', 'home'), ('Back', 'Back to previous …"
      ]
     },
     "metadata": {},
     "output_type": "display_data"
    },
    {
     "data": {
      "text/plain": [
       "<matplotlib.colorbar.Colorbar at 0x7f94aa5d5710>"
      ]
     },
     "execution_count": 26,
     "metadata": {},
     "output_type": "execute_result"
    }
   ],
   "source": [
    "# check the voltage\n",
    "\n",
    "fig, axes = plt.subplots(1, 1)# figsize=(9,5))\n",
    "fig.tight_layout(pad=5)\n",
    "axes_list = fig.axes\n",
    "im = axes_list[0].imshow(results['cx', 'v'].T)\n",
    "axes_list[0].set_title('voltage of cx')\n",
    "axes_list[0].set_xlabel('time [ms]')\n",
    "axes_list[0].set_ylabel('cells')\n",
    "fig.colorbar(im, ax=axes_list[0], fraction=0.010, label='[mV]')\n",
    "\n",
    "\n"
   ]
  },
  {
   "cell_type": "code",
   "execution_count": 21,
   "metadata": {},
   "outputs": [
    {
     "data": {
      "application/vnd.jupyter.widget-view+json": {
       "model_id": "ca31f9c23332461eb620ea895654e9c4",
       "version_major": 2,
       "version_minor": 0
      },
      "text/plain": [
       "Canvas(toolbar=Toolbar(toolitems=[('Home', 'Reset original view', 'home', 'home'), ('Back', 'Back to previous …"
      ]
     },
     "metadata": {},
     "output_type": "display_data"
    },
    {
     "data": {
      "text/plain": [
       "<matplotlib.colorbar.Colorbar at 0x7f94aa8d0198>"
      ]
     },
     "execution_count": 21,
     "metadata": {},
     "output_type": "execute_result"
    }
   ],
   "source": [
    "# plot votlage variance and reshape the 900 cells in a square of 30x30\n",
    "\n",
    "var = []\n",
    "for i in range(len(results['cx', 'v'].T)):\n",
    "    var +=[np.var(results['cx', 'v'][:, i])]\n",
    "\n",
    "fig, axes = plt.subplots(1, 1)# figsize=(9,5))\n",
    "fig.tight_layout(pad=5)\n",
    "axes_list = fig.axes\n",
    "im = axes_list[0].matshow(np.asarray(var).reshape(30,30))\n",
    "axes_list[0].set_title('voltage variance of cx')\n",
    "axes_list[0].set_xlabel('cells')\n",
    "axes_list[0].set_ylabel('cells')\n",
    "fig.colorbar(im, ax=axes_list[0], fraction=0.010, label='a.u.')"
   ]
  },
  {
   "cell_type": "code",
   "execution_count": 25,
   "metadata": {},
   "outputs": [
    {
     "data": {
      "application/vnd.jupyter.widget-view+json": {
       "model_id": "d8a7a2e0f9844f888deb64e60e82b0d8",
       "version_major": 2,
       "version_minor": 0
      },
      "text/plain": [
       "Canvas(toolbar=Toolbar(toolitems=[('Home', 'Reset original view', 'home', 'home'), ('Back', 'Back to previous …"
      ]
     },
     "metadata": {},
     "output_type": "display_data"
    }
   ],
   "source": [
    "# check the conductances of cx\n",
    "\n",
    "for layer in ['cx']:\n",
    "    fig, axes = plt.subplots(1, 1)#, figsize=(12,5))\n",
    "    fig.tight_layout(pad=5)\n",
    "    axes_list = fig.axes\n",
    "    \n",
    "    for idx, gsyn in enumerate(['gsyn_exc']):#, 'gsyn_inh']):\n",
    "        im = axes_list[idx].imshow(results[layer, gsyn].T)\n",
    "        axes_list[idx].set_title(str(gsyn))\n",
    "        axes_list[idx].set_xlabel('time [ms]')\n",
    "        axes_list[idx].set_ylabel('cells')\n",
    "        fig.colorbar(im, ax=axes_list[idx], fraction=0.010, label='[uS]')"
   ]
  },
  {
   "cell_type": "code",
   "execution_count": 23,
   "metadata": {},
   "outputs": [
    {
     "name": "stderr",
     "output_type": "stream",
     "text": [
      "2021-04-20 15:44:13 WARNING: During the extraction of data of 1024000 bytes from memory address 1689923584, attempt 0 had 22 sequences that were lost.\n",
      "2021-04-20 15:44:13 WARNING: No multicast packets were sent by SpikeSourceArrayVertex_1:0:899.  If you expected packets to be sent this could indicate an error\n"
     ]
    }
   ],
   "source": [
    "# end simulation\n",
    "\n",
    "sim.end()"
   ]
  },
  {
   "cell_type": "code",
   "execution_count": null,
   "metadata": {},
   "outputs": [],
   "source": []
  },
  {
   "cell_type": "code",
   "execution_count": null,
   "metadata": {},
   "outputs": [],
   "source": []
  }
 ],
 "metadata": {
  "kernelspec": {
   "display_name": "sPyNNaker",
   "language": "python",
   "name": "spynnaker"
  },
  "language_info": {
   "codemirror_mode": {
    "name": "ipython",
    "version": 3
   },
   "file_extension": ".py",
   "mimetype": "text/x-python",
   "name": "python",
   "nbconvert_exporter": "python",
   "pygments_lexer": "ipython3",
   "version": "3.6.9"
  }
 },
 "nbformat": 4,
 "nbformat_minor": 4
}
