{
 "cells": [
  {
   "cell_type": "markdown",
   "metadata": {},
   "source": [
    "# step 0\n",
    "\n",
    "- Ebrains https://ebrains.eu/ and the The Human Brain Project https://www.humanbrainproject.eu/en/\n",
    "\n",
    "- Neuromorphic computing resources: SpiNNaker and BrainScaleS\n",
    "\n",
    "- login to https://spinn-20.cs.man.ac.uk/hub/home"
   ]
  },
  {
   "cell_type": "markdown",
   "metadata": {},
   "source": [
    "# info about SpiNNaker\n",
    "\n",
    "- SpiNNaker the hardware http://apt.cs.manchester.ac.uk/projects/SpiNNaker/\n",
    "\n",
    "- sPyNNaker the software https://www.frontiersin.org/articles/10.3389/fnins.2018.00816/full\n",
    "    - doc https://spynnaker.readthedocs.io/_/downloads/en/latest/pdf/\n",
    "\n",
    "- SpiNNaker mailing list google https://groups.google.com/g/spinnakerusers?pli=1\n",
    "\n",
    "- https://www.youtube.com/watch?v=V3MlOAru6Qk\n",
    "\n",
    "- comparison https://www.frontiersin.org/articles/10.3389/fnins.2018.00291/full"
   ]
  },
  {
   "cell_type": "markdown",
   "metadata": {},
   "source": [
    "# info about PyNN\n",
    "\n",
    "- PyNN \n",
    "    - paper https://www.ncbi.nlm.nih.gov/pmc/articles/PMC2634533/\n",
    "    - PyNN website http://neuralensemble.org/docs/PyNN/index.html\n",
    "    - PyNN mailing list google"
   ]
  },
  {
   "cell_type": "markdown",
   "metadata": {},
   "source": [
    "# goal of this tutorial on PyNN\n",
    "\n",
    "- by using PyNN software on the SpiNNaker hardware, \n",
    "\n",
    "- you will know the basic scripts to design, run and analyze a spiking neuronal network (SNN) implemented on a neuromorphic system\n",
    "\n",
    "- and get you ready to explore or extend the models\n",
    "\n",
    "- content:\n",
    "    - building the network\n",
    "        - neurons\n",
    "            - cell types\n",
    "            - populations\n",
    "            - recording variables\n",
    "            \n",
    "        - connections\n",
    "            - synapse types\n",
    "            - connections types\n",
    "            - projections\n",
    "    \n",
    "    - running the network\n",
    "        - example of an entry level SNN\n",
    "        \n",
    "    - analysis of the results \n",
    "        - some visualization and statistics\n",
    "        \n",
    "    - next steps: SNN model A and B\n",
    "        "
   ]
  },
  {
   "cell_type": "markdown",
   "metadata": {},
   "source": [
    "# import the simulator"
   ]
  },
  {
   "cell_type": "code",
   "execution_count": null,
   "metadata": {},
   "outputs": [],
   "source": [
    "import pyNN.spiNNaker as sim\n",
    "#import pyNN.nest as sim\n",
    "import numpy as np\n",
    "import matplotlib.pyplot as plt\n",
    "\n"
   ]
  },
  {
   "cell_type": "code",
   "execution_count": null,
   "metadata": {},
   "outputs": [],
   "source": [
    "# note on PyNN with nest\n",
    "\n",
    "# how to install PyNN and nest\n",
    "\n",
    "# neuron, brian, etc put link"
   ]
  },
  {
   "cell_type": "code",
   "execution_count": null,
   "metadata": {},
   "outputs": [],
   "source": [
    "# sim + tab key to explore PyNN features (classes, modules, functions, instances)\n",
    "\n",
    "# have a try..."
   ]
  },
  {
   "cell_type": "markdown",
   "metadata": {},
   "source": [
    "# setup the simulator"
   ]
  },
  {
   "cell_type": "code",
   "execution_count": null,
   "metadata": {},
   "outputs": [],
   "source": [
    "sim.setup(\n",
    "    timestep=1, # [ms]\n",
    "    min_delay=1, # [ms]\n",
    "    max_delay=100) # [ms]\n",
    "\n",
    "time_bins = 500 #ms"
   ]
  },
  {
   "cell_type": "markdown",
   "metadata": {},
   "source": [
    "# the cell types "
   ]
  },
  {
   "cell_type": "markdown",
   "metadata": {},
   "source": [
    "- cell models and source models\n",
    "- point neuron (aka mono-compartment model)\n",
    "- http://neuralensemble.org/docs/PyNN/standardmodels.html"
   ]
  },
  {
   "cell_type": "code",
   "execution_count": null,
   "metadata": {},
   "outputs": [],
   "source": [
    "sim.list_standard_models()"
   ]
  },
  {
   "cell_type": "markdown",
   "metadata": {},
   "source": [
    "- e.g., with IF_cond_exp \n",
    "- Leaky integrate and fire model with fixed threshold and decaying-exponential post-synaptic conductance.\n",
    "- explicit model https://arxiv.org/pdf/2003.13365.pdf"
   ]
  },
  {
   "cell_type": "code",
   "execution_count": null,
   "metadata": {},
   "outputs": [],
   "source": [
    "# parameter names\n",
    "\n",
    "sim.IF_cond_exp.get_parameter_names()"
   ]
  },
  {
   "cell_type": "code",
   "execution_count": null,
   "metadata": {},
   "outputs": [],
   "source": [
    "# default parameters\n",
    "\n",
    "standard_pars = sim.IF_cond_exp.default_parameters\n",
    "\n",
    "print(sim.IF_cond_exp.default_parameters)"
   ]
  },
  {
   "cell_type": "code",
   "execution_count": null,
   "metadata": {},
   "outputs": [],
   "source": [
    "# dictonary of testing parameters\n",
    "\n",
    "testing_pars = {'tau_m': 20, \n",
    "                'cm': 1.0, \n",
    "                'v_rest': -65.0, \n",
    "                'v_reset': -70.0, \n",
    "                'v_thresh': -48.0, \n",
    "                'tau_syn_E': 5.0, \n",
    "                'tau_syn_I': 5.0, \n",
    "                'tau_refrac': 2, \n",
    "                'i_offset': 0.0, \n",
    "                'e_rev_E': 0.0, \n",
    "                'e_rev_I': -70.0}"
   ]
  },
  {
   "cell_type": "code",
   "execution_count": null,
   "metadata": {},
   "outputs": [],
   "source": [
    "# initial values\n",
    "\n",
    "sim.IF_cond_exp().default_initial_values"
   ]
  },
  {
   "cell_type": "markdown",
   "metadata": {},
   "source": [
    "# making cell populations\n"
   ]
  },
  {
   "cell_type": "code",
   "execution_count": null,
   "metadata": {},
   "outputs": [],
   "source": [
    "pops = {}\n",
    "\n",
    "n_cells = {}\n",
    "neuron_Model = {}\n",
    "neuron_ModelPars = {}\n",
    "initial_Values = {}"
   ]
  },
  {
   "cell_type": "code",
   "execution_count": null,
   "metadata": {},
   "outputs": [],
   "source": [
    "# define a popolation of excitatory neurons in 1D\n",
    "\n",
    "popName = 'Exc'\n",
    "n_cells[popName] = 100\n",
    "neuron_Model[popName] = sim.IF_cond_exp\n",
    "neuron_ModelPars[popName] = testing_pars # sim.IF_cond_exp.default_parameters # or standard_pars or testing_pars\n",
    "initial_Values[popName] = sim.IF_cond_exp.default_initial_values\n",
    "\n",
    "pops[popName] = sim.Population(n_cells[popName], \n",
    "                               neuron_Model[popName],\n",
    "                               neuron_ModelPars[popName],\n",
    "                               label = popName)\n",
    "                               # add spatial constraint\n",
    "\n",
    "pops[popName].record(['spikes','v','gsyn_exc','gsyn_inh'])   \n"
   ]
  },
  {
   "cell_type": "code",
   "execution_count": null,
   "metadata": {},
   "outputs": [],
   "source": [
    "# define a popolation of inhibitory neurons in 1D\n",
    "\n",
    "popName = 'Inh'\n",
    "n_cells[popName] = 100\n",
    "neuron_Model[popName] = sim.IF_cond_exp\n",
    "neuron_ModelPars[popName] = sim.IF_cond_exp.default_parameters # or standard_pars or testing_pars\n",
    "initial_Values[popName] = sim.IF_cond_exp.default_initial_values\n",
    "\n",
    "pops[popName] = sim.Population(n_cells[popName], \n",
    "                              neuron_Model[popName],\n",
    "                              neuron_ModelPars[popName],\n",
    "                              label = popName)\n",
    "                              # add spatial constraint\n",
    "\n",
    "pops[popName].record(['spikes','v','gsyn_exc','gsyn_inh'])\n"
   ]
  },
  {
   "cell_type": "code",
   "execution_count": null,
   "metadata": {},
   "outputs": [],
   "source": [
    "# check created populations \n",
    "\n",
    "pops\n",
    "#pops.keys()\n",
    "#pops.items()\n",
    "#pops.values()"
   ]
  },
  {
   "cell_type": "code",
   "execution_count": null,
   "metadata": {},
   "outputs": [],
   "source": [
    "# get initial values\n",
    "pops['Exc'].get_initial_values()"
   ]
  },
  {
   "cell_type": "code",
   "execution_count": null,
   "metadata": {},
   "outputs": [],
   "source": [
    "pops['Exc'].get_initial_value('v') # voltage"
   ]
  },
  {
   "cell_type": "code",
   "execution_count": null,
   "metadata": {},
   "outputs": [],
   "source": [
    "pops['Exc'].get_initial_value('isyn_exc') # excitatory conductance"
   ]
  },
  {
   "cell_type": "code",
   "execution_count": null,
   "metadata": {},
   "outputs": [],
   "source": [
    "pops['Exc'].get_initial_value('isyn_inh') # inhibitory conductance"
   ]
  },
  {
   "cell_type": "code",
   "execution_count": null,
   "metadata": {},
   "outputs": [],
   "source": [
    "do_run = True\n",
    "if do_run:\n",
    "    # set initial values, e.g., voltage\n",
    "    pops['Exc'].initialize(v = sim.RandomDistribution('normal', (-65.0, 2.0)))\n",
    "    pops['Exc'].get_initial_value('v') # voltage"
   ]
  },
  {
   "cell_type": "code",
   "execution_count": null,
   "metadata": {},
   "outputs": [],
   "source": [
    "# visual check\n",
    "\n",
    "import matplotlib.pyplot as plt\n",
    "\n",
    "fig, axes = plt.subplots(1,2, figsize=(7,5))\n",
    "axes_list = fig.axes\n",
    "\n",
    "axes_list[0].hist(np.asarray(pops['Exc'].get_initial_value('v')),\n",
    "                  bins = 50,\n",
    "                  cumulative = True)\n",
    "\n",
    "axes_list[0].set_title('CDF of voltage [mV]')\n",
    "\n",
    "axes_list[1].hist(np.asarray(pops['Exc'].get_initial_value('v')),\n",
    "                  density = True,\n",
    "                  bins = 50,\n",
    "                  cumulative = False)\n",
    "\n",
    "\n",
    "axes_list[1].set_title('PDF of voltage [mV]')"
   ]
  },
  {
   "cell_type": "markdown",
   "metadata": {},
   "source": [
    "# synapses types"
   ]
  },
  {
   "cell_type": "code",
   "execution_count": null,
   "metadata": {},
   "outputs": [],
   "source": [
    "# static synapse\n",
    "\n",
    "weights = np.random.normal(loc=0.04, scale=0.01)\n",
    "\n",
    "static_synapse = sim.StaticSynapse(weight=weights, delay=0.5) # weights in [uS] and delay in [ms]\n"
   ]
  },
  {
   "cell_type": "code",
   "execution_count": null,
   "metadata": {},
   "outputs": [],
   "source": [
    "# spike-timinig-dependend plasticity (STDP)\n",
    "\n",
    "do_run = False\n",
    "if do_run:\n",
    "\n",
    "    stdp_synapse = sim.STDPMechanism(\n",
    "                                     timing_dependence=None,\n",
    "                                     weight_dependence=None,\n",
    "                                     voltage_dependence=None,\n",
    "                                     dendritic_delay_fraction=1.0,\n",
    "                                     weight = 0.02, # initial value\n",
    "                                     delay = \"0.5 + 0.01*d\", # distance based delay min_delay + f(distance)\n",
    "                                     )\n"
   ]
  },
  {
   "cell_type": "markdown",
   "metadata": {},
   "source": [
    "# connectors types\n"
   ]
  },
  {
   "cell_type": "code",
   "execution_count": null,
   "metadata": {},
   "outputs": [],
   "source": [
    "# all to all connections\n",
    "\n",
    "connector = sim.AllToAllConnector(allow_self_connections=True) # autapses=True"
   ]
  },
  {
   "cell_type": "code",
   "execution_count": null,
   "metadata": {},
   "outputs": [],
   "source": [
    "# one to one connections\n",
    "\n",
    "connector = sim.OneToOneConnector()"
   ]
  },
  {
   "cell_type": "code",
   "execution_count": null,
   "metadata": {},
   "outputs": [],
   "source": [
    "# stocastic connections\n",
    "\n",
    "prob = 0.25\n",
    "prob = np.random.normal(loc=0.5, scale=0.1)\n",
    "connector = sim.FixedProbabilityConnector(p_connect=prob)"
   ]
  },
  {
   "cell_type": "code",
   "execution_count": null,
   "metadata": {},
   "outputs": [],
   "source": [
    "# fixed number of post synptic neurons randomly taken (from i to j)\n",
    "\n",
    "connector = sim.FixedNumberPostConnector(n = 50, allow_self_connections=True)"
   ]
  },
  {
   "cell_type": "code",
   "execution_count": null,
   "metadata": {},
   "outputs": [],
   "source": [
    "# fixed number of pre synptic neurons randomly taken (from j to i)\n",
    "\n",
    "connector = sim.FixedNumberPreConnector(n = 50, allow_self_connections=True)"
   ]
  },
  {
   "cell_type": "code",
   "execution_count": null,
   "metadata": {},
   "outputs": [],
   "source": [
    "# distance based probability connections\n",
    "\n",
    "d_rule = \"exp(-d)\" # or d_expression = \"d<5\"\n",
    "connector = sim.DistanceDependentProbabilityConnector(d_expression=d_rule)"
   ]
  },
  {
   "cell_type": "code",
   "execution_count": null,
   "metadata": {},
   "outputs": [],
   "source": [
    "# small-world connections\n",
    "\n",
    "do_run = False\n",
    "if do_run:\n",
    "    connector = sim.SmallWorldConnector(\n",
    "                                    degree,\n",
    "                                    rewiring,\n",
    "                                    allow_self_connections=True,\n",
    "                                    safe=True,\n",
    "                                    verbose=False,\n",
    "                                    n_connections=None,\n",
    "                                    )\n"
   ]
  },
  {
   "cell_type": "code",
   "execution_count": null,
   "metadata": {},
   "outputs": [],
   "source": [
    "# list based connections, i.e., [i, j, weight, delay]\n",
    "\n",
    "# one-to-one like list\n",
    "givenList = [[0, 0, 0.08, 1],\n",
    "             [1, 1, 0.08, 1],\n",
    "             [2, 2, 0.08, 1],\n",
    "             [3, 3, 0.08, 1],\n",
    "             [4, 4, 0.08, 1]]\n",
    "             #...\n",
    "\n",
    "sim.FromListConnector(conn_list=givenList)\n"
   ]
  },
  {
   "cell_type": "markdown",
   "metadata": {},
   "source": [
    "# example of a functionS to compute a list for list based connector"
   ]
  },
  {
   "cell_type": "code",
   "execution_count": null,
   "metadata": {},
   "outputs": [],
   "source": [
    "# e.g., list of Distance based Probability Connections with Distance based Delay (DPCDD)"
   ]
  },
  {
   "cell_type": "code",
   "execution_count": null,
   "metadata": {},
   "outputs": [],
   "source": [
    "def compute_CS_list(n_cells_i, n_cells_j, weights, d_thresh, p_thresh, width): \n",
    "    v_c = 0.35 #m/s\n",
    "    d0 = 1 #ms\n",
    "    scale = 1\n",
    "    \n",
    "    connections = {}\n",
    "    probabilities = {}\n",
    "    distances = {}\n",
    "\n",
    "    connections = []\n",
    "    probabilities = []\n",
    "    distances = []\n",
    "    for pre in range(n_cells_i):\n",
    "        for post in range(n_cells_j):\n",
    "            d_ij = np.sqrt((pre - post)**2)\n",
    "            delay = d0 + d_ij / v_c\n",
    "            if d_ij > d_thresh: \n",
    "                distances.append(d_ij)\n",
    "                p_ij = scale*np.exp(-0.5 * (d_ij**2/width**2))\n",
    "                probabilities.append(p_ij)\n",
    "\n",
    "                if p_ij > p_thresh:\n",
    "                    connections.append([pre, post, weights, delay])#, [d_ij, p_ij]])\n",
    "\n",
    "    return connections, distances, probabilities"
   ]
  },
  {
   "cell_type": "code",
   "execution_count": null,
   "metadata": {},
   "outputs": [],
   "source": [
    "# operative example \n",
    "\n",
    "n_cell = {'excitatory': 100, 'inhibitory': 100}\n",
    "weights = {'excitatory': 0.008, 'inhibitory': 0.008}\n",
    "d_thresh = {'excitatory': 0, 'inhibitory': 2} \n",
    "p_thresh = {'excitatory': 0.1, 'inhibitory': 0.1}\n",
    "width = {'excitatory': 1, 'inhibitory': 3}\n",
    "\n",
    "# look particular cases of one-to-one, all-to-all"
   ]
  },
  {
   "cell_type": "code",
   "execution_count": null,
   "metadata": {},
   "outputs": [],
   "source": [
    "connections = {}\n",
    "distances = {}\n",
    "probabilities = {}\n",
    "\n",
    "for synapse_type in ['excitatory', 'inhibitory']:\n",
    "    connections[synapse_type], distances[synapse_type], probabilities[synapse_type] = compute_CS_list(\n",
    "                                                                                                        n_cell[synapse_type], \n",
    "                                                                                                        n_cell[synapse_type], \n",
    "                                                                                                        weights[synapse_type], \n",
    "                                                                                                        d_thresh[synapse_type], \n",
    "                                                                                                        p_thresh[synapse_type],\n",
    "                                                                                                        width[synapse_type])"
   ]
  },
  {
   "cell_type": "code",
   "execution_count": null,
   "metadata": {},
   "outputs": [],
   "source": [
    "# visual check\n",
    "fig, ax = plt.subplots(1,2, figsize=(11,5))\n",
    "fig.tight_layout(pad=3)\n",
    "axes_list = fig.axes\n",
    "\n",
    "axes_list[0].plot(np.asarray(connections['excitatory']).T[0], np.asarray(connections['excitatory']).T[1],'go', label='excitatory')\n",
    "axes_list[0].plot(np.asarray(connections['inhibitory']).T[0], np.asarray(connections['inhibitory']).T[1],'r+', label='inhibitory')\n",
    "axes_list[0].grid()\n",
    "axes_list[0].legend()\n",
    "axes_list[0].set_title('scatter plot of connections')\n",
    "axes_list[0].set_xlabel('i cells')\n",
    "axes_list[0].set_ylabel('j cells')\n",
    "axes_list[0].set_xlim(20,40)\n",
    "axes_list[0].set_ylim(20,40)\n",
    "\n",
    "\n",
    "axes_list[1].plot(distances['excitatory'],probabilities['excitatory'],'g+')\n",
    "axes_list[1].plot(distances['inhibitory'],probabilities['inhibitory'],'r+') \n",
    "axes_list[1].plot(np.arange(0, 50), 1*np.exp(-0.5 * (np.arange(0, 50)**2/width['excitatory']**2)), 'g:')\n",
    "axes_list[1].plot(np.arange(0, 50), 1*np.exp(-0.5 * (np.arange(0, 50)**2/width['inhibitory']**2)), 'r:')\n",
    "axes_list[1].grid()\n",
    "axes_list[1].set_xlim(0,50)\n",
    "axes_list[1].set_ylim(0,1)\n",
    "axes_list[1].axhline(p_thresh['excitatory'], color='k', label='p_threshold', )\n",
    "axes_list[1].set_title('probability as function of distance')\n",
    "axes_list[1].set_xlabel('distance')\n",
    "axes_list[1].set_ylabel('probability')\n",
    "axes_list[1].legend()\n"
   ]
  },
  {
   "cell_type": "code",
   "execution_count": null,
   "metadata": {},
   "outputs": [],
   "source": []
  },
  {
   "cell_type": "markdown",
   "metadata": {},
   "source": [
    "# designing projections"
   ]
  },
  {
   "cell_type": "code",
   "execution_count": null,
   "metadata": {},
   "outputs": [],
   "source": [
    "# make list from center-surround function\n",
    "\n",
    "weight = {('Exc', 'Exc') : 0.08,\n",
    "           ('Exc', 'Inh') : 0.08,\n",
    "           ('Inh', 'Inh') : 0.08,\n",
    "           ('Inh', 'Exc') : 0.8\n",
    "          }\n",
    "\n",
    "d_thresh = {('Exc', 'Exc'): 0, \n",
    "            ('Inh', 'Inh'): 2} \n",
    "\n",
    "p_thresh = {('Exc', 'Exc'): 0.1, \n",
    "            ('Inh', 'Inh'): 0.1}\n",
    "\n",
    "width = {('Exc', 'Exc'): 1, \n",
    "         ('Inh', 'Inh'): 3}\n",
    "\n",
    "connections = {}\n",
    "connections['Exc', 'Exc'], _, _ = compute_CS_list(n_cells['Exc'], n_cells['Exc'], weight['Exc', 'Exc'], d_thresh['Exc', 'Exc'], p_thresh['Exc', 'Exc'], width['Exc', 'Exc'])\n",
    "connections['Inh', 'Inh'], _, _ = compute_CS_list(n_cells['Inh'], n_cells['Inh'], weight['Inh', 'Inh'], d_thresh['Inh', 'Inh'], p_thresh['Inh', 'Inh'], width['Inh', 'Inh'])"
   ]
  },
  {
   "cell_type": "code",
   "execution_count": null,
   "metadata": {},
   "outputs": [],
   "source": [
    "proj = {}\n",
    "\n",
    "\n",
    "proj['Exc', 'Exc'] = sim.Projection(pops['Exc'], pops['Exc'],\n",
    "                                   connector = sim.FromListConnector(connections['Exc', 'Exc']),\n",
    "                                   #synapse_type = sim.StaticSynapse(weight=0.08, delay=1),\n",
    "                                   receptor_type = 'excitatory',\n",
    "                                    #space=<pyNN.space.Space object at 0x7ff8f25a2110>,\n",
    "                                   label = 'exc-exc connections'\n",
    "                                    )\n",
    "\n",
    "proj['Exc', 'Inh'] = sim.Projection(pops['Exc'], pops['Inh'],\n",
    "                                   connector = sim.OneToOneConnector(), \n",
    "                                   synapse_type = sim.StaticSynapse(weight=weight['Exc', 'Inh'], delay=1),\n",
    "                                   receptor_type = 'excitatory',\n",
    "                                    #space=<pyNN.space.Space object at 0x7ff8f25a2110>,\n",
    "                                   label = 'exc-inh connections'\n",
    "                                    )\n",
    "\n",
    "proj['Inh', 'Exc'] = sim.Projection(pops['Inh'], pops['Inh'],\n",
    "                                   connector = sim.FromListConnector(connections['Inh', 'Exc']),\n",
    "                                   #synapse_type = sim.StaticSynapse(weight=0.08, delay=1),\n",
    "                                   receptor_type = 'inhibitory',\n",
    "                                    #space=<pyNN.space.Space object at 0x7ff8f25a2110>,\n",
    "                                   label = 'inh-inh connections'\n",
    "                                    )\n",
    "\n"
   ]
  },
  {
   "cell_type": "code",
   "execution_count": 1,
   "metadata": {},
   "outputs": [
    {
     "ename": "NameError",
     "evalue": "name 'proj' is not defined",
     "output_type": "error",
     "traceback": [
      "\u001b[0;31m---------------------------------------------------------------------------\u001b[0m",
      "\u001b[0;31mNameError\u001b[0m                                 Traceback (most recent call last)",
      "\u001b[0;32m<ipython-input-1-652bbe1cc6f1>\u001b[0m in \u001b[0;36m<module>\u001b[0;34m\u001b[0m\n\u001b[1;32m      1\u001b[0m \u001b[0;31m# add this\u001b[0m\u001b[0;34m\u001b[0m\u001b[0;34m\u001b[0m\u001b[0;34m\u001b[0m\u001b[0m\n\u001b[1;32m      2\u001b[0m \u001b[0;31m# only after run\u001b[0m\u001b[0;34m\u001b[0m\u001b[0;34m\u001b[0m\u001b[0;34m\u001b[0m\u001b[0m\n\u001b[0;32m----> 3\u001b[0;31m \u001b[0mprint\u001b[0m\u001b[0;34m(\u001b[0m\u001b[0mlen\u001b[0m\u001b[0;34m(\u001b[0m\u001b[0mproj\u001b[0m\u001b[0;34m[\u001b[0m\u001b[0;34m'Thalamus'\u001b[0m\u001b[0;34m,\u001b[0m \u001b[0mpop\u001b[0m\u001b[0;34m]\u001b[0m\u001b[0;34m.\u001b[0m\u001b[0mget\u001b[0m\u001b[0;34m(\u001b[0m\u001b[0;34m[\u001b[0m\u001b[0;34m'source'\u001b[0m\u001b[0;34m,\u001b[0m \u001b[0;34m'target'\u001b[0m\u001b[0;34m,\u001b[0m \u001b[0;34m'weight'\u001b[0m\u001b[0;34m,\u001b[0m \u001b[0;34m'delay'\u001b[0m\u001b[0;34m]\u001b[0m\u001b[0;34m,\u001b[0m \u001b[0mformat\u001b[0m\u001b[0;34m=\u001b[0m\u001b[0;34m'list'\u001b[0m\u001b[0;34m)\u001b[0m\u001b[0;34m)\u001b[0m\u001b[0;34m)\u001b[0m\u001b[0;34m\u001b[0m\u001b[0;34m\u001b[0m\u001b[0m\n\u001b[0m\u001b[1;32m      4\u001b[0m \u001b[0;34m\u001b[0m\u001b[0m\n\u001b[1;32m      5\u001b[0m \u001b[0;31m# expected\u001b[0m\u001b[0;34m\u001b[0m\u001b[0;34m\u001b[0m\u001b[0;34m\u001b[0m\u001b[0m\n",
      "\u001b[0;31mNameError\u001b[0m: name 'proj' is not defined"
     ]
    }
   ],
   "source": [
    "# add this\n",
    "# only after run\n",
    "print(len(proj['Thalamus', pop].get(['source', 'target', 'weight', 'delay'], format='list')))\n",
    "\n",
    "# expected\n",
    "connections['Inh', 'Exc'][0:10]"
   ]
  },
  {
   "cell_type": "code",
   "execution_count": null,
   "metadata": {},
   "outputs": [],
   "source": [
    "# space and structure"
   ]
  },
  {
   "cell_type": "markdown",
   "metadata": {},
   "source": [
    "# setting of the stimulus"
   ]
  },
  {
   "cell_type": "code",
   "execution_count": 7,
   "metadata": {},
   "outputs": [
    {
     "ename": "NameError",
     "evalue": "name 'n_cells' is not defined",
     "output_type": "error",
     "traceback": [
      "\u001b[0;31m---------------------------------------------------------------------------\u001b[0m",
      "\u001b[0;31mNameError\u001b[0m                                 Traceback (most recent call last)",
      "\u001b[0;32m<ipython-input-7-8bdb6a2541e2>\u001b[0m in \u001b[0;36m<module>\u001b[0;34m\u001b[0m\n\u001b[1;32m      1\u001b[0m \u001b[0mpopName\u001b[0m \u001b[0;34m=\u001b[0m \u001b[0;34m'Thalamus'\u001b[0m\u001b[0;34m\u001b[0m\u001b[0;34m\u001b[0m\u001b[0m\n\u001b[1;32m      2\u001b[0m \u001b[0;34m\u001b[0m\u001b[0m\n\u001b[0;32m----> 3\u001b[0;31m \u001b[0mn_cells\u001b[0m\u001b[0;34m[\u001b[0m\u001b[0mpopName\u001b[0m\u001b[0;34m]\u001b[0m \u001b[0;34m=\u001b[0m \u001b[0mn_cells\u001b[0m\u001b[0;34m[\u001b[0m\u001b[0;34m'Exc'\u001b[0m\u001b[0;34m]\u001b[0m\u001b[0;34m\u001b[0m\u001b[0;34m\u001b[0m\u001b[0m\n\u001b[0m\u001b[1;32m      4\u001b[0m \u001b[0mspike_times\u001b[0m \u001b[0;34m=\u001b[0m \u001b[0;34m[\u001b[0m\u001b[0;34m[\u001b[0m\u001b[0;34m]\u001b[0m\u001b[0;34m]\u001b[0m\u001b[0;34m*\u001b[0m\u001b[0mn_cells\u001b[0m\u001b[0;34m[\u001b[0m\u001b[0mpopName\u001b[0m\u001b[0;34m]\u001b[0m \u001b[0;31m#list of spike lists, where one spike list is related to one spike source\u001b[0m\u001b[0;34m\u001b[0m\u001b[0;34m\u001b[0m\u001b[0m\n\u001b[1;32m      5\u001b[0m \u001b[0;34m\u001b[0m\u001b[0m\n",
      "\u001b[0;31mNameError\u001b[0m: name 'n_cells' is not defined"
     ]
    }
   ],
   "source": [
    "popName = 'Thalamus'  \n",
    "\n",
    "n_cells[popName] = n_cells['Exc']\n",
    "spike_times = [[]]*n_cells[popName] #list of spike lists, where one spike list is related to one spike source\n",
    "\n",
    "random_sources_idx = [np.random.randint(n_cells[popName]*0.45, n_cells[popName]*0.55) for i in range(n_cells[popName])]\n",
    "\n",
    "for idx, sources in enumerate(random_sources_idx):\n",
    "    spike_times[sources] = [np.random.normal(loc=10, scale=0.01) for n in range(5)]\n",
    "\n",
    "spike_times\n",
    "%matplotlib\n",
    "a = plt.eventplot(spike_times)\n",
    "plt.xlabel('[ms]')\n",
    "plt.ylabel('Thalamic cells')\n",
    "plt.title('Raster plot of input spike sources')\n",
    "\n",
    "#spike_times"
   ]
  },
  {
   "cell_type": "code",
   "execution_count": null,
   "metadata": {},
   "outputs": [],
   "source": [
    "neuron_Model[popName] = sim.SpikeSourceArray(spike_times)\n",
    "\n",
    "pops[popName] = sim.Population(n_cells[popName], \n",
    "                               neuron_Model[popName],\n",
    "                               label = popName)\n",
    "                              # add spatial constraint\n",
    "    \n",
    "proj['Thalamus', 'Exc'] = sim.Projection(pops['Thalamus'], pops['Exc'],\n",
    "               connector = sim.OneToOneConnector(),\n",
    "               synapse_type = sim.StaticSynapse(weight=0.08, delay=1),\n",
    "               receptor_type = 'excitatory',\n",
    "                #space=<pyNN.space.Space object at 0x7ff8f25a2110>,\n",
    "               label = 'thalamus-exc connections'\n",
    "                )"
   ]
  },
  {
   "cell_type": "markdown",
   "metadata": {},
   "source": [
    "# run simulation"
   ]
  },
  {
   "cell_type": "code",
   "execution_count": null,
   "metadata": {},
   "outputs": [],
   "source": [
    "sim.run(time_bins) # time_bins=500 [ms]\n",
    "\n",
    "# wait some minuts..."
   ]
  },
  {
   "cell_type": "markdown",
   "metadata": {},
   "source": [
    "# save results"
   ]
  },
  {
   "cell_type": "code",
   "execution_count": 1,
   "metadata": {},
   "outputs": [
    {
     "ename": "NameError",
     "evalue": "name 'pops' is not defined",
     "output_type": "error",
     "traceback": [
      "\u001b[0;31m---------------------------------------------------------------------------\u001b[0m",
      "\u001b[0;31mNameError\u001b[0m                                 Traceback (most recent call last)",
      "\u001b[0;32m<ipython-input-1-cf448d649a6a>\u001b[0m in \u001b[0;36m<module>\u001b[0;34m\u001b[0m\n\u001b[1;32m      4\u001b[0m \u001b[0;34m\u001b[0m\u001b[0m\n\u001b[1;32m      5\u001b[0m     \u001b[0;31m# save on the notebook\u001b[0m\u001b[0;34m\u001b[0m\u001b[0;34m\u001b[0m\u001b[0;34m\u001b[0m\u001b[0m\n\u001b[0;32m----> 6\u001b[0;31m     \u001b[0moutputs\u001b[0m\u001b[0;34m[\u001b[0m\u001b[0mlayer\u001b[0m\u001b[0;34m]\u001b[0m \u001b[0;34m=\u001b[0m \u001b[0mpops\u001b[0m\u001b[0;34m[\u001b[0m\u001b[0mlayer\u001b[0m\u001b[0;34m]\u001b[0m\u001b[0;34m.\u001b[0m\u001b[0mget_data\u001b[0m\u001b[0;34m(\u001b[0m\u001b[0;34m)\u001b[0m\u001b[0;34m\u001b[0m\u001b[0;34m\u001b[0m\u001b[0m\n\u001b[0m\u001b[1;32m      7\u001b[0m \u001b[0;34m\u001b[0m\u001b[0m\n\u001b[1;32m      8\u001b[0m     \u001b[0;31m#save on local machine\u001b[0m\u001b[0;34m\u001b[0m\u001b[0;34m\u001b[0m\u001b[0;34m\u001b[0m\u001b[0m\n",
      "\u001b[0;31mNameError\u001b[0m: name 'pops' is not defined"
     ]
    }
   ],
   "source": [
    "outputs = {}\n",
    "\n",
    "for layer in ['Exc', 'Inh']:\n",
    "    \n",
    "    # save on the notebook space\n",
    "    outputs[layer] = pops[layer].get_data()\n",
    "    \n",
    "    #save on local machine\n",
    "    for recording in ['v', 'gsyn_inh', 'gsyn_exc', 'spikes']:\n",
    "        pops[layer].write_data(str(layer) + '_' + str(recording) + '.pkl')\n",
    "        "
   ]
  },
  {
   "cell_type": "markdown",
   "metadata": {},
   "source": [
    "# close simulation"
   ]
  },
  {
   "cell_type": "code",
   "execution_count": null,
   "metadata": {},
   "outputs": [],
   "source": [
    "sim.end()"
   ]
  },
  {
   "cell_type": "markdown",
   "metadata": {},
   "source": [
    "# recover results"
   ]
  },
  {
   "cell_type": "code",
   "execution_count": null,
   "metadata": {},
   "outputs": [],
   "source": [
    "def recover_results(outputs):\n",
    "    results = {}\n",
    "    for key in outputs.keys(): # to extract the name of the layer, e.g., Exc, Inh, Thalamus, etc  \n",
    "        # to get voltage and conductances\n",
    "        for analogsignal in outputs[key].segments[0].analogsignals:\n",
    "            #print(analogsignal.name)\n",
    "            results[key, analogsignal.name] = analogsignal\n",
    "\n",
    "        # to get spikes\n",
    "        results[key, 'spikes'] = outputs[key].segments[0].spiketrains\n",
    "    return results"
   ]
  },
  {
   "cell_type": "code",
   "execution_count": null,
   "metadata": {},
   "outputs": [],
   "source": [
    "# check results\n",
    "results = recover_results(outputs)\n",
    "results.keys()"
   ]
  },
  {
   "cell_type": "markdown",
   "metadata": {},
   "source": [
    "# looking the results "
   ]
  },
  {
   "cell_type": "code",
   "execution_count": null,
   "metadata": {},
   "outputs": [],
   "source": [
    "# eventually import pkl file\n",
    "\n",
    "do_run = False\n",
    "\n",
    "if do_run:\n",
    "    import pickle\n",
    "    \n",
    "    #e.g., \n",
    "    with open('Exc_v.pkl', 'rb') as f:\n",
    "            data = pickle.load(f)\n"
   ]
  },
  {
   "cell_type": "code",
   "execution_count": null,
   "metadata": {},
   "outputs": [],
   "source": [
    "# check the spikes\n",
    "\n",
    "fig, axes = plt.subplots(2, 1)\n",
    "fig.tight_layout(pad=5)\n",
    "axes_list = fig.axes\n",
    "\n",
    "for idx, value in enumerate(['Exc', 'Inh']):\n",
    "    axes_list[idx].eventplot(results[value, 'spikes'])\n",
    "    axes_list[idx].set_title('rasterplot of ' + str(value) + ' layer')\n",
    "    axes_list[idx].set_xlabel('[ms]')\n",
    "    axes_list[idx].set_ylabel('cells')\n"
   ]
  },
  {
   "cell_type": "code",
   "execution_count": null,
   "metadata": {},
   "outputs": [],
   "source": [
    "# check the voltage\n",
    "\n",
    "fig, axes = plt.subplots(2, 1)\n",
    "fig.tight_layout(pad=3)\n",
    "\n",
    "axes_list = fig.axes\n",
    "\n",
    "for idx, value in enumerate(['Exc', 'Inh']):\n",
    "    im = axes_list[idx].imshow(results[value, 'v'].T)\n",
    "    axes_list[idx].set_title('voltage of ' + str(value) + ' layer')\n",
    "    axes_list[idx].set_xlabel('time [ms]')\n",
    "    axes_list[idx].set_ylabel('cells')\n",
    "    fig.colorbar(im, ax=axes_list[idx], fraction=0.010, label='[mV]')"
   ]
  },
  {
   "cell_type": "code",
   "execution_count": null,
   "metadata": {},
   "outputs": [],
   "source": [
    "# check the conductances\n",
    "\n",
    "for layer in ['Exc', 'Inh']:\n",
    "    fig, axes = plt.subplots(2, 1)\n",
    "    fig.tight_layout(pad=5)\n",
    "    fig.suptitle(str(layer) + ' layer')\n",
    "    axes_list = fig.axes\n",
    "    \n",
    "    for idx, gsyn in enumerate(['gsyn_exc', 'gsyn_inh']):\n",
    "        im = axes_list[idx].imshow(results[layer, gsyn].T)\n",
    "        axes_list[idx].set_title(str(gsyn))\n",
    "        axes_list[idx].set_xlabel('time [ms]')\n",
    "        axes_list[idx].set_ylabel('cells')\n",
    "        fig.colorbar(im, ax=axes_list[idx], fraction=0.010, label='[uS]')"
   ]
  },
  {
   "cell_type": "markdown",
   "metadata": {},
   "source": [
    "# some excercises\n",
    "- write an equivalent PyNN function, AllToAll etc\n",
    "- find balance, change design projection slot \n",
    "- open ring, close ring\n",
    "- compare cell models\n",
    "- compute statistics, data analysis, frequency domain (FFT, HHT)\n",
    "- take one example from the PyNN website built for nest/neuron and adapt to run on SpiNNaker\n",
    "  http://neuralensemble.org/docs/PyNN/examples.html\n",
    "- inject current topic"
   ]
  },
  {
   "cell_type": "markdown",
   "metadata": {},
   "source": [
    "## Exercises\n",
    "The following exercises are designed to enhance your understanding of PyNN.  You have the option of following the step-by-step instructions in the linked notebooks, or you can try to follow the instructions below each task (this will be harder).\n",
    "\n",
    " - [Task 1: A simple neural network (Easy)](task1.ipynb)\n",
    "    - Create a network with a timestep of 1.0ms consisting of 2 SpikeSourceArray neurons, spiking at 0.0ms and 1.0ms respectively, connected to 2 LIF neurons with a one-to-one connector, using a weight of 5.0nA and a delay of 2.0ms.  Record the spikes and run for 10ms, plotting the spikes after the simulation has completed.\n",
    "    - See the notebook for further extensions.\n",
    " - [Task 2: Synfire Chain (Moderate)](task2.ipynb)\n",
    "    - Create a \"synfire chain\" network from a single Population of 100 neurons using a FromListConnector to connect each neuron to the next neuron in the Population, additionally looping back around from the last to the first.  Use a SpikeSourceArray to stimulate the first neuron in the Population at the start.  Record and plot the spikes after running for 2 seconds.\n",
    "    - See the notebook for further extensions.\n",
    " - [Task 3: Balanced Random Cortex-like Network (Hard)](task3.ipynb)\n",
    "    - Create a \"balanced random network\" with a timestep of 0.1ms consisting of one \"excitatory\" and one \"inhibitory\" Population of LIF neurons with a size in the ratio of 4:1, and stimulate each in a one-to-one fashion using a SpikeSourcePoisson with rate 1000Hz.  Make the excitatory Population send excitatory spikes to itself and the inhibitory Population, and the inhibitory Population send inhibitory spikes to itself and the excitatory population.  Initialize the voltages using a random uniform distribution between -65.0 and -55.0.  Record and plot the spikes from the excitatory Population.\n",
    "    - See the notebook for further extensions.\n",
    " - [Task 4: STDP Network (Moderate)](task4.ipynb)\n",
    "     - Create a network of two single-neuron LIF Populations connected by an STDP connection, which has a tau_plus larger than tau_minus.  Stimulate each of the Populations repeatedly with gaps between stimulations, the first just before the second.  Plot the spikes of each.\n",
    "     - See the notebook for further extensions.\n",
    " - [Task 5: STDP Curve (Hard)](task5.ipynb)\n",
    "     - Create an STDP curve graph using a SpikeSourceArray stimulating a LIF population, with varying spike times for the SpikeSourceArray.\n",
    "     - See the notebook for further extensions.\n"
   ]
  },
  {
   "cell_type": "markdown",
   "metadata": {},
   "source": [
    "# receipt to design your own network\n",
    "    - thalamic input\n",
    "    - sim time and dt\n",
    "    - layers\n",
    "    - dimensions\n",
    "    - connections types\n",
    "    - cell types\n",
    "    - synaptic types\n",
    "    - weigth optimization\n",
    "    - recordings\n",
    "    - visualize and analysis"
   ]
  },
  {
   "cell_type": "markdown",
   "metadata": {},
   "source": [
    "# FAQs"
   ]
  }
 ],
 "metadata": {
  "kernelspec": {
   "display_name": "Python 3",
   "language": "python",
   "name": "python3"
  },
  "language_info": {
   "codemirror_mode": {
    "name": "ipython",
    "version": 3
   },
   "file_extension": ".py",
   "mimetype": "text/x-python",
   "name": "python",
   "nbconvert_exporter": "python",
   "pygments_lexer": "ipython3",
   "version": "3.7.6"
  }
 },
 "nbformat": 4,
 "nbformat_minor": 4
}
